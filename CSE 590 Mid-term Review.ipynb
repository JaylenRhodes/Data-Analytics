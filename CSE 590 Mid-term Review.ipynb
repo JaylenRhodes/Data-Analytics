{
 "cells": [
  {
   "cell_type": "markdown",
   "metadata": {
    "slideshow": {
     "slide_type": "slide"
    }
   },
   "source": [
    "# General Test and Review Advice\n",
    "* The multiple choice portion of the exam will account for 40% of your mid-term grade, while the programming portion will account for 60%.\n",
    "* The multiple choice portion is entirely closed book (taken through Respondus Browser) and primarily will assess your knowledge of major Python constructs and syntax.  Sessions 3-15 (and this review) are most pertinent for this portion.\n",
    "* The programming and analysis portion will require some very basic data cleaning and summarization tasks to be performed.  You will have the option of submitting this using either .ipynb (recommended) or .py format.  Sessions 15-20 are the most pertinent for this portion."
   ]
  },
  {
   "cell_type": "markdown",
   "metadata": {
    "slideshow": {
     "slide_type": "slide"
    }
   },
   "source": [
    "# Topic 1: Flow of Control, Conditions, and Iteration\n",
    "* A crucial aspect to programming is the order in which operations are executed (flow of control).\n",
    "* Like most languages, default execution of statements in Python is linear and in sequential order.\n",
    "* Python control statements enable one to subvert this standard flow of control. \n",
    "    * Selection statements provide the means to execute one or more statements should a condition or conditions be met.\n",
    "    * Iteration statements repeat one or more statements (potentially with modification) should a condition or conditions be met."
   ]
  },
  {
   "cell_type": "markdown",
   "metadata": {
    "slideshow": {
     "slide_type": "subslide"
    }
   },
   "source": [
    "## Selection Statements (Session 3)\n",
    "* Three selection statements that execute code based on a condition—an expression that evaluates to either `True` or `False`: \n",
    "    * `if` performs an action if a condition is `True` or skips the action if the condition is `False`. \n",
    "    * `if`…`else` statement performs an action if a condition is `True` or performs a different action if the condition is `False`. \n",
    "    * `if`…`elif`…`else` statement performs one of many different actions, depending on the truth or falsity of several conditions. \n",
    "* Anywhere a single action can be placed, a group of actions can be placed (make sure you understand how indentation and suites work!). "
   ]
  },
  {
   "cell_type": "code",
   "execution_count": null,
   "metadata": {
    "slideshow": {
     "slide_type": "subslide"
    }
   },
   "outputs": [],
   "source": [
    "#A sample if...elif...else statement in action (see also Boolean Operators on Another Slide)\n",
    "numwins = int(input('Enter the number of games your team won: '))\n",
    "numloss = int(input('Enter the number of games your team lost: '))\n",
    "\n",
    "if (numwins+numloss<1):\n",
    "    print('Are you sure you played any games this season?')    \n",
    "elif (numwins>numloss):\n",
    "    print('Congratulations on the winning season.')\n",
    "elif (numwins==numloss):\n",
    "    print('50/50 is not that bad.')\n",
    "else:\n",
    "    print('A shame -- better luck next season.')"
   ]
  },
  {
   "cell_type": "markdown",
   "metadata": {
    "slideshow": {
     "slide_type": "subslide"
    }
   },
   "source": [
    "## Iteration Statements (Session 3)\n",
    "* In Python, iteration statements perform an action so long as a condition(s) holds _or_ for a finite set of repititions connected to an **iterable** argument.\n",
    "    * The former is addressed by the **while** statement.\n",
    "    * The latter is addressed by the **for** statement.\n",
    "* As with selection statements, a group of actions can be substituted for a single action."
   ]
  },
  {
   "cell_type": "markdown",
   "metadata": {
    "slideshow": {
     "slide_type": "subslide"
    }
   },
   "source": [
    "## `while` Statement\n",
    "* Repeats one or more actions while a condition(s) remains `True`. \n",
    "* To prevent an infinite loop, something in the `while` suite must change the loops evaluating condition to eventually becomes `False`. \n",
    "* Unlike its `for` loop, Python's `while` loop is relatively standard to programming. "
   ]
  },
  {
   "cell_type": "code",
   "execution_count": null,
   "metadata": {
    "slideshow": {
     "slide_type": "subslide"
    }
   },
   "outputs": [],
   "source": [
    "#sample while loop to find the largest power of 2 less than some provided number\n",
    "capnum = int(input('Input a number: I will find the largest power of 2 less than your number: '))\n",
    "product = 1\n",
    "while product*2<capnum:\n",
    "    product = product*2\n",
    "print('The largest power of two less than your number is ' + str(product) + '.')"
   ]
  },
  {
   "cell_type": "markdown",
   "metadata": {
    "slideshow": {
     "slide_type": "subslide"
    }
   },
   "source": [
    "## `for` Statement\n",
    "* The for loop repeat an action or several actions for every item in a sequence of items.\n",
    "* Any **iterable** expression may be used with a `for` loop.\n",
    "* It is akin to **for each** loops in other languages (ex: Java)\n",
    "* Unlike the `while` loop, we generally don't worry about infinite loops with Python's `for` statement.\n",
    "* \"Vanilla\" for loop behavior can be obtained through the use of the `range` generator."
   ]
  },
  {
   "cell_type": "code",
   "execution_count": null,
   "metadata": {
    "slideshow": {
     "slide_type": "subslide"
    }
   },
   "outputs": [],
   "source": [
    "#Remember that the range function's end-interval argument is NOT inclusive\n",
    "#Also make sure you understand how the 1, 2, and 3 argument variations of range work.\n",
    "print ('The positive odd numbers less than 100 are as follows:')\n",
    "for i in range(1, 101, 2):\n",
    "    print(i, end = ' ')\n",
    "    "
   ]
  },
  {
   "cell_type": "markdown",
   "metadata": {
    "slideshow": {
     "slide_type": "subslide"
    }
   },
   "source": [
    "## More on Iterables\n",
    "* The sequence to the right of the `for` statement’s in keyword must be an iterable. \n",
    "* One of the most common iterables is a list, which is a comma-separated collection of items enclosed in square brackets (`[` and `]`). \n",
    "* Remember that many other structures and expressions (ex: strings, can also be used)"
   ]
  },
  {
   "cell_type": "code",
   "execution_count": null,
   "metadata": {
    "slideshow": {
     "slide_type": "subslide"
    }
   },
   "outputs": [],
   "source": [
    "#Using a list as an iterable\n",
    "for number in [2, -3, 0, 17, 9]:\n",
    "    total = total + number\n",
    "print(total)    "
   ]
  },
  {
   "cell_type": "code",
   "execution_count": null,
   "metadata": {
    "slideshow": {
     "slide_type": "fragment"
    }
   },
   "outputs": [],
   "source": [
    "#Using a string as an iterable\n",
    "for char in 'apple':\n",
    "    print(char)\n",
    "    "
   ]
  },
  {
   "cell_type": "markdown",
   "metadata": {
    "slideshow": {
     "slide_type": "subslide"
    }
   },
   "source": [
    "## Other Elements Related to Topic 1 (Session 4)\n",
    "* You should have a basic idea of the follow syntax and concepts:\n",
    "    * `break` and `continue` statements \n",
    "    * `and`, `or`, and `not` operators\n",
    "    *  /, //, and %\n",
    "    * Operator precedence"
   ]
  },
  {
   "cell_type": "code",
   "execution_count": null,
   "metadata": {
    "slideshow": {
     "slide_type": "subslide"
    }
   },
   "outputs": [],
   "source": [
    "inpcount = 0; sum = 0;\n",
    "while True:\n",
    "    curinput = int(input('Enter a minimum of three positive integers to sum (enter 0 to quit): '))\n",
    "    if curinput>0:\n",
    "        inpcount +=1;\n",
    "        sum+=curinput\n",
    "    if (inpcount >=3) and (curinput == 0):\n",
    "        break;    \n",
    "print(sum)"
   ]
  },
  {
   "cell_type": "markdown",
   "metadata": {
    "slideshow": {
     "slide_type": "slide"
    }
   },
   "source": [
    "# Topic 2: Functions\n",
    "* A function is a block of code devoted a particular task or set of tasks.\n",
    "* It may or may not have input parameters, and may or may not return an output parameter.\n",
    "* Functions can themselves be passed as arguments to other functions (Higher Order Functions)\n",
    "* Many basic mathematical, programmatic, and logical operations already have an efficiently written implementation (AKA don't reinvent the wheel.)\n"
   ]
  },
  {
   "cell_type": "markdown",
   "metadata": {
    "slideshow": {
     "slide_type": "subslide"
    }
   },
   "source": [
    "## Function Basics (Session 5)\n",
    "* Definition begins with the (**`def` keyword**, followed by the function name, a set of parentheses and a colon (`:`). \n",
    "* By convention function names should begin with a lowercase letter and in multiword names underscores should separate each word. \n",
    "* Required parentheses contain the function’s **parameter list**.\n",
    "* Empty parentheses mean no parameters. \n",
    "* The indented lines after the colon (`:`) are the function’s **block** -- a special kind of suite.\n",
    "* Functions are invoked using their name and appropriate expressions to be passed as parameters.\n"
   ]
  },
  {
   "cell_type": "code",
   "execution_count": null,
   "metadata": {
    "slideshow": {
     "slide_type": "subslide"
    }
   },
   "outputs": [],
   "source": [
    "def sayhello():\n",
    "    print(\"Hello.  It's nice to meet you.\")\n",
    "\n",
    "for i in range(0,3):\n",
    "    sayhello()"
   ]
  },
  {
   "cell_type": "markdown",
   "metadata": {
    "slideshow": {
     "slide_type": "subslide"
    }
   },
   "source": [
    "## Functions and Scope (Session 5)\n",
    "* Parameters exist only during the function call. \n",
    "* They are created on each call to a function that has parameters.\n",
    "* They are then destroyed when the function returns its result to the caller. \n",
    "* A function’s parameters and variables defined in its block are all **local variables**."
   ]
  },
  {
   "cell_type": "code",
   "execution_count": null,
   "metadata": {
    "slideshow": {
     "slide_type": "subslide"
    }
   },
   "outputs": [],
   "source": [
    "def minval(value1, value2, value3):\n",
    "    \"\"\"Return the minimum of three values.\"\"\"\n",
    "    minval = value1\n",
    "    if value2<minval:\n",
    "        minval = value2\n",
    "    if value3<minval:\n",
    "        minval = value3\n",
    "    return minval\n",
    "\n",
    "print(minval(5, -10, 7))"
   ]
  },
  {
   "cell_type": "markdown",
   "metadata": {
    "slideshow": {
     "slide_type": "subslide"
    }
   },
   "source": [
    "## Other Details Relevant to Topic 2 (Sessions 5 and 6)\n",
    "* You should have a basic idea about the following:\n",
    "    * Methods (functions called from an object)\n",
    "    * Importing functions from modules\n",
    "    * Random number generation (e.g. `randrange`)\n",
    "    * matplotlib (just its general purpose)\n",
    "    * default parameter values"
   ]
  },
  {
   "cell_type": "code",
   "execution_count": null,
   "metadata": {
    "slideshow": {
     "slide_type": "subslide"
    }
   },
   "outputs": [],
   "source": [
    "def computeArea(radius=1): #default assumption is a unit radius circle\n",
    "    return 3.14159*radius**2\n",
    "\n",
    "print(computeArea(10))\n",
    "print(computeArea())\n"
   ]
  },
  {
   "cell_type": "code",
   "execution_count": null,
   "metadata": {
    "slideshow": {
     "slide_type": "fragment"
    }
   },
   "outputs": [],
   "source": [
    "from random import randrange\n",
    "inp = 'y'\n",
    "while inp == 'y':\n",
    "    print(f'Rolling the Die: {randrange(1,7)}')\n",
    "    inp = input('Roll again? (y/n): ')"
   ]
  },
  {
   "cell_type": "markdown",
   "metadata": {
    "slideshow": {
     "slide_type": "slide"
    }
   },
   "source": [
    "# Topic 3: Lists, Tuples, and Sets\n",
    "* Lists, tuples, and sets are among the most fundamental data structures in Python\n",
    "* All three store **collections** of elements, but each has specific properties that set it apart from the other two.\n",
    "* All three structures can store _heterogenous_ objects -- that is, a mixture of different data types and objects.\n",
    "* All three allow for easy construction using one of the other two types."
   ]
  },
  {
   "cell_type": "markdown",
   "metadata": {
    "slideshow": {
     "slide_type": "subslide"
    }
   },
   "source": [
    "## List Basics (Sessions 6-7)\n",
    "* Lists are the most fundamental **mutable** collection data type in Python -- that is, elements may be added, deleted, or modified at any time.\n",
    "* Comma-separated elements within square brackets `[ele1, ele2, etc.]` provide the standard means of creating a list with a given set of elements\n",
    "* An empty list may be created using empty square brackets\n",
    "* Any iterable expression may be used in constructing a list (including tuples or sets)\n",
    "* Simple arithmetic and assignment operators can be used to combine lists (ex: `+` to concatenate)\n",
    "* See also section below regarding list comprehensions"
   ]
  },
  {
   "cell_type": "code",
   "execution_count": null,
   "metadata": {
    "slideshow": {
     "slide_type": "subslide"
    }
   },
   "outputs": [],
   "source": [
    "list1 = [1, 2, 3, 4] #a list of integers\n",
    "list2 = ['alpha','beta','gamma'] #a list of strings\n",
    "list3 = [] #an empty list\n",
    "listcomb = list1+list2+list3 #concatenate the three lists\n",
    "print(listcomb)"
   ]
  },
  {
   "cell_type": "code",
   "execution_count": null,
   "metadata": {
    "slideshow": {
     "slide_type": "fragment"
    }
   },
   "outputs": [],
   "source": [
    "mytuple = (1, 4, 9)\n",
    "mylist = list(mytuple) #construct a list using tuple's elements\n",
    "print(mytuple)\n",
    "print(mylist)"
   ]
  },
  {
   "cell_type": "markdown",
   "metadata": {
    "slideshow": {
     "slide_type": "subslide"
    }
   },
   "source": [
    "## List Operations (Session 6)\n",
    "* While you need not know every operation or method available to a list off-hand, you should at the minimum know the following:\n",
    "    * `index` returns the first indexed location of an object in a list, while `in` may be used to test if a particular element is **(remember that `in` can be used with a variety of other data structures in Python as well!)**\n",
    "    * `remove` deletes the first instance of a given item in a list.\n",
    "    * `append` is used to add a single element to a list, while `extend` adds an iterable expression to a list element by element.\n",
    "    * `copy` is used to create a shallow copy of a list such that its top-level objects are duplicates of the original list (compare this to assignment operator!)"
   ]
  },
  {
   "cell_type": "code",
   "execution_count": null,
   "metadata": {
    "slideshow": {
     "slide_type": "subslide"
    }
   },
   "outputs": [],
   "source": [
    "mynums = [1, 1, 2, 3, 5, 8, 1]\n",
    "print(mynums.index(3)) #find position of 3 in list\n",
    "mynums.remove(1) #removes first instance of 1 in list\n",
    "print(mynums)\n",
    "mynums.append(13)\n",
    "print(mynums)"
   ]
  },
  {
   "cell_type": "code",
   "execution_count": null,
   "metadata": {
    "slideshow": {
     "slide_type": "fragment"
    }
   },
   "outputs": [],
   "source": [
    "mynumsV2 = mynums\n",
    "mynumsV3 = mynums.copy()\n",
    "mynums[0] = 10\n",
    "mynumsV2[1] = 20\n",
    "mynumsV3[2] = 30\n",
    "print(mynums)\n",
    "print(mynumsV2)\n",
    "print(mynumsV3)"
   ]
  },
  {
   "cell_type": "markdown",
   "metadata": {
    "slideshow": {
     "slide_type": "subslide"
    }
   },
   "source": [
    "## Indexing via Slices (Session 7)\n",
    "* Slices may be used to index a specific range of elements in a list (for access or assignment)\n",
    "* Make sure you are comfortable with the three arguments  of slicing index syntax (**\\[arg1:arg2:arg3\\]**)\n",
    "    * If present, the first argument indicates the initial index for the slice (default of 0)\n",
    "    * If present, the second argument indicates the final index for the slice (exclusive, default is the length of the list)\n",
    "    * If present, the third argument provides a step-size (default of 1)\n",
    "    * Remember that negative step-sizes can be used for reverse indexing.\n",
    "* Slices may be used (albeit to a limited extent) with other structures."
   ]
  },
  {
   "cell_type": "code",
   "execution_count": null,
   "metadata": {
    "slideshow": {
     "slide_type": "subslide"
    }
   },
   "outputs": [],
   "source": [
    "mysquares = [1, 4, 9, 16, 25, 36]\n",
    "print(mysquares[3:]) #all elements at position 3+\n",
    "print(mysquares[:3]) #all elements up to (but not including) position 3\n",
    "print(mysquares[::-2]) #every other element in reverse order \n"
   ]
  },
  {
   "cell_type": "code",
   "execution_count": null,
   "metadata": {
    "slideshow": {
     "slide_type": "fragment"
    }
   },
   "outputs": [],
   "source": [
    "mywords = ['It', 'is', 'a', 'quiet', 'evening']\n",
    "mywords[3:5] = ['bustling', 'morning'] #Using slice notation with assignment\n",
    "print(mywords)"
   ]
  },
  {
   "cell_type": "markdown",
   "metadata": {
    "slideshow": {
     "slide_type": "subslide"
    }
   },
   "source": [
    "## List Comprehensions (Session 9)\n",
    "* List comprehensions provide a crucial means for applying a iteration mechanism **and** conditions while constructing a list\n",
    "* In constructing a new list, the simplest list comprehension format we can use is \\<list_name\\>=\\[item `for` item in \\<iterable expression\\>\\]\n",
    "* We can include an `if` clause to include a condition that selects items from the iterable expression.\n",
    "* List comprehensions with the appropriate constructors provide a convenient means of constructing _other_ collection types using comprehensions"
   ]
  },
  {
   "cell_type": "code",
   "execution_count": null,
   "metadata": {
    "slideshow": {
     "slide_type": "subslide"
    }
   },
   "outputs": [],
   "source": [
    "mybase = [1, 2, 3, 5, 8, 13]\n",
    "mytriples = [3*item for item in mybase] #list comprehension using another list\n",
    "print(mytriples)"
   ]
  },
  {
   "cell_type": "code",
   "execution_count": null,
   "metadata": {
    "slideshow": {
     "slide_type": "fragment"
    }
   },
   "outputs": [],
   "source": [
    "myevensquares = [newitem**2 for newitem in range(1,11) if newitem%2 == 0]\n",
    "print(myevensquares)"
   ]
  },
  {
   "cell_type": "code",
   "execution_count": null,
   "metadata": {
    "slideshow": {
     "slide_type": "fragment"
    }
   },
   "outputs": [],
   "source": [
    "mynumset = set([item//3 for item in range(0,20)]) #Creating a set using list comprehension\n",
    "print(mynumset)\n"
   ]
  },
  {
   "cell_type": "markdown",
   "metadata": {
    "slideshow": {
     "slide_type": "subslide"
    }
   },
   "source": [
    "## Tuples (Session 7)\n",
    "* Tuples are effectively immutable (cannot be changed after creation) lists.\n",
    "* Tuples are constructed using either parentheses `()` or the `tuple` keyword.\n",
    "* Single element tuples include a trailing `,`\n",
    "* Multi-argument return arguments from functions are often handled using tuples."
   ]
  },
  {
   "cell_type": "code",
   "execution_count": null,
   "metadata": {
    "slideshow": {
     "slide_type": "subslide"
    }
   },
   "outputs": [],
   "source": [
    "mytuple1 = (1, 2, 3) #tuple constructed using standard parenthetical construction\n",
    "mytuple2 = tuple(['a', 'b', 'c']) #tuple constructed from list\n",
    "mytuple3 = (1,) #single element tuple\n",
    "print(mytuple1)\n",
    "print(mytuple2)\n",
    "print(mytuple3)\n"
   ]
  },
  {
   "cell_type": "code",
   "execution_count": null,
   "metadata": {
    "slideshow": {
     "slide_type": "fragment"
    }
   },
   "outputs": [],
   "source": [
    "mytuplecomb = mytuple1 + mytuple2\n",
    "print(mytuplecomb) #creating a new tuple through concatenation is acceptable"
   ]
  },
  {
   "cell_type": "code",
   "execution_count": null,
   "metadata": {
    "slideshow": {
     "slide_type": "fragment"
    }
   },
   "outputs": [],
   "source": [
    "mytuple[2] = 'z' #but modifying an existing tuple is not!"
   ]
  },
  {
   "cell_type": "markdown",
   "metadata": {
    "slideshow": {
     "slide_type": "subslide"
    }
   },
   "source": [
    "## Sets (Sessions 11-12)\n",
    "* Set are **unordered** collections consisting of **unique values**. \n",
    "* Sets may only contain **immutable objects**, like strings, `int`s, `float`s and tuples that contain only immutable elements. \n",
    "* Unlike lists, sets do not support indexing and slicing. \n",
    "* Set creation is similar to that of lists or tuples, but uses curly braces.\n",
    "    * **An empty set must be created using `set()` notation, since {} denotes an empty dictionary.**\n",
    "* You should be familiar with the following operations in references to sets: `in`, `len`, `union`, `intersection`, `difference`, `add`, `remove`"
   ]
  },
  {
   "cell_type": "code",
   "execution_count": null,
   "metadata": {
    "slideshow": {
     "slide_type": "subslide"
    }
   },
   "outputs": [],
   "source": [
    "workproj1 = {'Mon','Wed','Fri'} #set creation using braces\n",
    "workproj2 = set(['Tue','Wed','Thu']) #set creation using constructor\n",
    "busydays = workproj1.union(workproj2) #Note this is effectively taking the union!\n",
    "print(busydays) #Note that the resulting set has arbitrary order of elements!\n",
    "print('Wed' in busydays)\n",
    "print('Sat' in busydays)\n"
   ]
  },
  {
   "cell_type": "code",
   "execution_count": null,
   "metadata": {
    "slideshow": {
     "slide_type": "fragment"
    }
   },
   "outputs": [],
   "source": [
    "workproj2.remove('Thu')\n",
    "workproj2.add('Fri')\n",
    "print(workproj1)\n",
    "print(workproj2)\n",
    "proj1solo = workproj1.difference(workproj2) #all days in first set but not in second\n",
    "print(proj1solo)"
   ]
  },
  {
   "cell_type": "markdown",
   "metadata": {
    "slideshow": {
     "slide_type": "slide"
    }
   },
   "source": [
    "# Topic 4: Dictionaries\n",
    "* A **dictionary** is an _unordered_ collection which stores **key–value pairs** that map immutable keys to values, just as a conventional dictionary maps words to definitions. \n",
    "* While each **key** is associated with a single **value**, values may themselves be any arbitrary structure or collection. \n",
    "* Key representation has some flexibility, but each must be _immutable_ and unique."
   ]
  },
  {
   "cell_type": "markdown",
   "metadata": {
    "slideshow": {
     "slide_type": "subslide"
    }
   },
   "source": [
    "## Dictionary Basics (Session 10)\n",
    "* Create a dictionary by enclosing in curly braces, `{pair1, pair2, etc.}`, a comma-separated list of key–value pairs, each of the form _key_: _value_.  \n",
    "* Dictionaries are considered to be _unordered_ collections, and the convention is that code not be written that depends upon key order.\n",
    "* Use bracket notation with a key-name to access the corresponding value or create a new pairing using the assignment operator.\n",
    "* We can use dictionary method `keys` to return an iterable of all keys in a dictionary or `values` to return an iterable of all values.\n",
    "* Alternatively, dictionary method `items` returns each key–value pair as a tuple."
   ]
  },
  {
   "cell_type": "code",
   "execution_count": null,
   "metadata": {
    "slideshow": {
     "slide_type": "subslide"
    }
   },
   "outputs": [],
   "source": [
    "SpringCourses = {} #empty dictionary\n",
    "SpringCourses['Karem'] = ('CSE302','CSE310','CSE590') #Create a new key-value pair\n",
    "SpringCourses['Narovsky'] = ('MAT403','MAT425') #Create another key-value pair\n",
    "print(f'{\"Instructor\":>20}{\"Course\":>20}') \n",
    "for ins,courses in SpringCourses.items(): #Iterate over key-value pairs\n",
    "    for course in courses: #Iterate over tuple of courses\n",
    "        print(f'{ins:>20}{course:>20}')"
   ]
  },
  {
   "cell_type": "markdown",
   "metadata": {
    "slideshow": {
     "slide_type": "subslide"
    }
   },
   "source": [
    "## Views and Other Dictionary operations (Session 10-11)\n",
    "* Methods `items`, `keys` and `values` each return a **view** of a dictionary’s data. \n",
    "    * When you iterate over a **`view`**, it “sees” the dictionary’s **current contents**—it does **not** have its own copy of the data.\n",
    "* The safest way to retrieve keys in sorted order is to run the `sorted` function on the keys, which will return an in-order iterable based on element type.\n",
    "* You should also be familiar with `len`, `del`, `get`, and `in` in the context of dictionaries.\n",
    "    * Some operations have nuances with dictionaries that are not present with simpler collections (Ex: recall that `in` only looks at _keys_ and not _values_)"
   ]
  },
  {
   "cell_type": "code",
   "execution_count": null,
   "metadata": {
    "slideshow": {
     "slide_type": "subslide"
    }
   },
   "outputs": [],
   "source": [
    "dayweek = {'Sun':1,'Mon':2,'Tue':3, 'Wed':3,'Thu':5,'Fri':6, 'Sat':7}\n",
    "print('Sun' in dayweek)\n",
    "print(1 in dayweek)\n",
    "print(1 in dayweek.values())\n",
    "\n"
   ]
  },
  {
   "cell_type": "code",
   "execution_count": null,
   "metadata": {
    "slideshow": {
     "slide_type": "fragment"
    }
   },
   "outputs": [],
   "source": [
    "dwitems = dayweek.items()\n",
    "dayweek['Wed'] = 4\n",
    "for dname,day in dwitems:\n",
    "    print(f'Day {day}: {dname}')"
   ]
  },
  {
   "cell_type": "markdown",
   "metadata": {
    "slideshow": {
     "slide_type": "slide"
    }
   },
   "source": [
    "# Topic 5: NumPy Arrays and Pandas Dataframes\n",
    "* NumPy arrays provide the preferred high-performance and efficient Python array representation.\n",
    "    * Array processing is much faster than list processing.\n",
    "    * Arrays can have an arbtrary number of dimensions.\n",
    "* Pandas `series` and `dataframes` are ideal for addressing heterogenous data and multiple variables in data\n",
    "    * The Pandas structures are built using numPy arrays as a basis.\n",
    "    * They generally include much more intuitive methods of accessing data and performing analysis.\n",
    "* Note: most dataframe manipulation and analysis will be addressed in the programming portion of the test -- if you have not reviewed Session 20, it is **highly recommended** that you do so. "
   ]
  },
  {
   "cell_type": "markdown",
   "metadata": {
    "slideshow": {
     "slide_type": "subslide"
    }
   },
   "source": [
    "## Array Basics (Session 12)\n",
    "\n",
    "* NumPy arrays are usually generated from existing data structures using the **`array`** function, whose argument must be an `array` or other iterable.\n",
    "* The result is a **new** `array` containing the argument’s elements.\n",
    "* Array access is similar to that of lists (i.e. via brackets)\n",
    "    * Slice notation is also available.\n",
    "* The `.dtype` method indicates the data type of the array, while `ndim` and `shape` detail the dimensions and shape of the array"
   ]
  },
  {
   "cell_type": "code",
   "execution_count": null,
   "metadata": {
    "slideshow": {
     "slide_type": "subslide"
    }
   },
   "outputs": [],
   "source": [
    "import numpy as np\n",
    "myarray = np.zeros((4,5)) #a 4 by 5 array of zeros\n",
    "for i in range(0,myarray.shape[0]):\n",
    "    for j in (range(0,myarray.shape[1])):\n",
    "        myarray[i][j] = i**2 + j #make array assignments based on looping values\n",
    "print(myarray)        \n"
   ]
  },
  {
   "cell_type": "markdown",
   "metadata": {
    "slideshow": {
     "slide_type": "subslide"
    }
   },
   "source": [
    "## Other Array Operations (Session 13)\n",
    "* At a minimum, you should be familiar with the following array concepts/operations:\n",
    "    * Array **broadcasting**\n",
    "    * How comparators (==, >, etc.) work with arrays\n",
    "    * Numpy Standard calculation methods (`mean`, `max`, etc.) \n"
   ]
  },
  {
   "cell_type": "code",
   "execution_count": null,
   "metadata": {
    "slideshow": {
     "slide_type": "subslide"
    }
   },
   "outputs": [],
   "source": [
    "myarr1 = np.array([1, 4, 9 , 16, 25])\n",
    "myarr2 = np.array([2, 2, 2 , 2, 2])\n",
    "print(myarr1*myarr2) #multiplying  by a uniform array of equal size\n",
    "print(myarr1*2) #broadcasting with a scalar has the same effect"
   ]
  },
  {
   "cell_type": "code",
   "execution_count": null,
   "metadata": {
    "slideshow": {
     "slide_type": "fragment"
    }
   },
   "outputs": [],
   "source": [
    "print(myarr1>myarr2) #element-wise comparison between 2 arrays"
   ]
  },
  {
   "cell_type": "code",
   "execution_count": null,
   "metadata": {
    "slideshow": {
     "slide_type": "fragment"
    }
   },
   "outputs": [],
   "source": [
    "print(myarr1.mean())"
   ]
  },
  {
   "cell_type": "markdown",
   "metadata": {
    "slideshow": {
     "slide_type": "subslide"
    }
   },
   "source": [
    "## pandas `Series` (Session 14)\n",
    "* A pandas series is effectively an enhanced one-dimensional `array`\n",
    "* It supports custom indexing, including even non-integer indices like strings\n",
    "* Offers additional capabilities that make them more convenient for many data-science oriented tasks\n",
    "    * `Series` may have missing data\n",
    "    * Many `Series` operations ignore missing data by default\n",
    "* The `pd.Series` constructor can be used to create a series from any iterable"
   ]
  },
  {
   "cell_type": "code",
   "execution_count": null,
   "metadata": {
    "slideshow": {
     "slide_type": "subslide"
    }
   },
   "outputs": [],
   "source": [
    "import pandas as pd\n",
    "myseries = pd.Series([10, 7.5, 5, 2.5, 0])\n",
    "print(myseries)\n"
   ]
  },
  {
   "cell_type": "code",
   "execution_count": null,
   "metadata": {
    "slideshow": {
     "slide_type": "fragment"
    }
   },
   "outputs": [],
   "source": [
    "print(myseries.describe())"
   ]
  },
  {
   "cell_type": "markdown",
   "metadata": {
    "slideshow": {
     "slide_type": "subslide"
    }
   },
   "source": [
    "## pandas `DataFrames` (Session 15)\n",
    "\n",
    "* `Dataframes` provide an enhanced two-dimensional `array` structure.\n",
    "* They offer additional operations and capabilities that make them fundamental for many data-science oriented tasks\n",
    "* Support missing data (important for real world considerations)\n",
    "* Each column in a `DataFrame` is a `Series`\n",
    "* The two principal ways we have observed data-frame creation are via\n",
    "    * The  `pd.DataFrame` constructor with a dictionary argument\n",
    "    * Loading from a `csv` file using `pd.read_csv`"
   ]
  },
  {
   "cell_type": "code",
   "execution_count": null,
   "metadata": {
    "slideshow": {
     "slide_type": "subslide"
    }
   },
   "outputs": [],
   "source": [
    "import pandas as pd\n",
    "fiscal_dict = {'Tr Type': ['Purchase', 'Sales', 'Sales', 'Rental'], 'Item/Svc Code': ['001AB', '1CCC9', 'QX900','TM211'],\n",
    "               'Credit/Debit': [-900.32, 2000.35, -540.53, -412.12], 'Units': [200, 1000, 15, 1]}\n",
    "fiscal_df = pd.DataFrame(fiscal_dict) #dataframe with homogenous data\n",
    "print(fiscal_df)"
   ]
  },
  {
   "cell_type": "code",
   "execution_count": null,
   "metadata": {
    "slideshow": {
     "slide_type": "fragment"
    }
   },
   "outputs": [],
   "source": [
    "print(fiscal_df.describe())"
   ]
  },
  {
   "cell_type": "code",
   "execution_count": null,
   "metadata": {},
   "outputs": [],
   "source": []
  }
 ],
 "metadata": {
  "celltoolbar": "Slideshow",
  "kernelspec": {
   "display_name": "Python 3",
   "language": "python",
   "name": "python3"
  },
  "language_info": {
   "codemirror_mode": {
    "name": "ipython",
    "version": 3
   },
   "file_extension": ".py",
   "mimetype": "text/x-python",
   "name": "python",
   "nbconvert_exporter": "python",
   "pygments_lexer": "ipython3",
   "version": "3.9.4"
  }
 },
 "nbformat": 4,
 "nbformat_minor": 4
}
