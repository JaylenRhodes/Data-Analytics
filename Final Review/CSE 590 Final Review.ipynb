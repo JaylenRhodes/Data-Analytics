{
 "cells": [
  {
   "cell_type": "markdown",
   "metadata": {
    "slideshow": {
     "slide_type": "slide"
    }
   },
   "source": [
    "# General Test and Review Advice\n",
    "* The multiple choice portion of the exam will account for 40% of your grade on the Final, while the programming portion will account for 60%.\n",
    "* The multiple choice portion is entirely closed book (taken through Respondus Browser) and primarily will assess your knowledge of major Python syntax, NLP, and Machine Learning libraries .  Sessions 22-27, 30-38 (and this review) are most pertinent for this portion.\n",
    "* The programming and analysis portion will consist of three major aspects: NLP processing of text, a simple supervised learning task, and some visualization of results."
   ]
  },
  {
   "cell_type": "markdown",
   "metadata": {
    "slideshow": {
     "slide_type": "slide"
    }
   },
   "source": [
    "# Topic 1: Object-Oriented Programming (Sessions 22-23)\n",
    "* Object-Oriented Programming is a paradigm in which the focus of software engineering is to compartmentalize program responsibilities and behavior to individual \"entities\" (generally referred to as classes/objects).\n",
    "* In general, the **class** defines a blueprint from which any number of **objects** (or instances of the particular class) may be constructed.  \n",
    "    * Consider the conceptual class _car_ which provides a single blueprint (general guidelines and qualities) for actual instances of the purportedly 1.4 billion _car_ objects in the world, each of which has varying makes, models, and other qualities. \n",
    "* Object variables (**attributes**) representing the state of a particular object (its characteristics, etc.)\n",
    "* Object functions (**methods**) represent specific behaviors the object can perform."
   ]
  },
  {
   "cell_type": "code",
   "execution_count": 2,
   "metadata": {
    "slideshow": {
     "slide_type": "subslide"
    }
   },
   "outputs": [],
   "source": [
    "# account.py\n",
    "\"\"\"Account class definition.\"\"\"\n",
    "from decimal import Decimal\n",
    "\n",
    "class Account:\n",
    "    \"\"\"Account class for maintaining a bank account balance.\"\"\"\n",
    "    \n",
    "    def __init__(self, name, balance):\n",
    "        \"\"\"Initialize an Account object.\"\"\"\n",
    "\n",
    "        # if balance is less than 0.00, raise an exception\n",
    "        if balance < Decimal('0.00'):\n",
    "            raise ValueError('Initial balance must be >= to 0.00.')\n",
    "\n",
    "        self.name = name\n",
    "        self.balance = balance\n",
    "\n",
    "    def deposit(self, amount):\n",
    "        \"\"\"Deposit money to the account.\"\"\"\n",
    "\n",
    "        # if amount is less than 0.00, raise an exception\n",
    "        if amount < Decimal('0.00'):\n",
    "            raise ValueError('amount must be positive.')\n",
    "\n",
    "        self.balance += amount"
   ]
  },
  {
   "cell_type": "code",
   "execution_count": 3,
   "metadata": {
    "slideshow": {
     "slide_type": "subslide"
    }
   },
   "outputs": [],
   "source": [
    "accounts =[]\n",
    "accounts.append(Account('John Green', Decimal('50.00')))\n",
    "accounts.append(Account('Marsha Braeburn', Decimal('100000.00')))\n",
    "accounts.append(Account('Pat Arkthen', Decimal('753.00')))\n"
   ]
  },
  {
   "cell_type": "code",
   "execution_count": 4,
   "metadata": {},
   "outputs": [
    {
     "name": "stdout",
     "output_type": "stream",
     "text": [
      "   Account Name        Balance\n",
      "     John Green          50.00\n",
      "Marsha Braeburn      100000.00\n",
      "    Pat Arkthen         753.00\n"
     ]
    }
   ],
   "source": [
    "print(f'{\"Account Name\":>15}{\"Balance\":>15}')\n",
    "for acct in accounts:\n",
    "    print(f'{acct.name:>15}{acct.balance:>15}')\n",
    "    "
   ]
  },
  {
   "cell_type": "code",
   "execution_count": 5,
   "metadata": {},
   "outputs": [
    {
     "name": "stdout",
     "output_type": "stream",
     "text": [
      "1050.00\n"
     ]
    }
   ],
   "source": [
    "accounts[0].deposit(Decimal(1000))\n",
    "print(accounts[0].balance)"
   ]
  },
  {
   "cell_type": "code",
   "execution_count": 6,
   "metadata": {},
   "outputs": [
    {
     "ename": "ValueError",
     "evalue": "amount must be positive.",
     "output_type": "error",
     "traceback": [
      "\u001b[1;31m---------------------------------------------------------------------------\u001b[0m",
      "\u001b[1;31mValueError\u001b[0m                                Traceback (most recent call last)",
      "\u001b[1;32m<ipython-input-6-f9039e8647ed>\u001b[0m in \u001b[0;36m<module>\u001b[1;34m\u001b[0m\n\u001b[1;32m----> 1\u001b[1;33m \u001b[0maccounts\u001b[0m\u001b[1;33m[\u001b[0m\u001b[1;36m0\u001b[0m\u001b[1;33m]\u001b[0m\u001b[1;33m.\u001b[0m\u001b[0mdeposit\u001b[0m\u001b[1;33m(\u001b[0m\u001b[0mDecimal\u001b[0m\u001b[1;33m(\u001b[0m\u001b[1;33m-\u001b[0m\u001b[1;36m1000\u001b[0m\u001b[1;33m)\u001b[0m\u001b[1;33m)\u001b[0m\u001b[1;33m\u001b[0m\u001b[1;33m\u001b[0m\u001b[0m\n\u001b[0m",
      "\u001b[1;32m<ipython-input-2-b7c8d62e565c>\u001b[0m in \u001b[0;36mdeposit\u001b[1;34m(self, amount)\u001b[0m\n\u001b[0;32m     21\u001b[0m         \u001b[1;31m# if amount is less than 0.00, raise an exception\u001b[0m\u001b[1;33m\u001b[0m\u001b[1;33m\u001b[0m\u001b[1;33m\u001b[0m\u001b[0m\n\u001b[0;32m     22\u001b[0m         \u001b[1;32mif\u001b[0m \u001b[0mamount\u001b[0m \u001b[1;33m<\u001b[0m \u001b[0mDecimal\u001b[0m\u001b[1;33m(\u001b[0m\u001b[1;34m'0.00'\u001b[0m\u001b[1;33m)\u001b[0m\u001b[1;33m:\u001b[0m\u001b[1;33m\u001b[0m\u001b[1;33m\u001b[0m\u001b[0m\n\u001b[1;32m---> 23\u001b[1;33m             \u001b[1;32mraise\u001b[0m \u001b[0mValueError\u001b[0m\u001b[1;33m(\u001b[0m\u001b[1;34m'amount must be positive.'\u001b[0m\u001b[1;33m)\u001b[0m\u001b[1;33m\u001b[0m\u001b[1;33m\u001b[0m\u001b[0m\n\u001b[0m\u001b[0;32m     24\u001b[0m \u001b[1;33m\u001b[0m\u001b[0m\n\u001b[0;32m     25\u001b[0m         \u001b[0mself\u001b[0m\u001b[1;33m.\u001b[0m\u001b[0mbalance\u001b[0m \u001b[1;33m+=\u001b[0m \u001b[0mamount\u001b[0m\u001b[1;33m\u001b[0m\u001b[1;33m\u001b[0m\u001b[0m\n",
      "\u001b[1;31mValueError\u001b[0m: amount must be positive."
     ]
    }
   ],
   "source": [
    "accounts[0].deposit(Decimal(-1000))\n"
   ]
  },
  {
   "cell_type": "markdown",
   "metadata": {
    "slideshow": {
     "slide_type": "subslide"
    }
   },
   "source": [
    "## Controlling Access to Attributes (Encapsulation)\n",
    "* Our prior example used attributes `name` and `balance` only to _get_ the values of those attributes\n",
    "* In this example, we could also have used these to _modify_ their values directly.\n",
    "* A class’s **client code** is any code that uses objects of the class\n",
    "* Most object-oriented programming languages enable you to **encapsulate** (or _hide_) an object’s data from the client code\n",
    "    * AKA make  data _secure_ or _private_\n",
    "* **Python does _not_ have private data**\n",
    "* Instead, it uses _naming conventions_ to design classes that encourage correct use\n",
    "* By convention, Python programmers know that any attribute name beginning with an underscore (`_`) is for a class’s _internal use only_\n",
    "* The same can be applied to _support methods_ -- these methods are implemented solely with the intention of supporting other (usually \"public\") methods\n",
    "* Attributes and methods whose identifiers do _not_ begin with an underscore (`_`) are considered _publicly accessible_ for use in client code"
   ]
  },
  {
   "cell_type": "markdown",
   "metadata": {
    "slideshow": {
     "slide_type": "subslide"
    }
   },
   "source": [
    "# Properties for Data Access\n",
    "* **Properties** can control the manner in which an object’s data is _accessed_ and _modified_\n",
    "    * Again, here we are **assuming programmers follow conventions** -- this still does not guarantee \"private\" data-types.\n",
    "* **Properties** provide a sort of _pseudo-variable_ that generally accesses an underlying \"real\" variable, and permits additional functionality (most commonly, **data validation**)\n",
    "* The most common properties are **getters** and **setters**\n",
    "    * A _getter_ method returns a data attribute's value, and is prefaced with the line `@property`\n",
    "    * A _setter_ method sets a data attribute's value(s) to a specified type(s).  It is prefaced with the line `@<property_name>.setter`, where _property_name_ refers to the property in question being set.\n"
   ]
  },
  {
   "cell_type": "code",
   "execution_count": 7,
   "metadata": {
    "slideshow": {
     "slide_type": "subslide"
    }
   },
   "outputs": [],
   "source": [
    "\n",
    "class Fraction:\n",
    "    \"\"\"Class Fraction with properties.\"\"\"\n",
    "\n",
    "    def __init__(self, numerator=0, denominator=1):\n",
    "        \"\"\"Initialize each attribute.\"\"\"\n",
    "        self.numerator = numerator  # Note: this will actually use a property setter.\n",
    "        self.denominator = denominator  # As will this one.\n",
    "    \n",
    "    @property\n",
    "    def numerator(self):\n",
    "        \"\"\"Return the numerator.\"\"\"\n",
    "        return self._numerator\n",
    "\n",
    "    @numerator.setter\n",
    "    def numerator(self, numerator):\n",
    "        \"\"\"Set the numerator.\"\"\"\n",
    "        if not (isinstance(numerator, int)): #Data validation (numerator must be a whole number ) \n",
    "            raise ValueError(f'The numerator must be a whole number')\n",
    "        self._numerator = numerator\n",
    "    \n",
    "    @property\n",
    "    def denominator(self):\n",
    "        \"\"\"Return the denominator.\"\"\"\n",
    "        return self._denominator\n",
    "\n",
    "    @denominator.setter\n",
    "    def denominator(self, denominator):\n",
    "        \"\"\"Set the denominator.\"\"\"\n",
    "        if not (isinstance(denominator, int)): #Data validation (denominator must be a whole number ) \n",
    "            raise ValueError(f'The denominator must be a whole number.')\n",
    "        if denominator<1: #Data validation (denominator must be 1+) \n",
    "            raise ValueError(f'The denominator must be greater than 0.')\n",
    "\n",
    "        self._denominator = denominator"
   ]
  },
  {
   "cell_type": "code",
   "execution_count": 8,
   "metadata": {
    "slideshow": {
     "slide_type": "subslide"
    }
   },
   "outputs": [
    {
     "name": "stdout",
     "output_type": "stream",
     "text": [
      "(1 / 5)\n"
     ]
    }
   ],
   "source": [
    "myfrac1=Fraction(1,5)\n",
    "print(f'({myfrac1.numerator} / {myfrac1.denominator})')"
   ]
  },
  {
   "cell_type": "code",
   "execution_count": 9,
   "metadata": {},
   "outputs": [
    {
     "ename": "ValueError",
     "evalue": "The numerator must be a whole number",
     "output_type": "error",
     "traceback": [
      "\u001b[1;31m---------------------------------------------------------------------------\u001b[0m",
      "\u001b[1;31mValueError\u001b[0m                                Traceback (most recent call last)",
      "\u001b[1;32m<ipython-input-9-d3c563a84228>\u001b[0m in \u001b[0;36m<module>\u001b[1;34m\u001b[0m\n\u001b[1;32m----> 1\u001b[1;33m \u001b[0mmyfrac2\u001b[0m\u001b[1;33m=\u001b[0m\u001b[0mFraction\u001b[0m\u001b[1;33m(\u001b[0m\u001b[1;36m1.1\u001b[0m\u001b[1;33m,\u001b[0m\u001b[1;36m5\u001b[0m\u001b[1;33m)\u001b[0m\u001b[1;33m\u001b[0m\u001b[1;33m\u001b[0m\u001b[0m\n\u001b[0m\u001b[0;32m      2\u001b[0m \u001b[0mprint\u001b[0m\u001b[1;33m(\u001b[0m\u001b[1;34mf'({myfrac1.numerator} / {myfrac1.denominator})'\u001b[0m\u001b[1;33m)\u001b[0m\u001b[1;33m\u001b[0m\u001b[1;33m\u001b[0m\u001b[0m\n",
      "\u001b[1;32m<ipython-input-7-54add10fe5ca>\u001b[0m in \u001b[0;36m__init__\u001b[1;34m(self, numerator, denominator)\u001b[0m\n\u001b[0;32m      4\u001b[0m     \u001b[1;32mdef\u001b[0m \u001b[0m__init__\u001b[0m\u001b[1;33m(\u001b[0m\u001b[0mself\u001b[0m\u001b[1;33m,\u001b[0m \u001b[0mnumerator\u001b[0m\u001b[1;33m=\u001b[0m\u001b[1;36m0\u001b[0m\u001b[1;33m,\u001b[0m \u001b[0mdenominator\u001b[0m\u001b[1;33m=\u001b[0m\u001b[1;36m1\u001b[0m\u001b[1;33m)\u001b[0m\u001b[1;33m:\u001b[0m\u001b[1;33m\u001b[0m\u001b[1;33m\u001b[0m\u001b[0m\n\u001b[0;32m      5\u001b[0m         \u001b[1;34m\"\"\"Initialize each attribute.\"\"\"\u001b[0m\u001b[1;33m\u001b[0m\u001b[1;33m\u001b[0m\u001b[0m\n\u001b[1;32m----> 6\u001b[1;33m         \u001b[0mself\u001b[0m\u001b[1;33m.\u001b[0m\u001b[0mnumerator\u001b[0m \u001b[1;33m=\u001b[0m \u001b[0mnumerator\u001b[0m  \u001b[1;31m# Note: this will actually use a property setter.\u001b[0m\u001b[1;33m\u001b[0m\u001b[1;33m\u001b[0m\u001b[0m\n\u001b[0m\u001b[0;32m      7\u001b[0m         \u001b[0mself\u001b[0m\u001b[1;33m.\u001b[0m\u001b[0mdenominator\u001b[0m \u001b[1;33m=\u001b[0m \u001b[0mdenominator\u001b[0m  \u001b[1;31m# As will this one.\u001b[0m\u001b[1;33m\u001b[0m\u001b[1;33m\u001b[0m\u001b[0m\n\u001b[0;32m      8\u001b[0m \u001b[1;33m\u001b[0m\u001b[0m\n",
      "\u001b[1;32m<ipython-input-7-54add10fe5ca>\u001b[0m in \u001b[0;36mnumerator\u001b[1;34m(self, numerator)\u001b[0m\n\u001b[0;32m     16\u001b[0m         \u001b[1;34m\"\"\"Set the numerator.\"\"\"\u001b[0m\u001b[1;33m\u001b[0m\u001b[1;33m\u001b[0m\u001b[0m\n\u001b[0;32m     17\u001b[0m         \u001b[1;32mif\u001b[0m \u001b[1;32mnot\u001b[0m \u001b[1;33m(\u001b[0m\u001b[0misinstance\u001b[0m\u001b[1;33m(\u001b[0m\u001b[0mnumerator\u001b[0m\u001b[1;33m,\u001b[0m \u001b[0mint\u001b[0m\u001b[1;33m)\u001b[0m\u001b[1;33m)\u001b[0m\u001b[1;33m:\u001b[0m \u001b[1;31m#Data validation (numerator must be a whole number )\u001b[0m\u001b[1;33m\u001b[0m\u001b[1;33m\u001b[0m\u001b[0m\n\u001b[1;32m---> 18\u001b[1;33m             \u001b[1;32mraise\u001b[0m \u001b[0mValueError\u001b[0m\u001b[1;33m(\u001b[0m\u001b[1;34mf'The numerator must be a whole number'\u001b[0m\u001b[1;33m)\u001b[0m\u001b[1;33m\u001b[0m\u001b[1;33m\u001b[0m\u001b[0m\n\u001b[0m\u001b[0;32m     19\u001b[0m         \u001b[0mself\u001b[0m\u001b[1;33m.\u001b[0m\u001b[0m_numerator\u001b[0m \u001b[1;33m=\u001b[0m \u001b[0mnumerator\u001b[0m\u001b[1;33m\u001b[0m\u001b[1;33m\u001b[0m\u001b[0m\n\u001b[0;32m     20\u001b[0m \u001b[1;33m\u001b[0m\u001b[0m\n",
      "\u001b[1;31mValueError\u001b[0m: The numerator must be a whole number"
     ]
    }
   ],
   "source": [
    "myfrac2=Fraction(1.1,5)\n",
    "print(f'({myfrac1.numerator} / {myfrac1.denominator})')"
   ]
  },
  {
   "cell_type": "code",
   "execution_count": 10,
   "metadata": {
    "slideshow": {
     "slide_type": "subslide"
    }
   },
   "outputs": [
    {
     "ename": "ValueError",
     "evalue": "The denominator must be greater than 0.",
     "output_type": "error",
     "traceback": [
      "\u001b[1;31m---------------------------------------------------------------------------\u001b[0m",
      "\u001b[1;31mValueError\u001b[0m                                Traceback (most recent call last)",
      "\u001b[1;32m<ipython-input-10-52ee8577ea5f>\u001b[0m in \u001b[0;36m<module>\u001b[1;34m\u001b[0m\n\u001b[1;32m----> 1\u001b[1;33m \u001b[0mmyfrac2\u001b[0m\u001b[1;33m=\u001b[0m\u001b[0mFraction\u001b[0m\u001b[1;33m(\u001b[0m\u001b[1;36m2\u001b[0m\u001b[1;33m,\u001b[0m\u001b[1;33m-\u001b[0m\u001b[1;36m1\u001b[0m\u001b[1;33m)\u001b[0m\u001b[1;33m\u001b[0m\u001b[1;33m\u001b[0m\u001b[0m\n\u001b[0m\u001b[0;32m      2\u001b[0m \u001b[0mprint\u001b[0m\u001b[1;33m(\u001b[0m\u001b[1;34mf'({myfrac1.numerator} / {myfrac1.denominator})'\u001b[0m\u001b[1;33m)\u001b[0m\u001b[1;33m\u001b[0m\u001b[1;33m\u001b[0m\u001b[0m\n",
      "\u001b[1;32m<ipython-input-7-54add10fe5ca>\u001b[0m in \u001b[0;36m__init__\u001b[1;34m(self, numerator, denominator)\u001b[0m\n\u001b[0;32m      5\u001b[0m         \u001b[1;34m\"\"\"Initialize each attribute.\"\"\"\u001b[0m\u001b[1;33m\u001b[0m\u001b[1;33m\u001b[0m\u001b[0m\n\u001b[0;32m      6\u001b[0m         \u001b[0mself\u001b[0m\u001b[1;33m.\u001b[0m\u001b[0mnumerator\u001b[0m \u001b[1;33m=\u001b[0m \u001b[0mnumerator\u001b[0m  \u001b[1;31m# Note: this will actually use a property setter.\u001b[0m\u001b[1;33m\u001b[0m\u001b[1;33m\u001b[0m\u001b[0m\n\u001b[1;32m----> 7\u001b[1;33m         \u001b[0mself\u001b[0m\u001b[1;33m.\u001b[0m\u001b[0mdenominator\u001b[0m \u001b[1;33m=\u001b[0m \u001b[0mdenominator\u001b[0m  \u001b[1;31m# As will this one.\u001b[0m\u001b[1;33m\u001b[0m\u001b[1;33m\u001b[0m\u001b[0m\n\u001b[0m\u001b[0;32m      8\u001b[0m \u001b[1;33m\u001b[0m\u001b[0m\n\u001b[0;32m      9\u001b[0m     \u001b[1;33m@\u001b[0m\u001b[0mproperty\u001b[0m\u001b[1;33m\u001b[0m\u001b[1;33m\u001b[0m\u001b[0m\n",
      "\u001b[1;32m<ipython-input-7-54add10fe5ca>\u001b[0m in \u001b[0;36mdenominator\u001b[1;34m(self, denominator)\u001b[0m\n\u001b[0;32m     30\u001b[0m             \u001b[1;32mraise\u001b[0m \u001b[0mValueError\u001b[0m\u001b[1;33m(\u001b[0m\u001b[1;34mf'The denominator must be a whole number.'\u001b[0m\u001b[1;33m)\u001b[0m\u001b[1;33m\u001b[0m\u001b[1;33m\u001b[0m\u001b[0m\n\u001b[0;32m     31\u001b[0m         \u001b[1;32mif\u001b[0m \u001b[0mdenominator\u001b[0m\u001b[1;33m<\u001b[0m\u001b[1;36m1\u001b[0m\u001b[1;33m:\u001b[0m \u001b[1;31m#Data validation (denominator must be 1+)\u001b[0m\u001b[1;33m\u001b[0m\u001b[1;33m\u001b[0m\u001b[0m\n\u001b[1;32m---> 32\u001b[1;33m             \u001b[1;32mraise\u001b[0m \u001b[0mValueError\u001b[0m\u001b[1;33m(\u001b[0m\u001b[1;34mf'The denominator must be greater than 0.'\u001b[0m\u001b[1;33m)\u001b[0m\u001b[1;33m\u001b[0m\u001b[1;33m\u001b[0m\u001b[0m\n\u001b[0m\u001b[0;32m     33\u001b[0m \u001b[1;33m\u001b[0m\u001b[0m\n\u001b[0;32m     34\u001b[0m         \u001b[0mself\u001b[0m\u001b[1;33m.\u001b[0m\u001b[0m_denominator\u001b[0m \u001b[1;33m=\u001b[0m \u001b[0mdenominator\u001b[0m\u001b[1;33m\u001b[0m\u001b[1;33m\u001b[0m\u001b[0m\n",
      "\u001b[1;31mValueError\u001b[0m: The denominator must be greater than 0."
     ]
    }
   ],
   "source": [
    "myfrac2=Fraction(2,-1)\n",
    "print(f'({myfrac1.numerator} / {myfrac1.denominator})')"
   ]
  },
  {
   "cell_type": "markdown",
   "metadata": {
    "slideshow": {
     "slide_type": "subslide"
    }
   },
   "source": [
    "## More on Classes and Inheritance\n",
    "* For most _common_ tasks and applications, will likely find an open-source class or library has already been written.\n",
    "    * However, you may find that for a specialized task it is useful to write your own class(es) from scratch _or_ derive them from an existing class.\n",
    "* When creating a new class, you can **inherit** the attributes (variables) and methods (the class version of functions) of a previously defined **base class** (also called a **superclass**)\n",
    "* The new class is called a **derived class** (or **subclass**)\n",
    "* You then customize the derived class to meet the specific needs of your application.\n",
    "    * This can provide a nice compromise between constructing a custom class completely from scratch vs simply using a pre-written libary as is, which may not be a perfect fit for your needs.\n",
    "* Remember that we created many inheriting classes during the Twitter API sessions."
   ]
  },
  {
   "cell_type": "markdown",
   "metadata": {
    "slideshow": {
     "slide_type": "subslide"
    }
   },
   "source": [
    "```python\n",
    "# salariedcommissionemployee.py\n",
    "\"\"\"SalariedCommissionEmployee derived from CommissionEmployee.\"\"\"\n",
    "from commissionemployee import CommissionEmployee\n",
    "from decimal import Decimal\n",
    "\n",
    "class SalariedCommissionEmployee(CommissionEmployee):\n",
    "    \"\"\"An employee who gets paid a salary plus \n",
    "    commission based on gross sales.\"\"\"\n",
    "\n",
    "    def __init__(self, first_name, last_name, ssn, \n",
    "                 gross_sales, commission_rate, base_salary):\n",
    "        \"\"\"Initialize SalariedCommissionEmployee's attributes.\"\"\"\n",
    "        super().__init__(first_name, last_name, ssn, \n",
    "                         gross_sales, commission_rate)\n",
    "        self.base_salary = base_salary  # validate via property\n",
    "\n",
    "    @property\n",
    "    def base_salary(self):\n",
    "        return self._base_salary\n",
    "\n",
    "    @base_salary.setter\n",
    "    def base_salary(self, salary):\n",
    "        \"\"\"Set base salary or raise ValueError if invalid.\"\"\"\n",
    "        if salary < Decimal('0.00'):\n",
    "            raise ValueError('Base salary must be >= to 0')\n",
    "        \n",
    "        self._base_salary = salary\n",
    "\n",
    "    def earnings(self): #distinct from CommissionEmployee\n",
    "        \"\"\"Calculate earnings.\"\"\"   \n",
    "        return super().earnings() + self.base_salary\n",
    "\n",
    "    def __repr__(self): #distinct from CommissionEmployee\n",
    "        \"\"\"Return string representation for repr().\"\"\"\n",
    "        return ('Salaried' + super().__repr__() +      \n",
    "            f'\\nbase salary: {self.base_salary:.2f}')\n",
    "\n",
    "```"
   ]
  },
  {
   "cell_type": "markdown",
   "metadata": {
    "slideshow": {
     "slide_type": "slide"
    }
   },
   "source": [
    "# Topic 2: Natural Language Processing (24-27)\n",
    "* Natural language processing is one of the most crucial fields of study across several domains of expertise\n",
    "    * Machine learning experts seek to garner information from and classify text and conversations into various categories.  \n",
    "    * AI and Robotics experts seek to emulate human speech and interactions through a machine interface. \n",
    "    * Linguists seek to understand the morphology and structure of communication across languages, cultures, and media. \n",
    "* Natural language processing is performed in a variety of applications, and across a variety of media.\n",
    "* In general, we refer to collections of text and related media processed through natural language processing as `corpora`.\n",
    "    * Corpora include novels, tweets, facebook posts, movie reviews, etc.\n",
    "* **Nuances of meaning** make natural language understanding _incredibly challenging_."
   ]
  },
  {
   "cell_type": "markdown",
   "metadata": {
    "slideshow": {
     "slide_type": "subslide"
    }
   },
   "source": [
    "## `textblob` and `TextBlob`\n",
    "* `textblob` is the most popular library for NLP in Python in the current era.\n",
    "    * It is built primarily on the combined efforts behind the `nltk` (Natural Language Toolkit) and `pattern` (Pattern) library\n",
    "* The `TextBlob` is the standard class available within the `textblob` library intended to address most or all NLP tasks.  \n",
    "    * It is best conceptualized as a Python `string` object _plus_ attributes, methods, and properties that enable NLP functionality.\n",
    "* We addressed a number of tasks available through `textblob`, but bear in mind we also looked some other NLP tasks without `textblob` involement (readability scores via `Textatistic`, etc.)\n",
    "* **Only the tasks outlined below are likely to be prominent on the final exam.**"
   ]
  },
  {
   "cell_type": "markdown",
   "metadata": {
    "slideshow": {
     "slide_type": "subslide"
    }
   },
   "source": [
    "### Sentence and Word Tokenization"
   ]
  },
  {
   "cell_type": "code",
   "execution_count": 11,
   "metadata": {
    "slideshow": {
     "slide_type": "-"
    }
   },
   "outputs": [
    {
     "name": "stdout",
     "output_type": "stream",
     "text": [
      "[Sentence(\"Today is a beautiful day.\"), Sentence(\"Tomorrow looks like bad weather.\")]\n",
      "['Today', 'is', 'a', 'beautiful', 'day', 'Tomorrow', 'looks', 'like', 'bad', 'weather']\n"
     ]
    }
   ],
   "source": [
    "\n",
    "from textblob import TextBlob\n",
    "blob=TextBlob('Today is a beautiful day. Tomorrow looks like bad weather.')\n",
    "print(blob.sentences) #automatically tokenizes and returns a list of sentences in the TextBlob} #Sentence tokenization\n",
    "print(blob.words) #word tokenization"
   ]
  },
  {
   "cell_type": "markdown",
   "metadata": {
    "slideshow": {
     "slide_type": "subslide"
    }
   },
   "source": [
    "### Parts-of-Speech Tagging\n"
   ]
  },
  {
   "cell_type": "code",
   "execution_count": 12,
   "metadata": {},
   "outputs": [
    {
     "data": {
      "text/plain": [
       "[('Today', 'NN'),\n",
       " ('is', 'VBZ'),\n",
       " ('a', 'DT'),\n",
       " ('beautiful', 'JJ'),\n",
       " ('day', 'NN'),\n",
       " ('Tomorrow', 'NNP'),\n",
       " ('looks', 'VBZ'),\n",
       " ('like', 'IN'),\n",
       " ('bad', 'JJ'),\n",
       " ('weather', 'NN')]"
      ]
     },
     "execution_count": 12,
     "metadata": {},
     "output_type": "execute_result"
    }
   ],
   "source": [
    "blob = TextBlob('Today is a beautiful day. Tomorrow looks like bad weather.')\n",
    "blob.tags"
   ]
  },
  {
   "cell_type": "markdown",
   "metadata": {
    "slideshow": {
     "slide_type": "subslide"
    }
   },
   "source": [
    "### Extracting Noun Phrases"
   ]
  },
  {
   "cell_type": "code",
   "execution_count": 15,
   "metadata": {},
   "outputs": [
    {
     "name": "stdout",
     "output_type": "stream",
     "text": [
      "Today is a beautiful day. Tomorrow looks like bad weather.\n"
     ]
    },
    {
     "data": {
      "text/plain": [
       "WordList(['beautiful day', 'tomorrow', 'bad weather'])"
      ]
     },
     "execution_count": 15,
     "metadata": {},
     "output_type": "execute_result"
    }
   ],
   "source": [
    "blob = TextBlob('Today is a beautiful day. Tomorrow looks like bad weather.')\n",
    "print(blob)\n",
    "blob.noun_phrases"
   ]
  },
  {
   "cell_type": "markdown",
   "metadata": {
    "slideshow": {
     "slide_type": "subslide"
    }
   },
   "source": [
    "## Sentiment Analysis with TextBlob’s Default Sentiment Analyzer\n",
    "* Extremely important NLP task with wide application\n",
    "* Also **one of the hardest NLP tasks** due to the combined factors of textual context, things unrelayed in text (sarcasm, tone, etc.), and the differing nature of language across platforms.\n",
    "* TextBlob sentiment analysis returns two components based on the composition of underlying words:\n",
    "    * Polarity: -1 (really bad)  to 1 (really good)\n",
    "    * Subjectivity: 0 (completely objective) to 1 (completely subjective)"
   ]
  },
  {
   "cell_type": "code",
   "execution_count": 20,
   "metadata": {},
   "outputs": [
    {
     "data": {
      "text/plain": [
       "Sentiment(polarity=-0.4166666666666667, subjectivity=0.6666666666666666)"
      ]
     },
     "execution_count": 20,
     "metadata": {},
     "output_type": "execute_result"
    }
   ],
   "source": [
    "blob1 =  TextBlob('The main course at the restaurant was absolutely terrible.')\n",
    "blob1.sentiment"
   ]
  },
  {
   "cell_type": "code",
   "execution_count": 17,
   "metadata": {},
   "outputs": [
    {
     "data": {
      "text/plain": [
       "Sentiment(polarity=1.0, subjectivity=1.0)"
      ]
     },
     "execution_count": 17,
     "metadata": {},
     "output_type": "execute_result"
    }
   ],
   "source": [
    "blob2 =  TextBlob('But the dessert after the meal was delicious.')\n",
    "blob2.sentiment"
   ]
  },
  {
   "cell_type": "code",
   "execution_count": 19,
   "metadata": {},
   "outputs": [
    {
     "data": {
      "text/plain": [
       "Sentiment(polarity=0.0, subjectivity=0.0)"
      ]
     },
     "execution_count": 19,
     "metadata": {},
     "output_type": "execute_result"
    }
   ],
   "source": [
    "blob3 =  TextBlob('It is 10:15 AM.')\n",
    "blob3.sentiment"
   ]
  },
  {
   "cell_type": "markdown",
   "metadata": {
    "slideshow": {
     "slide_type": "subslide"
    }
   },
   "source": [
    "### Language Detection and Translation\n"
   ]
  },
  {
   "cell_type": "code",
   "execution_count": 21,
   "metadata": {},
   "outputs": [
    {
     "data": {
      "text/plain": [
       "'en'"
      ]
     },
     "execution_count": 21,
     "metadata": {},
     "output_type": "execute_result"
    }
   ],
   "source": [
    "blob=TextBlob('Today is a beautiful day. It looks like tomorrow we are in for bad weather.')\n",
    "blob.detect_language()"
   ]
  },
  {
   "cell_type": "code",
   "execution_count": 22,
   "metadata": {},
   "outputs": [
    {
     "name": "stdout",
     "output_type": "stream",
     "text": [
      "Hoy es un hermoso dia. Parece que mañana nos espera mal tiempo.\n"
     ]
    },
    {
     "data": {
      "text/plain": [
       "'es'"
      ]
     },
     "execution_count": 22,
     "metadata": {},
     "output_type": "execute_result"
    }
   ],
   "source": [
    "blobes= blob.translate(to='es')\n",
    "print(blobes)\n",
    "blobes.detect_language()"
   ]
  },
  {
   "cell_type": "code",
   "execution_count": 23,
   "metadata": {},
   "outputs": [
    {
     "name": "stdout",
     "output_type": "stream",
     "text": [
      "Today is a beautiful day. It seems that tomorrow bad weather awaits us.\n"
     ]
    }
   ],
   "source": [
    "print(blobes.translate(to='en'))"
   ]
  },
  {
   "cell_type": "markdown",
   "metadata": {
    "slideshow": {
     "slide_type": "subslide"
    }
   },
   "source": [
    "## Spell Checking and Correction\n",
    "* Often unreliable due to not taking context into account"
   ]
  },
  {
   "cell_type": "code",
   "execution_count": 24,
   "metadata": {
    "slideshow": {
     "slide_type": "-"
    }
   },
   "outputs": [],
   "source": [
    "from textblob import Word\n",
    "word = Word('theyr')"
   ]
  },
  {
   "cell_type": "code",
   "execution_count": 25,
   "metadata": {
    "slideshow": {
     "slide_type": "-"
    }
   },
   "outputs": [
    {
     "data": {
      "text/plain": [
       "[('they', 0.5713042216741622), ('their', 0.42869577832583783)]"
      ]
     },
     "execution_count": 25,
     "metadata": {},
     "output_type": "execute_result"
    }
   ],
   "source": [
    "word.spellcheck()"
   ]
  },
  {
   "cell_type": "code",
   "execution_count": 26,
   "metadata": {
    "slideshow": {
     "slide_type": "-"
    }
   },
   "outputs": [
    {
     "data": {
      "text/plain": [
       "'they'"
      ]
     },
     "execution_count": 26,
     "metadata": {},
     "output_type": "execute_result"
    }
   ],
   "source": [
    "word.correct()  # chooses word with the highest confidence value"
   ]
  },
  {
   "cell_type": "markdown",
   "metadata": {
    "slideshow": {
     "slide_type": "subslide"
    }
   },
   "source": [
    "## Normalization: Stemming and Lemmatization\n",
    "* **Stemming** removes a **prefix** or **suffix** from a word leaving only a **stem**, which **may or may not be a real word**\n",
    "* **Lemmatization** is similar, but factors in the word’s **part of speech** and **meaning** and results in a **real word**\n",
    "* Both **normalize** words for analysis\n",
    "\t* Before calculating statistics on words in a body of text, we might convert all words to lowercase so that capitalized and lowercase words are not treated differently. \n",
    "* We might want to use a word’s root to represent the word’s many forms. \n",
    "\t* E.g., treat \"program\" and \"programs\" as \"program\""
   ]
  },
  {
   "cell_type": "code",
   "execution_count": 27,
   "metadata": {
    "slideshow": {
     "slide_type": "-"
    }
   },
   "outputs": [
    {
     "data": {
      "text/plain": [
       "'varieti'"
      ]
     },
     "execution_count": 27,
     "metadata": {},
     "output_type": "execute_result"
    }
   ],
   "source": [
    "word = Word('varieties')\n",
    "word.stem()"
   ]
  },
  {
   "cell_type": "code",
   "execution_count": 28,
   "metadata": {
    "slideshow": {
     "slide_type": "-"
    }
   },
   "outputs": [
    {
     "data": {
      "text/plain": [
       "'variety'"
      ]
     },
     "execution_count": 28,
     "metadata": {},
     "output_type": "execute_result"
    }
   ],
   "source": [
    "word.lemmatize()"
   ]
  },
  {
   "cell_type": "markdown",
   "metadata": {
    "slideshow": {
     "slide_type": "subslide"
    }
   },
   "source": [
    "## Word Frequencies\n",
    "* Word Frequencies are vital for a number of practical applications\n",
    "    * For example, machine-learning methods for computing **similarity between documents** rely on **word frequencies**\n",
    "    * Word frequencies can also be used in trend analysis.\n",
    "* Keep in mind that some of the visualizations we performed (word cloud, etc.) are fair game for the programming portion."
   ]
  },
  {
   "cell_type": "code",
   "execution_count": 29,
   "metadata": {
    "slideshow": {
     "slide_type": "subslide"
    }
   },
   "outputs": [],
   "source": [
    "from pathlib import Path\n",
    "#Note: we are reading the text into a string then using it to construct a blob\n",
    "text = Path('AliceInWonderland.txt').read_text(encoding='UTF8') \n",
    "blob = TextBlob(text) "
   ]
  },
  {
   "cell_type": "code",
   "execution_count": 30,
   "metadata": {
    "slideshow": {
     "slide_type": "-"
    }
   },
   "outputs": [
    {
     "name": "stdout",
     "output_type": "stream",
     "text": [
      "404\n",
      "48\n",
      "3\n"
     ]
    }
   ],
   "source": [
    "print(blob.word_counts['alice'])\n",
    "print(blob.word_counts['rabbit'])\n",
    "print(blob.word_counts['tea-party'])"
   ]
  },
  {
   "cell_type": "markdown",
   "metadata": {
    "slideshow": {
     "slide_type": "subslide"
    }
   },
   "source": [
    "## Stop Word Removal\n",
    "* Many common words are largely unimportant for most machine-learning tasks.\n",
    "* We saw how the `nltk` library could be used to remove stop words from text. "
   ]
  },
  {
   "cell_type": "code",
   "execution_count": 31,
   "metadata": {},
   "outputs": [
    {
     "name": "stdout",
     "output_type": "stream",
     "text": [
      "['i', 'me', 'my', 'myself', 'we', 'our', 'ours', 'ourselves', 'you', \"you're\", \"you've\", \"you'll\", \"you'd\", 'your', 'yours', 'yourself', 'yourselves', 'he', 'him', 'his', 'himself', 'she', \"she's\", 'her', 'hers', 'herself', 'it', \"it's\", 'its', 'itself', 'they', 'them', 'their', 'theirs', 'themselves', 'what', 'which', 'who', 'whom', 'this', 'that', \"that'll\", 'these', 'those', 'am', 'is', 'are', 'was', 'were', 'be', 'been', 'being', 'have', 'has', 'had', 'having', 'do', 'does', 'did', 'doing', 'a', 'an', 'the', 'and', 'but', 'if', 'or', 'because', 'as', 'until', 'while', 'of', 'at', 'by', 'for', 'with', 'about', 'against', 'between', 'into', 'through', 'during', 'before', 'after', 'above', 'below', 'to', 'from', 'up', 'down', 'in', 'out', 'on', 'off', 'over', 'under', 'again', 'further', 'then', 'once', 'here', 'there', 'when', 'where', 'why', 'how', 'all', 'any', 'both', 'each', 'few', 'more', 'most', 'other', 'some', 'such', 'no', 'nor', 'not', 'only', 'own', 'same', 'so', 'than', 'too', 'very', 's', 't', 'can', 'will', 'just', 'don', \"don't\", 'should', \"should've\", 'now', 'd', 'll', 'm', 'o', 're', 've', 'y', 'ain', 'aren', \"aren't\", 'couldn', \"couldn't\", 'didn', \"didn't\", 'doesn', \"doesn't\", 'hadn', \"hadn't\", 'hasn', \"hasn't\", 'haven', \"haven't\", 'isn', \"isn't\", 'ma', 'mightn', \"mightn't\", 'mustn', \"mustn't\", 'needn', \"needn't\", 'shan', \"shan't\", 'shouldn', \"shouldn't\", 'wasn', \"wasn't\", 'weren', \"weren't\", 'won', \"won't\", 'wouldn', \"wouldn't\"]\n"
     ]
    }
   ],
   "source": [
    "from nltk.corpus import stopwords\n",
    "stops = stopwords.words('english') #We're looking specifically for English stop words\n",
    "print(stops)"
   ]
  },
  {
   "cell_type": "code",
   "execution_count": 32,
   "metadata": {},
   "outputs": [
    {
     "name": "stdout",
     "output_type": "stream",
     "text": [
      "['Today', 'beautiful', 'day', 'It', 'looks', 'like', 'tomorrow', 'bad', 'weather']\n"
     ]
    }
   ],
   "source": [
    "blob=TextBlob('Today is a beautiful day. It looks like tomorrow we are in for bad weather.')\n",
    "usablewords = [word for word in blob.words if word not in stops]\n",
    "print(usablewords)"
   ]
  },
  {
   "cell_type": "markdown",
   "metadata": {
    "slideshow": {
     "slide_type": "subslide"
    }
   },
   "source": [
    "# Readability\n",
    "* Readability is a measure of how easy a piece of text is to read, and can tell you what level of education someone will need to be able to read a piece of text easily. \n",
    "\n",
    "* We looked at `textatistic` for establishing readability scores, which is extremely easy to use, but not always reliable.\n"
   ]
  },
  {
   "cell_type": "code",
   "execution_count": 33,
   "metadata": {},
   "outputs": [
    {
     "data": {
      "text/plain": [
       "{'char_count': 133198,\n",
       " 'word_count': 30036,\n",
       " 'sent_count': 1837,\n",
       " 'sybl_count': 36343,\n",
       " 'notdalechall_count': 6107,\n",
       " 'polysyblword_count': 999,\n",
       " 'flesch_score': 87.875,\n",
       " 'fleschkincaid_score': 5.065,\n",
       " 'gunningfog_score': 7.871,\n",
       " 'smog_score': 7.342,\n",
       " 'dalechall_score': 7.658}"
      ]
     },
     "execution_count": 33,
     "metadata": {},
     "output_type": "execute_result"
    }
   ],
   "source": [
    "#Create Textatistic object for the text\n",
    "from textatistic import Textatistic\n",
    "readability = Textatistic(text)\n",
    "%precision 3\n",
    "readability.dict()"
   ]
  },
  {
   "cell_type": "markdown",
   "metadata": {
    "slideshow": {
     "slide_type": "subslide"
    }
   },
   "source": [
    "# Named Entity Recognition and spaCy\n",
    "* **Named entity recognition** attempts to locate and categorize items and keywords of particular significance. \n",
    "    * **dates**, **times**, **quantities**, **places**, **people**, **things**, **organizations** and more can serve as such categories\n",
    "* Named entity recognition can serve as a basis for sophisticated machine learning and data mining applications.\n",
    "* We used `spaCy` in class to perform named entity recognition."
   ]
  },
  {
   "cell_type": "code",
   "execution_count": 34,
   "metadata": {
    "slideshow": {
     "slide_type": "fragment"
    }
   },
   "outputs": [
    {
     "name": "stdout",
     "output_type": "stream",
     "text": [
      "1994: DATE\n",
      "Tim Berners-Lee: PERSON\n",
      "the United Kingdom: GPE\n",
      "the WWW Consortium: ORG\n",
      "1994: DATE\n"
     ]
    }
   ],
   "source": [
    "import spacy\n",
    "nlp_lg = spacy.load('en_core_web_lg') \n",
    "spadoc = nlp_lg('In 1994, Tim Berners-Lee of the United Kingdom ' + \n",
    "    'founded the WWW Consortium (W3C), devoted to ' +\n",
    "    'developing online technologies in 1994')\n",
    "for entity in spadoc.ents:\n",
    "    print(f'{entity.text}: {entity.label_}')"
   ]
  },
  {
   "cell_type": "markdown",
   "metadata": {
    "slideshow": {
     "slide_type": "subslide"
    }
   },
   "source": [
    "# Similarity Detection with spaCy\n",
    "* Documents are often gauged in terms of their relative **similarity** based on a variety of measures.\n",
    "* We used spaCy to perform (somewhat unreliable) document similarity tests.\n",
    "* Note that more reliable similarity detection methods are available, but tend to be relatively specific to different text types.\n",
    "* A similarity of 1 indicates the books are extremely similar, while 0 indicates they aren't similar at all."
   ]
  },
  {
   "cell_type": "code",
   "execution_count": 35,
   "metadata": {
    "slideshow": {
     "slide_type": "-"
    }
   },
   "outputs": [
    {
     "name": "stdout",
     "output_type": "stream",
     "text": [
      "AIW to ET2nd similarity is 0.949.\n"
     ]
    }
   ],
   "source": [
    "#Create the docs for the two pieces\n",
    "from pathlib import Path\n",
    "document1 = nlp_lg(Path('AliceInWonderland.txt').read_text(encoding='UTF8'))\n",
    "document2 = nlp_lg(Path('EdwardTheSecond.txt').read_text(encoding='UTF8'))\n",
    "docsim=document1.similarity(document2)\n",
    "print(f'AIW to ET2nd similarity is {docsim:.3}.')"
   ]
  },
  {
   "cell_type": "markdown",
   "metadata": {
    "slideshow": {
     "slide_type": "slide"
    }
   },
   "source": [
    "# Topic 3: Tweet Mining and Geocoding (30-34)\n",
    "* Twitter is a popular big-data source for making predictions.\n",
    "    * Fortune 500 companies often use Twitter as a megaphone for PR purposes or advertisment for new/modified technology.\n",
    "    * Individuals use Twitter to voice satisfaction or dissatisfaction with particular people, companies, or technology.\n",
    "    * The degree to which a subject or event trends provides a potential indication of its widespread impact.\n",
    "    * **Sentiment** in tweets plays an enormous factor in how people gauge public response to current events, actions, and politics. \n",
    "* Geocoding is the process of transforming an address, description of a location, or landmark/location name, into a real location on the surface of the earth (usually in longitude/latitude format)\n",
    "* Geocoding can help isolate sentiment and other specifics in tweets within particular regions."
   ]
  },
  {
   "cell_type": "markdown",
   "metadata": {
    "slideshow": {
     "slide_type": "subslide"
    }
   },
   "source": [
    "## Note: You will NOT have to connect to the Twitter API for your final in any format. \n",
    "* **However**, you will be expected to understand the basics how the services we utilized work, as well as the Python libraries we utilized to connect to the API.\n",
    "* As well, you may be expected to load pre-saved tweets and perform some sort of analysis/visualization on them during the programming portion of the exam."
   ]
  },
  {
   "cell_type": "markdown",
   "metadata": {
    "slideshow": {
     "slide_type": "-"
    }
   },
   "source": [
    "# What’s in a Tweet? \n",
    "* Twitter API methods return **JSON (JavaScript Object Notation)** objects\n",
    "* This is the conventional standard text-based **data-interchange format** \n",
    "* Objects are represented as **collections of name–value pairs** (like dictionaries)\n",
    "* Commonly used in web services, as it both human and computer readable."
   ]
  },
  {
   "cell_type": "code",
   "execution_count": 36,
   "metadata": {
    "scrolled": true,
    "slideshow": {
     "slide_type": "subslide"
    }
   },
   "outputs": [
    {
     "name": "stdout",
     "output_type": "stream",
     "text": [
      "A Salute to China's COVID Heroes https://t.co/RxSta4MDci @MartyMakary #tcot\n",
      "\n",
      "BBC News - Covid: Under-30s offered alternative to AstraZeneca jab\n",
      "https://t.co/YTqeHppsq1\n",
      "\n",
      "@winchesthearts @jacksbees I firmly believe the usual makeup artist wasn't there because of covid &amp; they got an 18… https://t.co/96fnhftoRG\n",
      "\n",
      "L.A.’s young and healthy head to Bakersfield for COVID-19 vaccine https://t.co/SHOQzxlpvU\n",
      "\n",
      "Today is #WorldHealthDay 🌍\n",
      "\n",
      "🔴#COVIDー19 crisis negatively impacts mental health\n",
      "🔴#LGBTI persons are disproportionate… https://t.co/d0pNAqgqyr\n",
      "\n",
      "#breaking #breakingnews\n",
      "Covid: Under-30s offered alternative to AstraZeneca jab https://t.co/sI1YILqVbD\n",
      "\n",
      "AstraZeneca Covid vaccine possibly linked to blood clot events: EU drug regulato https://t.co/LQFnb1XbeS\n",
      "\n",
      "I got COVID https://t.co/jpdBiSJbTE\n",
      "\n",
      "IM FINALLY COVID FREE I TESTED NEGATIVE TODAY AFTER 11 DAYS🎉\n",
      "\n",
      "This FEMA clinic in Norfolk says it's taking walk-in COVID vaccinations. \n",
      "\n",
      "For anyone 16 years or older. If you nee… https://t.co/7t5Z38xeMV\n",
      "\n",
      "Ontario Covid Update\n",
      "\n",
      "@vvijay83 @PThillaiarasu @mrpaluvets 3150/- was pre-COVID alao?!\n",
      "\n",
      "@PMOIndia You should have controlled covid. Still people are gathering in big rally. How stupid is that. Doesn’t ma… https://t.co/pFCxMIUYue\n",
      "\n",
      "@HeatherScott I’m waiting to see how a friend who did get Covid, but wasn’t hospitalized, gets on.\n",
      "\n",
      "Grateful for all our @POTUS is doing for the American people in the fight against #COVID We need to cooperate to th… https://t.co/KnltXNjaBY\n",
      "\n",
      "Covid: Under-30s offered alternative to AstraZeneca jab https://t.co/5YgClxHmQ2\n",
      "\n",
      "I wonder will the Leftie keyboard warriors condemn this...\n",
      "\n",
      "#COVID19ireland #Ireland #NPHET #Sinnfein \n",
      "\n",
      "https://t.co/QHZoNQQyEt\n",
      "\n",
      "1 in 3 Covid-19 patients are diagnosed with a neuropsychiatric condition in the next six months, large study finds… https://t.co/l3MToa7PXD\n",
      "\n",
      "Doubled up 👊🏼 \n",
      "\n",
      "#CovidVaccine #covid #nhs #thankyouNHS https://t.co/oRXP0R9Azv\n",
      "\n",
      "#NorthYorkshire news - Number of covid fines issued in North Yorkshire drops to just 11 over Easter @Nyorkspolice s… https://t.co/5ACFrWKtVk\n",
      "\n",
      "Thousands Of COVID-19 Vaccine Appointments Available For Wednesday At Camden County Mass Vaccination Site –… https://t.co/ebVOSoZfU0\n",
      "\n",
      "The West Virginia Department of Health and Human Resources reports 15 new COVID-19 deaths in the state on Wednesday… https://t.co/H8oFn1dDq0\n",
      "\n",
      "@CP24 Don’t worry mein fuhrer is sending the covid gestapo\n",
      "\n",
      "Under-30s are to be offered an alternative #Covid jab to the #AstraZeneca vaccine due to mounting evidence linking… https://t.co/GNh3MV50Uo\n",
      "\n",
      "See me gingered to take the Covid vaccine. Man made me change my mind. Again I say okunrin buru 😂😂😂💀\n",
      "\n",
      "Nearly completely back into the 150s, where I was pre-Covid.🙏🏾\n",
      "Putting back on my muscle once I hit 145.\n",
      "\n",
      "Brazil is facing 'biological Fukushima' and seeing new Covid variants https://t.co/lXxelTRI60 @MailOnline\n",
      "\n",
      "BBC News - #Covid : Under-30s offered alternative to #AstraZeneca jab\n",
      "https://t.co/tEEsXOhDu2\n",
      "\n",
      "Covid: Under-30s offered alternative to AstraZeneca jab due to rare blood clots https://t.co/AR1x63dQ0y\n",
      "\n",
      "@DraftTulsi Not for Covid. I’ve taken my childhood shots (polio, etc). No plans for anything more.\n",
      "\n",
      "DMX Reportedly Tests Positive For COVID-19 While In Hospital https://t.co/NH1Z7GfrOm\n",
      "\n",
      "India’s leadership critical for delivering Covid vaccines across world, says US Special envoy John Kerry\n",
      "\n",
      "@MimiJ9 Yes he would, but Gove only avoided bottom spot, because he didn't have Covid to contend with......\n",
      "\n",
      "@coolfunnytshirt The loud voice he generally produces,  can you imagine velocity of Covid-19 if he is infected one… https://t.co/7gN7iGtXaX\n",
      "\n",
      "@Thicknfluffy Bad mess. The city has canceled the event due to Covid, but ppl are still planning to go. The city wo… https://t.co/O7qpBxn2Yf\n",
      "\n",
      "Thinking about opening up stadiums to capacity? Our study shows COVID spikes after NFL fan attended games/ Data fro… https://t.co/mcYasIdRrM\n",
      "\n",
      "2. Merck Statement on Ivermectin use During the COVID-19 Pandemic\n",
      "https://t.co/v8XHwyGn0r\n",
      "\n",
      "3. WHO advises that iver… https://t.co/7JCiuaszcn\n",
      "\n",
      ": Expect ‘eye-popping’ sales numbers from some consumer companies as calendar laps COVID closures https://t.co/L7XAQEmFaC\n",
      "\n",
      "Under-30s are to be offered an alternative Covid jab to the AstraZeneca vaccine due to mounting evidence linking it… https://t.co/NJQNcv3kax\n",
      "\n",
      "BREAKING: People aged 18 to 29 should be offered an alternative Covid vaccine to the AstraZeneca jab because of mou… https://t.co/Rdd5JkCHHC\n",
      "\n",
      "@dmctom29 @GOP @SenateGOP Has she had covid?\n",
      "\n",
      "Brazil COVID-19 deaths on track to pass worst of US wave https://t.co/X3EzSDOtIH https://t.co/zr05pMo0Ed\n",
      "\n",
      "Still blown COVID took this from me\n",
      "\n",
      "BOOM....1st dose on the card....😁....#COVIDー19 #Vaccine #Moderna.... https://t.co/3dz1wnjh8o\n",
      "\n",
      "Maybe if I sell my blood that contains the COVID vaccine I can make some coin thoughts?\n",
      "\n",
      "This is that COVID POLLEN!\n",
      "\n",
      "@L0NELYEVERM0RE This novel coronavirus was named Coronavirus Disease 2019 (COVID-19) by WHO in February 2020. The v… https://t.co/dHe69Q443T\n",
      "\n",
      "Researching the Environment and COVID-19 via NASA https://t.co/VwhLlkop6g https://t.co/ij4JgJfadQ\n",
      "\n",
      "BREAKING: Under 30s in the UK are to be offered alternative Covid vaccine to AstraZeneca if available, after possib… https://t.co/EPWPAIWAlE\n",
      "\n",
      "💇‍♀‍🍻👨‍🍳🛍️ Is your business reopening next Monday?\n",
      "\n",
      "Workers without symptoms can access a free rapid COVID-19 test… https://t.co/d12w8njB9v\n",
      "\n"
     ]
    }
   ],
   "source": [
    "import json\n",
    "with open('savedtweets.json') as json_file:\n",
    "    tweets_from_json = json.load(json_file)\n",
    "for tweet in tweets_from_json:\n",
    "    print(tweet['text'])\n",
    "    print('')\n"
   ]
  },
  {
   "cell_type": "markdown",
   "metadata": {
    "slideshow": {
     "slide_type": "subslide"
    }
   },
   "source": [
    "# Cleaning/Preprocessing Tweets for Analysis\n",
    "* The **tweet-preprocessor** library can be used to automatically remove a variety of tweet components and special characters (emojis, URLs, hashtags, etc.)\n",
    "* BY default, all available elements will be removed, or `set_options` can be used to narrow things down."
   ]
  },
  {
   "cell_type": "code",
   "execution_count": 37,
   "metadata": {
    "scrolled": true
   },
   "outputs": [
    {
     "name": "stdout",
     "output_type": "stream",
     "text": [
      "A Salute to China's COVID Heroes\n",
      "\n",
      "BBC News - Covid: Under-30s offered alternative to AstraZeneca jab\n",
      "\n",
      "I firmly believe the usual makeup artist wasn't there because of covid &amp; they got an\n",
      "\n",
      "L.A.s young and healthy head to Bakersfield for COVID-19 vaccine\n",
      "\n",
      "Today is crisis negatively impacts mental health persons are disproportionate\n",
      "\n",
      ": Under-30s offered alternative to AstraZeneca jab\n",
      "\n",
      "AstraZeneca Covid vaccine possibly linked to blood clot events: EU drug regulato\n",
      "\n",
      "I got COVID\n",
      "\n",
      "IM FINALLY COVID FREE I TESTED NEGATIVE TODAY AFTER DAYS\n",
      "\n",
      "This FEMA clinic in Norfolk says it's taking walk-in COVID vaccinations. For anyone years or older. If you nee\n",
      "\n",
      "Ontario Covid Update\n",
      "\n",
      "/- was pre-COVID alao?!\n",
      "\n",
      "You should have controlled covid. Still people are gathering in big rally. How stupid is that. Doesnt ma\n",
      "\n",
      "Im waiting to see how a friend who did get Covid, but wasnt hospitalized, gets on.\n",
      "\n",
      "Grateful for all our is doing for the American people in the fight against We need to cooperate to th\n",
      "\n",
      "Covid: Under-30s offered alternative to AstraZeneca jab\n",
      "\n",
      "I wonder will the Leftie keyboard warriors condemn this...\n",
      "\n",
      "in Covid-19 patients are diagnosed with a neuropsychiatric condition in the next six months, large study finds\n",
      "\n",
      "Doubled up\n",
      "\n",
      "news - Number of covid fines issued in North Yorkshire drops to just over Easter s\n",
      "\n",
      "Thousands Of COVID-19 Vaccine Appointments Available For Wednesday At Camden County Mass Vaccination Site\n",
      "\n",
      "The West Virginia Department of Health and Human Resources reports new COVID-19 deaths in the state on Wednesday\n",
      "\n",
      "Dont worry mein fuhrer is sending the covid gestapo\n",
      "\n",
      "Under-30s are to be offered an alternative jab to the vaccine due to mounting evidence linking\n",
      "\n",
      "See me gingered to take the Covid vaccine. Man made me change my mind. Again I say okunrin buru\n",
      "\n",
      "Nearly completely back into the s, where I was pre-Covid.Putting back on my muscle once I hit .\n",
      "\n",
      "Brazil is facing 'biological Fukushima' and seeing new Covid variants\n",
      "\n",
      "BBC News - : Under-30s offered alternative to jab\n",
      "\n",
      "Covid: Under-30s offered alternative to AstraZeneca jab due to rare blood clots\n",
      "\n",
      "Not for Covid. Ive taken my childhood shots (polio, etc). No plans for anything more.\n",
      "\n",
      "DMX Reportedly Tests Positive For COVID-19 While In Hospital\n",
      "\n",
      "Indias leadership critical for delivering Covid vaccines across world, says US Special envoy John Kerry\n",
      "\n",
      "Yes he would, but Gove only avoided bottom spot, because he didn't have Covid to contend with......\n",
      "\n",
      "The loud voice he generally produces, can you imagine velocity of Covid-19 if he is infected one\n",
      "\n",
      "Bad mess. The city has canceled the event due to Covid, but ppl are still planning to go. The city wo\n",
      "\n",
      "Thinking about opening up stadiums to capacity? Our study shows COVID spikes after NFL fan attended games/ Data fro\n",
      "\n",
      ". Merck Statement on Ivermectin use During the COVID-19 Pandemic. WHO advises that iver\n",
      "\n",
      ": Expect eye-popping sales numbers from some consumer companies as calendar laps COVID closures\n",
      "\n",
      "Under-30s are to be offered an alternative Covid jab to the AstraZeneca vaccine due to mounting evidence linking it\n",
      "\n",
      "BREAKING: People aged to should be offered an alternative Covid vaccine to the AstraZeneca jab because of mou\n",
      "\n",
      "Has she had covid?\n",
      "\n",
      "Brazil COVID-19 deaths on track to pass worst of US wave\n",
      "\n",
      "Still blown COVID took this from me\n",
      "\n",
      "BOOM....1st dose on the card........ ....\n",
      "\n",
      "Maybe if I sell my blood that contains the COVID vaccine I can make some coin thoughts?\n",
      "\n",
      "This is that COVID POLLEN!\n",
      "\n",
      "This novel coronavirus was named Coronavirus Disease (COVID-19) by WHO in February . The v\n",
      "\n",
      "Researching the Environment and COVID-19 via NASA\n",
      "\n",
      "BREAKING: Under s in the UK are to be offered alternative Covid vaccine to AstraZeneca if available, after possib\n",
      "\n",
      "Is your business reopening next Monday?Workers without symptoms can access a free rapid COVID-19 test\n",
      "\n"
     ]
    }
   ],
   "source": [
    "import preprocessor as p\n",
    "#p.set_options(p.OPT.URL, p.OPT.RESERVED)\n",
    "for tweet in tweets_from_json:\n",
    "    print(p.clean(tweet['text']))\n",
    "    print('');"
   ]
  },
  {
   "cell_type": "markdown",
   "metadata": {
    "slideshow": {
     "slide_type": "subslide"
    }
   },
   "source": [
    "# Initializing a Credentialed API\n",
    "* Note that while you won't have to perform this task during the exam, you should know how it works."
   ]
  },
  {
   "cell_type": "code",
   "execution_count": 38,
   "metadata": {},
   "outputs": [],
   "source": [
    "import os\n",
    "import tweepy\n",
    "auth = tweepy.OAuthHandler(os.environ['APIK'],\n",
    "                           os.environ['APISK']) #Set up the app keys\n",
    "auth.set_access_token(os.environ['ACCTO'],\n",
    "                      os.environ['ACCTOS']) #set up your user tokens\n",
    "api = tweepy.API(auth, wait_on_rate_limit=True, \n",
    "                 wait_on_rate_limit_notify=True) #ALWAYS use wait_on_rate_limit to prevent yourself from getting blocked"
   ]
  },
  {
   "cell_type": "markdown",
   "metadata": {
    "slideshow": {
     "slide_type": "subslide"
    }
   },
   "source": [
    "# Getting Information About a Twitter Account\n",
    "* `API` object’s **`get_user` method** returns a **`tweepy.models.User` object** containing information about a specific user’s Twitter account"
   ]
  },
  {
   "cell_type": "code",
   "execution_count": 39,
   "metadata": {},
   "outputs": [
    {
     "name": "stdout",
     "output_type": "stream",
     "text": [
      "uofl\n",
      "39566272\n",
      "Yes, that is snow greeting us on this last day of spring semester classes (and less than two weeks from the Derby).… https://t.co/KwCbAYC7GM\n"
     ]
    }
   ],
   "source": [
    "uofl = api.get_user('uofl')\n",
    "print(uofl.screen_name)\n",
    "print(uofl.id) \n",
    "print(uofl.status.text)"
   ]
  },
  {
   "cell_type": "markdown",
   "metadata": {
    "slideshow": {
     "slide_type": "subslide"
    }
   },
   "source": [
    "## Tweepy Cursors: Retrieving Collections of Objects  \n",
    "* Tweepy cursors are required when retrieving **multi-page** results (i.e. each individual API call returns a _subset_ of available results)\n"
   ]
  },
  {
   "cell_type": "code",
   "execution_count": 40,
   "metadata": {
    "slideshow": {
     "slide_type": "-"
    }
   },
   "outputs": [],
   "source": [
    "cursor = tweepy.Cursor(api.followers, screen_name='uofl', count=200)\n",
    "followers = []\n",
    "for account in cursor.items(400):  # request 2 pages of followers\n",
    "    followers.append(account.screen_name)\n"
   ]
  },
  {
   "cell_type": "code",
   "execution_count": 41,
   "metadata": {
    "scrolled": true,
    "slideshow": {
     "slide_type": "-"
    }
   },
   "outputs": [
    {
     "name": "stdout",
     "output_type": "stream",
     "text": [
      "Followers: 009HALF51 3bhady99 502_matthew_ _______mkultra _lukeshope_ _prettyboy23 _Symbiont_ _teddybearrr_ A_Will28 AadenSean AcademicTimes ACE4923 adept_knight ahmed11ali AirleaW airzbychu8 ajhanainewton Ajo1luv AKSingh31068111 alejandrayuleem AlexandraHopeM AlexBeta16 AlexWilson65 alyssah83854847 ambermdoss Amy43844355 AmyLawyer anasMEJI AndrewTBonasera AnesehAlvanpour Anthony14664936 Artemis01491079 auggiedoggie011 AussiesAreFun AustinVerity1 ayannamonte Azygos1000 b_shearin BClark99536365 BeeShah_ BennyJ_Allen bfarias Bigz723 billyth77982628 bjbuffin boys_laundry bratta_tammy BRZpack BU2FUL88 CadeChristens12 cam_rene27 Cameron14369530 camrynfosterr CandyMa60281917 cantonious CAR_RCC_Journal caraline_new cardinal1987 CardinalReality CardinalRn21 CardsByRon cardsjosh37 CardsTyler caredotai CarinaOnAir CarolineMcMurry cathyf22 catwoman92 CHARLES_T79 chemicalmafia88 cheyennegvowell Chrisgioia3 ChrisLCarp Christo37677588 CitizensHS CJack55850201 clairechaussee9 clfrench73 cluettLaw CoachGasparato coachhawesap CoachHeins Cody_147 CoreyHildebran2 CSC2384 Curtis44580413 cutewittyname DaltonTVNews Damien37174334 DarrellRenn DavidRe03541220 DavidSakata DbzRiot DebVillegas decode_project DerekKesler DianaWi95611832 dlgensh doctor_masters Dr_TC_ dwts_alexis EclecticHd EKate320 emilyrenee1704 EmmanuelOgelek3 emmapembleton EmSinnn EnvisionSchools EobloxFan EricaMStocks EsquilicheGael EssaysLaura ethan_osbourne6 etherealbarb_ exzxyz Faraehafatima FilsonHistory Floss32Dentist FootyNos fuwhitney5 GaddieJarron GchsCoach ggdish03 GillianCastillo GlennaHeinz gphiouofl Grant_Mulligan_ growing_through guccii4x HaileyHaskins03 Haneen_AbuFreih HardHatMike HarleiMorency Hazel_Dickey hbristow2 HelloItsVG hey_harris_ Hforhydrogen HoetkerLori hollingsworth80 Holly83462536 HugoStiglitz64 iam_Terrence1 IDonotCara iedunote IGDavisJr infinitepalgz InovensoSocial intelligentprog inventtnevni Ironman_Tri2001 ItzWallace24 jakajima Jamarkius2 JamesAndrewPri2 JasmineADemers jayytres Jealous_Jenna JeffBratton4 jen_branscum jenncrockett JenniferAnnCor4 JenniferEmma18 jenthomas jeremiah_elmore JerseyBob8 jesse_mcgrew jessica_petrey jillphelps JimmieHarris17 JJCollegeSports JLDangeloDuran JMJrunnerlou JoeBidensSenile JoelBirch9 JoeSnavely3 JohnBodenbende4 jopowell0811 JORDINLEIGHH JoshuaMcham Jrock1491 juaneceballosv juicybaby33 julieab99 jutlee10 kaitgmd KaitlinConnoll5 KameronBurns4 Karlee81516491 kate_matthews4 Kathryn90759720 Kathy35727666 KatieWa03518881 KayPatr71271281 Kenneth92602763 Kenneth94069174 KentuckyCCL KevinPolstonSHI KevJacob2 kfbuck kobe78205994 koerner_tim KUNLEBAYO kwclewis KYATSociety kygal12345 KylieWa78986319 kystefanie LarSoNzz latinxdermdirec LaurenGirouard1 Lavenderrain6 LaviMelek LCommandon LeanneOgasawara LillyCrone1 LindaMLewis lippert_erich LizzRoche lmaflynn loucylowlevel Louisvi53326663 LouisvilleIFC LouKYMom1 LouYPC LsuCory LTexas1 LuanaMa71511771 LVH2068 M_Wollman MacheteTank magnetbau makaylapearle1 Malachi_Ray0530 malaka139 Manslick1 marior20042003 MarissaCathca12 MaryPatWeaver1 MaskeySmriti Matthew47644378 Matthew82742369 maxillaris_sp mbarry1969 MdAbidu59298192 MDavidNichols MeaganHaubner10 Medevah mefhsm2011 meganholland_24 mejessy_ MemberBonVivant MeredithWCU MicahBowling Michael17220630 Michael21084438 michael46450648 MiketheG0at11 milesohio1 missy7349 MohsenM26312528 mojo_the_bandit mooreric morgannewhitt97 MrPEC_Tacular MrPeetree MsRadioGoddess MuaazUmer MuntzEarlene mwgass mzjerri_imbnme mzraytrsr nancy70334747 NaoRobot Nate36482112 Nathan16464850 nBrB5sDcAGOam0I NicoleGWiseman NiTro001YT njacob25 nlombardi16 NoahBruce99 noerubi_ norgren_r NworaFoundation NyashaJones5 Olivia_H_H Omahane5159 OppNetworkOrg orr_jo OscarEm63940517 OwenSwann1 paige_destini palmisa71083278 PamAndrew10 Pamela515 paragjafar PatB70607831 patticash paytonh2023 PDisalvio PennyDee121381 PeterQu24987267 petersonlopez4 PHHired PLaurieri PlayByPlayKY POPE24766498 possiblyinabit pro_life_rep ProBiologist ProfessorMarin ProfG_Edinsurg ProfRickels Qb1Joe QualigenInc QuincyKellyJr10 qveenmochaa qzcxz2 RachelYarbroug5 RACING1514 Rascoe4Melissa RedReign808613 ResourceSora retrorter robincaplinger RobyneHunt Runfortheroses4 russell_cpa rweichselbaum Samuell sarahHomrighau1 sarahwallace896 SaraPetruska SENDME62213636 ShadrackKikita Shirley12760365 ShowkatSadek ShuaibuSagir3 skylarsmind smdonohue07 SpaldingColm srcarthens sschiefs42 sspanyer65 StarMcKenzie15 stefanclarkson2 SteveHa01700503 stevent86014054 stharp01 suite_lifeeee SWAN_NorthAm Tamaro67_ tannerdjones tanzeel_mirza TaylorBrundidge tchikka10 TeloweA tharp_kaden The_Jeff103 TheAmericanPr TheJimMoran Thelionof2021 thomasisaak1 tisLatte TobadTanisha tommmmaaaay Tonya02384764 TonyaBu76025493 toridilf tracyst61437704 traincrease TranterKatie trezkenney Trini40262090 tyootr_official uhadtu1 UKPolice uofl_aatp UofL_SPS Vanessa68332633 VAPERACE_Center Vaperace_yac vinimuzy VivM28 WBColeman15 WDRBSports WeenieAndy WeinrichKenzie WhitneyBohn WilderKellan wingspanreach wtmckenzie yaramekawi YeRoberson5 yue03212766 YungRed98 Zabih65632352 Zack_LZ_ Zovillaville18\n"
     ]
    }
   ],
   "source": [
    "print('Followers:', \n",
    "      ' '.join(sorted(followers, key=lambda s: s.lower())))"
   ]
  },
  {
   "cell_type": "markdown",
   "metadata": {
    "slideshow": {
     "slide_type": "subslide"
    }
   },
   "source": [
    "## Alternate Approach: Getting Follower IDs Rather Than Followers\n",
    "* Can get **many more Twitter IDs** by calling **`followers_ids` method** instead of **followers**\n",
    "* In conjunction with the **`lookup_users`** method, we can retrieve information on many more (10x+) followers than with the `followers` method. \n",
    "* _This serves as an important example to emphasize there are multiple approaches to obtaining desired information using Twitter API, and not all are  equally as efficient._"
   ]
  },
  {
   "cell_type": "markdown",
   "metadata": {
    "slideshow": {
     "slide_type": "subslide"
    }
   },
   "source": [
    "## Getting a User’s Recent Tweets \n",
    "* We can use the `API` object's **`user_timeline`** method to obtain a user's recent tweets."
   ]
  },
  {
   "cell_type": "code",
   "execution_count": 42,
   "metadata": {
    "scrolled": false,
    "slideshow": {
     "slide_type": "-"
    }
   },
   "outputs": [
    {
     "name": "stdout",
     "output_type": "stream",
     "text": [
      "uofl: Yes, that is snow greeting us on this last day of spring semester classes (and less than two weeks from the Derby).… https://t.co/KwCbAYC7GM\n",
      "\n",
      "uofl: There’s nothing quite like spring on campus ❤️ https://t.co/6BC63M6dBO\n",
      "\n",
      "uofl: RT @GoCards: ✔️ Student-Athletes\n",
      "✔️ Coaches\n",
      "✔️ Louie\n",
      "\n",
      "Everyone is doing their part &amp; getting vaccinated at Cardinal Stadium thanks to the a…\n",
      "\n",
      "uofl: The @UofLbiz Project on Positive Leadership has launched a smartphone app to help new and experienced leaders hone… https://t.co/ZPmOLCxWHD\n",
      "\n",
      "uofl: @shessolouky @dmlang04 Beautiful day to flash some Ls!\n",
      "\n"
     ]
    }
   ],
   "source": [
    "# Note: should use Cursor if getting more than max tweets per call\n",
    "nasa_tweets = api.user_timeline(screen_name='uofl', count=5)\n",
    "for tweet in nasa_tweets:\n",
    "    print(f'{tweet.user.screen_name}: {tweet.text}\\n')"
   ]
  },
  {
   "cell_type": "markdown",
   "metadata": {
    "slideshow": {
     "slide_type": "subslide"
    }
   },
   "source": [
    "# Searching for Recent Tweets with the Search API\n",
    "* Can return up to 100 recent tweets within the previous seven days\n",
    "* A query string is almost always used to look for specific keywords or other elements"
   ]
  },
  {
   "cell_type": "code",
   "execution_count": 43,
   "metadata": {
    "scrolled": true,
    "slideshow": {
     "slide_type": "-"
    }
   },
   "outputs": [
    {
     "name": "stdout",
     "output_type": "stream",
     "text": [
      "[Tricentis: We're excited to announce the hire of @KThompsonSWI as Tricentis CEO and chairman of the board! Kevin is a seasoned… https://t.co/JfjlbAHvrK]\n",
      "\n",
      "[TheIP100: Congrats to one of our 2019 top-20 entrants, @Candidate_ID, who have secured £1.3m of funding! This Glasgow-based s… https://t.co/duDq2PegHo]\n",
      "\n",
      "[andyfusion1: Does anybody know of any Senior Software Engineers looking for a new opportunity at the moment? Remote with 1 day p… https://t.co/hvssMGTiaw]\n",
      "\n",
      "[scottbw: @erikkain I work in Open Source and increasingly have to deal with folks getting upset that the freedom to use soft… https://t.co/WwTJcueqyj]\n",
      "\n",
      "[pitchprint: New Feature Alert ‼️\n",
      "#activityhistory #PrintIndustry #software #web2print https://t.co/RzlQghk2xZ]\n",
      "\n",
      "[Avaaz: ⚠️Attention, Apple users! 🍎  \n",
      "Any day now, Apple’s new software update will allow users to opt out of cross-app tra… https://t.co/kYLYpKZCZZ]\n",
      "\n",
      "[Brainlly1: RT @CionekJackson: Neurogames: Using Photon Network to build Multiplayer Serius Games applied to Scientific Researches \n",
      "\n",
      "Software Developme…]\n",
      "\n",
      "[UPM_Press: RT @archivoupm: Urdin Holgado, Uxue (2020). Desarrollo de una aplicación software para la detección de eventos acústicos basado en redes ne…]\n",
      "\n",
      "[FiloSottile: Possibly unpopular opinion, but I feel like \"only merge things after verifying they are valid\" should maybe be the… https://t.co/bZ19dOqkSD]\n",
      "\n",
      "[stroughtonsmith: RT @markgurman: Today’s ⁦@technology⁩ newsletter: It's time for Apple to pull off the Band Aid and merge the iPad and Mac—at least their op…]\n",
      "\n"
     ]
    }
   ],
   "source": [
    "tweets = api.search(q='Software', count=10)\n",
    "for tweet in tweets:\n",
    "    print(f'[{tweet.user.screen_name}:', end=' ')\n",
    "    print(f'{tweet.text}]')\n",
    "    print('')\n"
   ]
  },
  {
   "cell_type": "markdown",
   "metadata": {
    "slideshow": {
     "slide_type": "subslide"
    }
   },
   "source": [
    "# Spotting Trends with Twitter Trends API\n",
    "* We can use the `trends_place` api to locate regional trends according to a WOEID\n",
    "    * The WOEID represents a code for the region of interest (1=worldwide)"
   ]
  },
  {
   "cell_type": "code",
   "execution_count": 44,
   "metadata": {
    "slideshow": {
     "slide_type": "-"
    }
   },
   "outputs": [],
   "source": [
    "lou_trends_comp = api.trends_place(id=2442327)\n",
    "lou_trends = lou_trends_comp[0]['trends']\n",
    "lou_trends_baseline = [t for t in lou_trends if t['tweet_volume']] #retrieve only those trends with >10k tweet volume\n"
   ]
  },
  {
   "cell_type": "code",
   "execution_count": 45,
   "metadata": {
    "scrolled": true,
    "slideshow": {
     "slide_type": "subslide"
    }
   },
   "outputs": [
    {
     "name": "stdout",
     "output_type": "stream",
     "text": [
      "               Knife     339982\n",
      "                Ohio     337401\n",
      "               Mario     205094\n",
      "       #makhiabryant     153912\n",
      "          FOUR TIMES     102067\n",
      "                STAB      87648\n",
      "      Tucker Carlson      80086\n",
      "   Blue Lives Matter      46342\n",
      "               Derby      39526\n",
      "       Stacey Abrams      27948\n",
      "   #wednesdaythought      27023\n",
      "    Kyle Rittenhouse      26564\n",
      "          All Access      23090\n",
      "  Justice Department      23052\n",
      "                ASHE      18135\n",
      "      Good Wednesday      17016\n",
      "Minneapolis Police Department      15788\n",
      "            Hump Day      14784\n",
      "   Nobel Peace Prize      12508\n",
      "            Kentucky      12369\n",
      "       Mother Nature      12185\n",
      "             McEnany      11652\n",
      "              Tasers      10495\n",
      "          AG Garland      10335\n"
     ]
    }
   ],
   "source": [
    "from operator import itemgetter \n",
    "lou_trends_baseline.sort(key=itemgetter('tweet_volume'), reverse=True) \n",
    "for trend in lou_trends_baseline:\n",
    "    curtname=trend['name']\n",
    "    curtvol = trend['tweet_volume']\n",
    "    print(f'{curtname:>20} {curtvol:>10}')\n",
    "\n",
    "    #print(f'{trend['name']:>20} {trend['tweet_volume']:>10}')\n",
    "\n"
   ]
  },
  {
   "cell_type": "markdown",
   "metadata": {
    "slideshow": {
     "slide_type": "subslide"
    }
   },
   "source": [
    "## Other Twitter Concerns\n",
    "* We created a derived version of the `TweetListener` class (`SentimentListener`) to monitor for streaming tweets on a particular issue, and measure the associated sentiment of each tweet. \n",
    "* We used the `**geopy**` library and a web-service to find latitude and longitude for tweets.\n",
    "    * These locations were then plotted on a map using `folium`."
   ]
  },
  {
   "cell_type": "markdown",
   "metadata": {
    "slideshow": {
     "slide_type": "slide"
    }
   },
   "source": [
    "# Topic 4: Machine Learning (Sessions 35-38)\n",
    "* We observed several machine learning tasks in action on a variety of datasets.\n",
    "* We performed several visualizations for the associated tasks.\n",
    "* We looked at concerns regarding training and testing (overfitting, cross-validation testing etc.) along the way. "
   ]
  },
  {
   "cell_type": "markdown",
   "metadata": {
    "slideshow": {
     "slide_type": "subslide"
    }
   },
   "source": [
    "## ML Task 1: Classification\n",
    "\n",
    "* **Classification algorithms predict the discrete classes (categories) to which samples belong.**\n",
    "    * Classification is the first of two primary **supervising learning** tasks.\n",
    "    * **Binary classification** uses two classes, such as “spam” or “not spam” in an email classification application. \n",
    "    * **Multi-classification** uses more than two classes, such as the 10 classes, 0 through 9, in the Digits dataset.     \n",
    "* We used the **Digits dataset** bundled with **scikit-learn** to explore classification. \n"
   ]
  },
  {
   "cell_type": "markdown",
   "metadata": {
    "slideshow": {
     "slide_type": "subslide"
    }
   },
   "source": [
    "## ML Task 2: Regression\n",
    "* **Regression problems** involve prediction of a **continuous output** target variable as a function of other variables.\n",
    "* Regression is the second of the two primary supervised learning tasks.\n",
    "* This leads to a conceptually and computationally distinct challenge in comparison to classification problems.\n",
    "* Broadly speaking, regression approaches can be broken apart into **linear regression** and **non-linear regression** analyses.\n",
    "* For the purposes of this class, we solely focused on linear regression through the assistance of `sklearn`'s **`LinearRegression` estimator**.\n",
    "    * We performed **simple linear regression** (tying a single independent variable to the target variable) for the January month Temperature dataset.  \n",
    "    * We then performed **multiple linear regression** to tie multiple independent variables from the California dataset to median house value."
   ]
  },
  {
   "cell_type": "markdown",
   "metadata": {
    "slideshow": {
     "slide_type": "subslide"
    }
   },
   "source": [
    "## ML Task 3: Unsupervised Learning\n",
    "* We used `t-SNE` conversion to visualize a large scale dataset (the digits dataset with 64 dimensions) in 2 dimensions.\n",
    "    * We further explored how well the visualization breaks apart the different digits. \n",
    "* We then performed `K-means` clustering on the **Iris** dataset.\n",
    "    We focused on determining what classes our unsupervised clustering could break apart different Iris species successfully.\n",
    "* **Note: You can expect similar visualization requirements on the programming portion of the exam!**"
   ]
  },
  {
   "cell_type": "code",
   "execution_count": null,
   "metadata": {},
   "outputs": [],
   "source": []
  }
 ],
 "metadata": {
  "celltoolbar": "Slideshow",
  "kernelspec": {
   "display_name": "Python 3",
   "language": "python",
   "name": "python3"
  },
  "language_info": {
   "codemirror_mode": {
    "name": "ipython",
    "version": 3
   },
   "file_extension": ".py",
   "mimetype": "text/x-python",
   "name": "python",
   "nbconvert_exporter": "python",
   "pygments_lexer": "ipython3",
   "version": "3.9.1"
  }
 },
 "nbformat": 4,
 "nbformat_minor": 4
}
