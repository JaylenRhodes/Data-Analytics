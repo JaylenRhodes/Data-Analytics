{
 "cells": [
  {
   "cell_type": "markdown",
   "metadata": {
    "slideshow": {
     "slide_type": "slide"
    }
   },
   "source": [
    "## Last Session\n",
    "\n",
    "* We closed our discussion of arrays\n",
    "* We introduced `pandas` and data _series_"
   ]
  },
  {
   "cell_type": "markdown",
   "metadata": {
    "slideshow": {
     "slide_type": "subslide"
    }
   },
   "source": [
    "## This Session\n",
    "* This session will focus entirely on DataFrames (and there will _still_ be more ground to cover).\n",
    "* Note that there are also exercises available for interested parties on Blackboard for Wednesday  (these deal predominantly with arrays)"
   ]
  },
  {
   "cell_type": "markdown",
   "metadata": {
    "slideshow": {
     "slide_type": "slide"
    }
   },
   "source": [
    "## `DataFrames` \n",
    "* Enhanced two-dimensional `array`\n",
    "* Can have custom row and column indices\n",
    "* Offers additional operations and capabilities that make them fundamental for many data-science oriented tasks\n",
    "* Support missing data (important for real world considerations)\n",
    "* Each column in a `DataFrame` is a `Series`"
   ]
  },
  {
   "cell_type": "markdown",
   "metadata": {
    "slideshow": {
     "slide_type": "subslide"
    }
   },
   "source": [
    "### Creating a `DataFrame` from a Dictionary\n",
    "* One of the simplest ways to create a dataframe is to use the `DataFrame` constructor with dictionary that has list _values_\n",
    "* The keys of the dictionary determine the nature of the dataframe _columns_.\n",
    "* Indices are automatically assigned in sequential numerical order.\n",
    "* While homogenous lists are permitted, lists of mixed types may be used to obtain a dataframe with _heterogenous_ data."
   ]
  },
  {
   "cell_type": "code",
   "execution_count": 1,
   "metadata": {
    "slideshow": {
     "slide_type": "subslide"
    }
   },
   "outputs": [
    {
     "name": "stdout",
     "output_type": "stream",
     "text": [
      "   Wally  Eva  Sam  Katie  Bob\n",
      "0     87  100   94    100   83\n",
      "1     96   87   77     81   65\n",
      "2     70   90   90     82   85\n"
     ]
    }
   ],
   "source": [
    "import pandas as pd\n",
    "grades_dict = {'Wally': [87, 96, 70], 'Eva': [100, 87, 90],\n",
    "               'Sam': [94, 77, 90], 'Katie': [100, 81, 82],\n",
    "               'Bob': [83, 65, 85]}\n",
    "grades = pd.DataFrame(grades_dict) #dataframe with homogenous data\n",
    "print(grades)"
   ]
  },
  {
   "cell_type": "code",
   "execution_count": 2,
   "metadata": {
    "slideshow": {
     "slide_type": "fragment"
    }
   },
   "outputs": [
    {
     "name": "stdout",
     "output_type": "stream",
     "text": [
      "    LName  StudentID  GPA\n",
      "0   James     111111  3.8\n",
      "1  Caldin     123456  3.6\n",
      "2   Smith     246802  3.5\n"
     ]
    }
   ],
   "source": [
    "students_dict = {'LName':['James','Caldin', 'Smith'], 'StudentID': [111111, 123456, 246802], 'GPA': [3.8, 3.6, 3.5]}\n",
    "students = pd.DataFrame(students_dict) #dataframe with heterogenous data\n",
    "print(students)"
   ]
  },
  {
   "cell_type": "markdown",
   "metadata": {
    "slideshow": {
     "slide_type": "slide"
    }
   },
   "source": [
    "### Customizing a `DataFrame`’s Indices with the `index` Attribute \n",
    "* Can use the **`index` attribute** to change the `DataFrame`’s indices from sequential integers to labels\n",
    "* Must provide a one-dimensional collection that has the same number of elements as there are _rows_ in the `DataFrame`"
   ]
  },
  {
   "cell_type": "code",
   "execution_count": 3,
   "metadata": {
    "slideshow": {
     "slide_type": "fragment"
    }
   },
   "outputs": [
    {
     "name": "stdout",
     "output_type": "stream",
     "text": [
      "       Wally  Eva  Sam  Katie  Bob\n",
      "Test1     87  100   94    100   83\n",
      "Test2     96   87   77     81   65\n",
      "Test3     70   90   90     82   85\n"
     ]
    }
   ],
   "source": [
    "grades.index = ['Test1', 'Test2', 'Test3']\n",
    "print(grades)"
   ]
  },
  {
   "cell_type": "markdown",
   "metadata": {
    "slideshow": {
     "slide_type": "slide"
    }
   },
   "source": [
    "### Accessing a `DataFrame`’s Columns \n",
    "* Can quickly and conveniently look at your data in many different ways, including selecting portions of the data\n",
    "* We can retrieve a single column using the appropriate index, which returns a view of it as a data _series_. \n",
    "* If a `DataFrame`’s column-name strings are valid Python identifiers, you can access them as attributes."
   ]
  },
  {
   "cell_type": "code",
   "execution_count": null,
   "metadata": {
    "slideshow": {
     "slide_type": "subslide"
    }
   },
   "outputs": [],
   "source": [
    "print(grades['Eva']) #retrieve all of Eva's grades"
   ]
  },
  {
   "cell_type": "code",
   "execution_count": null,
   "metadata": {
    "slideshow": {
     "slide_type": "fragment"
    }
   },
   "outputs": [],
   "source": [
    "print(students['StudentID']) \n",
    "print(students.StudentID) #identical to the statement above"
   ]
  },
  {
   "cell_type": "markdown",
   "metadata": {
    "slideshow": {
     "slide_type": "subslide"
    }
   },
   "source": [
    "### Selecting Rows via the `loc` and `iloc` Attributes\n",
    "* `DataFrame`s support indexing capabilities with `[]`, but pandas documentation recommends using the attributes `loc`, `iloc`, `at` and `iat`\n",
    "    * Optimized to access `DataFrame`s and also prevents ambiguity (e.g. when we see `loc` it is immediately clear a dataframe is involved.\n",
    "    * We can access a row by its _label_ via the `DataFrame`’s **`loc` attribute**\n",
    "    * Alternatively, we can access a row by its _index_ via the **iloc attribute** "
   ]
  },
  {
   "cell_type": "code",
   "execution_count": 4,
   "metadata": {
    "slideshow": {
     "slide_type": "subslide"
    }
   },
   "outputs": [
    {
     "name": "stdout",
     "output_type": "stream",
     "text": [
      "Wally     87\n",
      "Eva      100\n",
      "Sam       94\n",
      "Katie    100\n",
      "Bob       83\n",
      "Name: Test1, dtype: int64\n"
     ]
    }
   ],
   "source": [
    "print(grades.loc['Test1']) #Access the first test (index 0)\n"
   ]
  },
  {
   "cell_type": "code",
   "execution_count": null,
   "metadata": {
    "slideshow": {
     "slide_type": "fragment"
    }
   },
   "outputs": [],
   "source": [
    "print(grades.iloc[1]) #Access the second test (index 1)"
   ]
  },
  {
   "cell_type": "markdown",
   "metadata": {
    "slideshow": {
     "slide_type": "subslide"
    }
   },
   "source": [
    "### Selecting Rows via Slices with the `loc` and `iloc` Attributes\n",
    "* Indices can use _slice_ notation\n",
    "    * When using slices containing _labels_ with `loc`, the range specified **includes** the second label\n",
    "    * When using slices containing _indices_ with `iloc`, the range specified **excludes** the second index "
   ]
  },
  {
   "cell_type": "code",
   "execution_count": 6,
   "metadata": {
    "slideshow": {
     "slide_type": "fragment"
    }
   },
   "outputs": [
    {
     "name": "stdout",
     "output_type": "stream",
     "text": [
      "       Wally  Eva  Sam  Katie  Bob\n",
      "Test1     87  100   94    100   83\n",
      "Test2     96   87   77     81   65\n",
      "Test3     70   90   90     82   85\n"
     ]
    }
   ],
   "source": [
    "print(grades.loc['Test1':'Test3'])"
   ]
  },
  {
   "cell_type": "code",
   "execution_count": 5,
   "metadata": {
    "slideshow": {
     "slide_type": "fragment"
    }
   },
   "outputs": [
    {
     "name": "stdout",
     "output_type": "stream",
     "text": [
      "       Wally  Eva  Sam  Katie  Bob\n",
      "Test1     87  100   94    100   83\n",
      "Test2     96   87   77     81   65\n"
     ]
    }
   ],
   "source": [
    "print(grades.iloc[0:2])"
   ]
  },
  {
   "cell_type": "markdown",
   "metadata": {
    "slideshow": {
     "slide_type": "subslide"
    }
   },
   "source": [
    "### Selecting Rows via Lists with the `loc` and `iloc` Attributes\n",
    "* List notation can be used as with arrays or series (remember the brackets!)\n",
    "    * As with arrays and series, accessing with slices generates a _shallow_ copy\n",
    "    * Using list notation generates a _deep_ copy"
   ]
  },
  {
   "cell_type": "code",
   "execution_count": null,
   "metadata": {},
   "outputs": [],
   "source": [
    "print(grades.loc[['Test1', 'Test3']])"
   ]
  },
  {
   "cell_type": "code",
   "execution_count": null,
   "metadata": {
    "slideshow": {
     "slide_type": "subslide"
    }
   },
   "outputs": [],
   "source": [
    "print(grades.iloc[[0, 2]])"
   ]
  },
  {
   "cell_type": "markdown",
   "metadata": {
    "slideshow": {
     "slide_type": "subslide"
    }
   },
   "source": [
    "### Selecting Subsets of the Rows and Columns \n",
    "* Add a _second_ argument to either `loc` or `iloc` to access specific columns\n",
    "* `loc` requires column names, while `iloc` requires their numerical index.\n",
    "* General notation rules follow those for arrays."
   ]
  },
  {
   "cell_type": "code",
   "execution_count": 9,
   "metadata": {
    "slideshow": {
     "slide_type": "fragment"
    }
   },
   "outputs": [
    {
     "name": "stdout",
     "output_type": "stream",
     "text": [
      "       Eva  Bob\n",
      "Test1  100   83\n",
      "Test2   87   65\n"
     ]
    }
   ],
   "source": [
    "print(grades.loc['Test1':'Test2', ['Eva', 'Bob']]) #Return the first two test scores for Eva and Bob"
   ]
  },
  {
   "cell_type": "code",
   "execution_count": 8,
   "metadata": {
    "slideshow": {
     "slide_type": "fragment"
    }
   },
   "outputs": [
    {
     "name": "stdout",
     "output_type": "stream",
     "text": [
      "       Wally  Eva  Sam\n",
      "Test1     87  100   94\n",
      "Test2     96   87   77\n",
      "Test3     70   90   90\n"
     ]
    }
   ],
   "source": [
    "print(grades.iloc[:, 0:3]) #Return all test scores for the first three columns (individuals)"
   ]
  },
  {
   "cell_type": "markdown",
   "metadata": {
    "slideshow": {
     "slide_type": "subslide"
    }
   },
   "source": [
    "### Boolean Indexing\n",
    "* One of pandas’ more powerful selection capabilities is **Boolean indexing**\n",
    "* We can, for example, select all the grades within a specific range from our prior dataframe\n",
    "    * Pandas checks every grade to determine whether its within a certain range, if so, includes it in the new `DataFrame`.\n",
    "    * Grades for which the condition is `False` are represented as **`NaN` (not a number)** in the new `DataFrame\n",
    "    * `NaN` is pandas’ notation for missing values (note these are not included in summary statistics)"
   ]
  },
  {
   "cell_type": "code",
   "execution_count": 7,
   "metadata": {},
   "outputs": [
    {
     "name": "stdout",
     "output_type": "stream",
     "text": [
      "       Wally    Eva   Sam  Katie  Bob\n",
      "Test1    NaN  100.0  94.0  100.0  NaN\n",
      "Test2   96.0    NaN   NaN    NaN  NaN\n",
      "Test3    NaN   90.0  90.0    NaN  NaN\n"
     ]
    }
   ],
   "source": [
    "print(grades[grades >= 90])#display data frame including only \"A\" grades"
   ]
  },
  {
   "cell_type": "markdown",
   "metadata": {
    "slideshow": {
     "slide_type": "subslide"
    }
   },
   "source": [
    "### Combining Conditions\n",
    "* Pandas Boolean indices combine multiple conditions with the Python operator `&` (bitwise AND), _not_ the `and` Boolean operator\n",
    "* For `or` conditions, use `|` (bitwise OR)\n",
    "* NumPy also supports Boolean indexing for `array`s, but always returns a one-dimensional array containing only the values that satisfy the condition"
   ]
  },
  {
   "cell_type": "code",
   "execution_count": 10,
   "metadata": {
    "slideshow": {
     "slide_type": "fragment"
    }
   },
   "outputs": [
    {
     "name": "stdout",
     "output_type": "stream",
     "text": [
      "       Wally   Eva  Sam  Katie   Bob\n",
      "Test1   87.0   NaN  NaN    NaN  83.0\n",
      "Test2    NaN  87.0  NaN   81.0   NaN\n",
      "Test3    NaN   NaN  NaN   82.0  85.0\n"
     ]
    }
   ],
   "source": [
    "print(grades[(grades >= 80) & (grades < 90)]) #display dataframe including only \"B\" grades"
   ]
  },
  {
   "cell_type": "code",
   "execution_count": 11,
   "metadata": {
    "slideshow": {
     "slide_type": "fragment"
    }
   },
   "outputs": [
    {
     "name": "stdout",
     "output_type": "stream",
     "text": [
      "       Wally    Eva   Sam  Katie  Bob\n",
      "Test1    NaN  100.0   NaN  100.0  NaN\n",
      "Test2    NaN    NaN   NaN    NaN  NaN\n",
      "Test3    NaN   90.0  90.0    NaN  NaN\n"
     ]
    }
   ],
   "source": [
    "print(grades[(grades == 100) | (grades == 90) | (grades == 80)]) #display dataframe including only \"borderline\" grades"
   ]
  },
  {
   "cell_type": "markdown",
   "metadata": {
    "slideshow": {
     "slide_type": "subslide"
    }
   },
   "source": [
    "### Accessing a Specific `DataFrame` Cell by Row and Column\n",
    "* Use `DataFrame` method **`at`** to get a single value from a dataframe based on labels\n",
    "* Likewise, use method **`iat`** to get a single value from a dataframe based on indices\n",
    "* These can be used both for retrieval and for assignment"
   ]
  },
  {
   "cell_type": "code",
   "execution_count": 12,
   "metadata": {
    "slideshow": {
     "slide_type": "fragment"
    }
   },
   "outputs": [
    {
     "name": "stdout",
     "output_type": "stream",
     "text": [
      "87\n"
     ]
    }
   ],
   "source": [
    "print(grades.at['Test2', 'Eva']) #Retrieve Eva's grade on the second test"
   ]
  },
  {
   "cell_type": "code",
   "execution_count": null,
   "metadata": {
    "slideshow": {
     "slide_type": "fragment"
    }
   },
   "outputs": [],
   "source": [
    "print(grades.iat[2, 0]) #Retrieve the grade associated with row 2 and column 0"
   ]
  },
  {
   "cell_type": "code",
   "execution_count": null,
   "metadata": {
    "slideshow": {
     "slide_type": "subslide"
    }
   },
   "outputs": [],
   "source": [
    "grades.at['Test1', 'Bob'] = 93\n",
    "print(grades)"
   ]
  },
  {
   "cell_type": "code",
   "execution_count": null,
   "metadata": {
    "slideshow": {
     "slide_type": "fragment"
    }
   },
   "outputs": [],
   "source": [
    "grades.iat[1, 2] = 87\n",
    "print(grades)"
   ]
  },
  {
   "cell_type": "markdown",
   "metadata": {
    "slideshow": {
     "slide_type": "subslide"
    }
   },
   "source": [
    "### Descriptive Statistics\n",
    "* `DataFrame`s **`describe` method** calculates basic descriptive statistics for the data and returns them as a `DataFrame`\n",
    "* Statistics are calculated by column \n",
    "* Quick way to summarize your data\n",
    "* Nicely demonstrates the power of array-oriented programming with a clean, concise functional-style call\n",
    "* Can control the precision and other default settings with pandas’ **`set_option` function**"
   ]
  },
  {
   "cell_type": "code",
   "execution_count": null,
   "metadata": {
    "slideshow": {
     "slide_type": "fragment"
    }
   },
   "outputs": [],
   "source": [
    "print(grades.describe())"
   ]
  },
  {
   "cell_type": "code",
   "execution_count": 13,
   "metadata": {
    "slideshow": {
     "slide_type": "subslide"
    }
   },
   "outputs": [
    {
     "name": "stdout",
     "output_type": "stream",
     "text": [
      "       Wally     Eva    Sam   Katie    Bob\n",
      "count   3.00    3.00   3.00    3.00   3.00\n",
      "mean   84.33   92.33  87.00   87.67  77.67\n",
      "std    13.20    6.81   8.89   10.69  11.02\n",
      "min    70.00   87.00  77.00   81.00  65.00\n",
      "25%    78.50   88.50  83.50   81.50  74.00\n",
      "50%    87.00   90.00  90.00   82.00  83.00\n",
      "75%    91.50   95.00  92.00   91.00  84.00\n",
      "max    96.00  100.00  94.00  100.00  85.00\n"
     ]
    }
   ],
   "source": [
    "pd.set_option('precision', 2)\n",
    "print(grades.describe())"
   ]
  },
  {
   "cell_type": "markdown",
   "metadata": {
    "slideshow": {
     "slide_type": "subslide"
    }
   },
   "source": [
    "* For student grades, the most important of these statistics may be the mean\n",
    "* Can calculate that for each student simply by calling `mean` on the `DataFrame`"
   ]
  },
  {
   "cell_type": "code",
   "execution_count": null,
   "metadata": {
    "slideshow": {
     "slide_type": "fragment"
    }
   },
   "outputs": [],
   "source": [
    "print(grades.mean())"
   ]
  },
  {
   "cell_type": "markdown",
   "metadata": {
    "slideshow": {
     "slide_type": "slide"
    }
   },
   "source": [
    "### Transposing the `DataFrame` with the `T` Attribute\n",
    "* We can quickly **transpose** rows and columns—so the rows become the columns, and the columns become the rows—by using the **`T` attribute** to get a view\n",
    "* We can then use apply methods like `describe` or `mean` to compute summary information of what were _originally_ the rows"
   ]
  },
  {
   "cell_type": "code",
   "execution_count": null,
   "metadata": {
    "slideshow": {
     "slide_type": "fragment"
    }
   },
   "outputs": [],
   "source": [
    "print(grades.T)"
   ]
  },
  {
   "cell_type": "code",
   "execution_count": null,
   "metadata": {
    "slideshow": {
     "slide_type": "subslide"
    }
   },
   "outputs": [],
   "source": [
    "print(grades.T.mean()) #Average student grades per test\n",
    "print()\n",
    "print(grades.T.describe()) #Print more detailed summary information about the tests"
   ]
  },
  {
   "cell_type": "markdown",
   "metadata": {
    "slideshow": {
     "slide_type": "subslide"
    }
   },
   "source": [
    "### Sorting by Rows or Columns by Indices\n",
    "* A `DataFrame` can be sorted by its rows or columns, based on their indices or values\n",
    "* By default, this will sort elements by _ascending_ order\n",
    "* Sort the rows by their _indices_ in _descending_ order using **`sort_index`** and its keyword argument `ascending=False` \n",
    "* Use the `axis=1` **keyword argument** with the `sort_index` method to sort by column indices."
   ]
  },
  {
   "cell_type": "code",
   "execution_count": null,
   "metadata": {
    "slideshow": {
     "slide_type": "subslide"
    }
   },
   "outputs": [],
   "source": [
    "print(grades.sort_index()) #This prints a copy of the original (since indices were already sorted!)"
   ]
  },
  {
   "cell_type": "code",
   "execution_count": null,
   "metadata": {
    "slideshow": {
     "slide_type": "fragment"
    }
   },
   "outputs": [],
   "source": [
    "print(grades.sort_index(ascending=False)) #This prints a version of the original with rows sorted in descending order"
   ]
  },
  {
   "cell_type": "code",
   "execution_count": null,
   "metadata": {
    "slideshow": {
     "slide_type": "fragment"
    }
   },
   "outputs": [],
   "source": [
    "print(grades.sort_index(axis=1,ascending=False)) #Note that column indices already HAVE a string representation"
   ]
  },
  {
   "cell_type": "markdown",
   "metadata": {
    "slideshow": {
     "slide_type": "subslide"
    }
   },
   "source": [
    "### Sorting using `by`\n",
    "* The `by` **keyword argument** permits us to sort a data-frame using one particular row or column\n",
    "* `by` and `axis` arguments work together to determine which values will be sorted"
   ]
  },
  {
   "cell_type": "code",
   "execution_count": null,
   "metadata": {
    "slideshow": {
     "slide_type": "fragment"
    }
   },
   "outputs": [],
   "source": [
    "print(grades.sort_values(by='Test1', axis=1, ascending=False)) #Sort dataframe according to best grades on \"Test2\""
   ]
  },
  {
   "cell_type": "code",
   "execution_count": null,
   "metadata": {
    "slideshow": {
     "slide_type": "fragment"
    }
   },
   "outputs": [],
   "source": [
    "print(grades.sort_values(by='Bob', axis=0, ascending=False)) #Sort dataframe according to which tests Bob performed the best"
   ]
  },
  {
   "cell_type": "markdown",
   "metadata": {
    "slideshow": {
     "slide_type": "subslide"
    }
   },
   "source": [
    "### Copy vs. In-Place Sorting\n",
    "* `sort_index` and `sort_values` return a _copy_ of the original `DataFrame`\n",
    "* Could require substantial memory in a big data application\n",
    "* Can sort _in place_ by passing the keyword argument `inplace=True` "
   ]
  }
 ],
 "metadata": {
  "celltoolbar": "Slideshow",
  "kernelspec": {
   "display_name": "Python 3 (ipykernel)",
   "language": "python",
   "name": "python3"
  },
  "language_info": {
   "codemirror_mode": {
    "name": "ipython",
    "version": 3
   },
   "file_extension": ".py",
   "mimetype": "text/x-python",
   "name": "python",
   "nbconvert_exporter": "python",
   "pygments_lexer": "ipython3",
   "version": "3.9.7"
  }
 },
 "nbformat": 4,
 "nbformat_minor": 4
}
