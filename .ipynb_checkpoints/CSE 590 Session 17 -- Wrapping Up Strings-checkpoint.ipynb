{
 "cells": [
  {
   "cell_type": "markdown",
   "metadata": {
    "slideshow": {
     "slide_type": "slide"
    }
   },
   "source": [
    "# Last Time\n",
    "* We looked at the basics of loading a text file and reading its \"words\" into a list.\n",
    "* We worked through some exercises related to lists, sets, and dictionaries.\n",
    "* We took a second look at formatting strings."
   ]
  },
  {
   "cell_type": "markdown",
   "metadata": {
    "slideshow": {
     "slide_type": "subslide"
    }
   },
   "source": [
    "# This Time\n",
    "* We'll wrap our discussion of principal string operations.\n",
    "* We _may_ start our discussion of regular expression matching and manipulation."
   ]
  },
  {
   "cell_type": "markdown",
   "metadata": {
    "slideshow": {
     "slide_type": "slide"
    }
   },
   "source": [
    "# String Introduction\n",
    "* Strings support many of the same sequence operations as lists and tuples\n",
    "* Strings, like tuples, are immutable\n",
    "* Here, we take a deeper look at general string functionality \n",
    "* String manipulation is vital in understanding regular expressions and the `re` module for matching patterns in text, which is particularly important in addressing today’s data rich applications."
   ]
  },
  {
   "cell_type": "markdown",
   "metadata": {
    "slideshow": {
     "slide_type": "notes"
    }
   },
   "source": [
    "# String Introduction (cont.)\n",
    "* The table below shows many string-processing and NLP-related applications"
   ]
  },
  {
   "cell_type": "markdown",
   "metadata": {
    "slideshow": {
     "slide_type": "notes"
    }
   },
   "source": [
    "| String and NLP applications\n",
    "| ------------------------\n",
    "| Anagrams\n",
    "| Automated grading of written homework\n",
    "| Automated teaching systems\n",
    "| Categorizing articles\n",
    "| Chatbots\n",
    "| Compilers and interpreters\n",
    "| Creative writing\n",
    "| Cryptography\n",
    "| Document classification\n",
    "| Document similarity\n",
    "| Document summarization\n",
    "| Electronic book readers\n",
    "| Fraud detection\n",
    "| Grammar checkers\n",
    "| Inter-language translation\n",
    "| Legal document preparation\n",
    "| Monitoring social media posts\n",
    "| Natural language understanding\n",
    "| Opinion analysis\n",
    "| Page-composition software\n",
    "| Palindromes\n",
    "| Parts-of-speech tagging\n",
    "| Project Gutenberg free books\n",
    "| Reading books, articles, documentation and absorbing knowledge\n",
    "| Search engines\n",
    "| Sentiment analysis\n",
    "| Spam classification\n",
    "| Speech-to-text engines\n",
    "| Spell checkers\n",
    "| Steganography\n",
    "| Text editors\n",
    "| Text-to-speech engines\n",
    "| Web scraping\n",
    "| Who authored Shakespeare’s works?\n",
    "| Word clouds\n",
    "| Word games\n",
    "| Writing medical diagnoses from x-rays, scans, blood tests\n",
    "| and many more… \t\t\n",
    "\t\t\n",
    "\t\t\n",
    "\t\t\n",
    "\t\t\n",
    "\t\t\n",
    "\t\t\n",
    "\t\t\n",
    "\t\t\n",
    "\t\t\n",
    "\t\t\n",
    "\t\t"
   ]
  },
  {
   "cell_type": "markdown",
   "metadata": {
    "slideshow": {
     "slide_type": "slide"
    }
   },
   "source": [
    "## String’s `format` Method\n",
    "* f-strings were added to Python in version 3.6\n",
    "* Before that, formatting was performed with the string method **`format`**\n",
    "* f-string formatting is based on the `format` method’s capabilities\n",
    "* The principal concept was to call `format` as a _method_ on a **format string** containing curly brace (`{}`) **placeholders**, possibly with format specifiers\n",
    "* The arguments to this method call are then the values to be formatted\n",
    "* Format specifiers are preceded by a colon (`:`)"
   ]
  },
  {
   "cell_type": "code",
   "execution_count": 3,
   "metadata": {
    "slideshow": {
     "slide_type": "fragment"
    }
   },
   "outputs": [
    {
     "name": "stdout",
     "output_type": "stream",
     "text": [
      "17.49\n"
     ]
    }
   ],
   "source": [
    "print('{:.2f}'.format(17.489))"
   ]
  },
  {
   "cell_type": "markdown",
   "metadata": {
    "slideshow": {
     "slide_type": "subslide"
    }
   },
   "source": [
    "### Multiple Placeholders\n",
    "* The format string may contain multiple placeholders\n",
    "* `format` method’s arguments correspond to the placeholders from left to right"
   ]
  },
  {
   "cell_type": "code",
   "execution_count": 4,
   "metadata": {
    "slideshow": {
     "slide_type": "fragment"
    }
   },
   "outputs": [
    {
     "name": "stdout",
     "output_type": "stream",
     "text": [
      "The mysterious figure was here.\n"
     ]
    }
   ],
   "source": [
    "print('{} was {}.'.format('The mysterious figure', 'here'))"
   ]
  },
  {
   "cell_type": "markdown",
   "metadata": {
    "slideshow": {
     "slide_type": "subslide"
    }
   },
   "source": [
    "### Referencing Arguments By Position Number or Keyword\n",
    "* Format string can reference specific arguments by their position in the `format` method’s argument list\n",
    "* This can be used to include repetitions of one or more arguments.\n",
    "* Likewise, arguments can be referenced as keywords, and then included using the key(s) within the format string.\n",
    "* It's advised to stick to one representation per format string."
   ]
  },
  {
   "cell_type": "code",
   "execution_count": 5,
   "metadata": {
    "slideshow": {
     "slide_type": "fragment"
    }
   },
   "outputs": [
    {
     "name": "stdout",
     "output_type": "stream",
     "text": [
      "Long, Long Ago\n"
     ]
    }
   ],
   "source": [
    "print('{0}, {0} {1}'.format('Long', 'Ago'))"
   ]
  },
  {
   "cell_type": "code",
   "execution_count": 6,
   "metadata": {
    "slideshow": {
     "slide_type": "fragment"
    }
   },
   "outputs": [
    {
     "name": "stdout",
     "output_type": "stream",
     "text": [
      "Wanda Frank\n"
     ]
    }
   ],
   "source": [
    "print('{first} {last}'.format(first='Wanda', last='Frank'))"
   ]
  },
  {
   "cell_type": "code",
   "execution_count": 7,
   "metadata": {
    "slideshow": {
     "slide_type": "fragment"
    }
   },
   "outputs": [
    {
     "name": "stdout",
     "output_type": "stream",
     "text": [
      "Frank, Wanda\n"
     ]
    }
   ],
   "source": [
    "print('{last}, {first}'.format(first='Wanda', last='Frank'))"
   ]
  },
  {
   "cell_type": "markdown",
   "metadata": {
    "slideshow": {
     "slide_type": "slide"
    }
   },
   "source": [
    "# Stripping Whitespace from Strings\n",
    "* It's often necessary to remote whitespace from one or both ends of a string for purposes of formatting and/or comparison to other strings.\n",
    "    * **`strip`** removes leading and trailing whitespace\n",
    "    * **`lstrip`** removes only leading whitespace\n",
    "    * **`rstrip`** removes only trailing whitespace \n",
    "* Note that whitespace includes tab (`\\t`) and newline (`\\n`) characters."
   ]
  },
  {
   "cell_type": "code",
   "execution_count": 8,
   "metadata": {
    "slideshow": {
     "slide_type": "subslide"
    }
   },
   "outputs": [
    {
     "name": "stdout",
     "output_type": "stream",
     "text": [
      "|\t  \n",
      "  This is a test string. \t\t \n",
      "|\n"
     ]
    }
   ],
   "source": [
    "sentence = '\\t  \\n  This is a test string. \\t\\t \\n'\n",
    "print('|'+sentence+'|')"
   ]
  },
  {
   "cell_type": "code",
   "execution_count": 9,
   "metadata": {
    "slideshow": {
     "slide_type": "fragment"
    }
   },
   "outputs": [
    {
     "name": "stdout",
     "output_type": "stream",
     "text": [
      "|This is a test string.|\n"
     ]
    }
   ],
   "source": [
    "print('|'+sentence.strip()+'|')"
   ]
  },
  {
   "cell_type": "code",
   "execution_count": 10,
   "metadata": {
    "slideshow": {
     "slide_type": "fragment"
    }
   },
   "outputs": [
    {
     "name": "stdout",
     "output_type": "stream",
     "text": [
      "|This is a test string. \t\t \n",
      "|\n"
     ]
    }
   ],
   "source": [
    "print('|'+sentence.lstrip()+'|')"
   ]
  },
  {
   "cell_type": "code",
   "execution_count": 11,
   "metadata": {
    "slideshow": {
     "slide_type": "fragment"
    }
   },
   "outputs": [
    {
     "name": "stdout",
     "output_type": "stream",
     "text": [
      "|\t  \n",
      "  This is a test string.|\n"
     ]
    }
   ],
   "source": [
    "print('|'+sentence.rstrip()+'|')"
   ]
  },
  {
   "cell_type": "markdown",
   "metadata": {
    "slideshow": {
     "slide_type": "slide"
    }
   },
   "source": [
    "## Changing Character Cases for a String\n",
    "* The method **`capitalize`** returns a new string with only the first letter capitalized (sometimes called **sentence capitalization**)\n",
    "* The method **`title`** returns a new string with only the first character of each word capitalized (sometimes called **book-title capitalization**)"
   ]
  },
  {
   "cell_type": "code",
   "execution_count": 12,
   "metadata": {
    "slideshow": {
     "slide_type": "fragment"
    }
   },
   "outputs": [
    {
     "name": "stdout",
     "output_type": "stream",
     "text": [
      "The road was long and fraught with danger.\n"
     ]
    }
   ],
   "source": [
    "print('the road was long and fraught with DANGER.'.capitalize())"
   ]
  },
  {
   "cell_type": "code",
   "execution_count": 14,
   "metadata": {
    "slideshow": {
     "slide_type": "fragment"
    }
   },
   "outputs": [
    {
     "name": "stdout",
     "output_type": "stream",
     "text": [
      "Happy Birthday Home\n"
     ]
    }
   ],
   "source": [
    "print('happy birThday home'.title())"
   ]
  },
  {
   "cell_type": "markdown",
   "metadata": {
    "slideshow": {
     "slide_type": "slide"
    }
   },
   "source": [
    "# Comparison Operators for Strings\n",
    "* Strings may be compared with the comparison operators\n",
    "* Strings are compared based on their underlying integer numeric values, character by character (much like elements of a list!)\n",
    "* Can check integer codes per characters with `ord`"
   ]
  },
  {
   "cell_type": "code",
   "execution_count": 15,
   "metadata": {
    "slideshow": {
     "slide_type": "fragment"
    }
   },
   "outputs": [
    {
     "name": "stdout",
     "output_type": "stream",
     "text": [
      "O: 79; o: 111\n"
     ]
    }
   ],
   "source": [
    "print(f'O: {ord(\"O\")}; o: {ord(\"o\")}')"
   ]
  },
  {
   "cell_type": "code",
   "execution_count": 16,
   "metadata": {
    "slideshow": {
     "slide_type": "subslide"
    }
   },
   "outputs": [
    {
     "name": "stdout",
     "output_type": "stream",
     "text": [
      "False\n",
      "True\n",
      "True\n",
      "True\n",
      "False\n",
      "False\n"
     ]
    }
   ],
   "source": [
    "print('Orange' == 'orange')\n",
    "print('Orange' != 'orange')\n",
    "print('Orange' < 'orange')\n",
    "print('Orange' <= 'orange')\n",
    "print('Orange' > 'orange')\n",
    "print('Orange' >= 'orange')\n"
   ]
  },
  {
   "cell_type": "markdown",
   "metadata": {
    "slideshow": {
     "slide_type": "slide"
    }
   },
   "source": [
    "# Searching for Substrings\n",
    "* Can search a string for a **substring** to accomplish many tasks:\n",
    "    * determine whether a string contains a substring\n",
    "    * count number of occurrences\n",
    "    * determine the index at which a substring resides in a string\n",
    "* Each method we take a look at compares characters lexicographically using their underlying numeric values (capitalization counts!)"
   ]
  },
  {
   "cell_type": "markdown",
   "metadata": {
    "slideshow": {
     "slide_type": "subslide"
    }
   },
   "source": [
    "### Counting Occurrences\n",
    "* **`count`** returns the number of times its argument occurs in a string\n",
    "* If you specify as the second argument a **start index**, `count` searches only the slice **_string_`[`*start_index*`:]`**\n",
    "* If you specify as the second and third arguments the **start index** and **end index**,`count` searches only the slice **_string_`[`*start_index*`:`*end_index*`]`**"
   ]
  },
  {
   "cell_type": "code",
   "execution_count": 17,
   "metadata": {
    "slideshow": {
     "slide_type": "fragment"
    }
   },
   "outputs": [
    {
     "name": "stdout",
     "output_type": "stream",
     "text": [
      "3\n"
     ]
    }
   ],
   "source": [
    "sentence = 'that that creature was there after moonfall was that which perplexed me'\n",
    "print(sentence.count('that'))"
   ]
  },
  {
   "cell_type": "code",
   "execution_count": 18,
   "metadata": {
    "slideshow": {
     "slide_type": "fragment"
    }
   },
   "outputs": [
    {
     "name": "stdout",
     "output_type": "stream",
     "text": [
      "1\n"
     ]
    }
   ],
   "source": [
    "print(sentence.count('that',10))"
   ]
  },
  {
   "cell_type": "code",
   "execution_count": 19,
   "metadata": {
    "slideshow": {
     "slide_type": "fragment"
    }
   },
   "outputs": [
    {
     "name": "stdout",
     "output_type": "stream",
     "text": [
      "0\n"
     ]
    }
   ],
   "source": [
    "print(sentence.count('that',10,30))"
   ]
  },
  {
   "cell_type": "markdown",
   "metadata": {
    "slideshow": {
     "slide_type": "subslide"
    }
   },
   "source": [
    "### Locating a Substring in a String\n",
    "* **`index`** searches for a substring within a string and returns the first index at which the substring is found\n",
    "* If it is **not** found, a `ValueError` occurs.\n",
    "* Like `count`, may have **start index** and **end index** arguments "
   ]
  },
  {
   "cell_type": "code",
   "execution_count": 20,
   "metadata": {
    "slideshow": {
     "slide_type": "fragment"
    }
   },
   "outputs": [
    {
     "name": "stdout",
     "output_type": "stream",
     "text": [
      "that that creature was there after moonfall was that which perplexed me\n",
      "19\n"
     ]
    }
   ],
   "source": [
    "print(sentence)\n",
    "print(sentence.index('was'))"
   ]
  },
  {
   "cell_type": "code",
   "execution_count": 23,
   "metadata": {
    "slideshow": {
     "slide_type": "fragment"
    }
   },
   "outputs": [
    {
     "name": "stdout",
     "output_type": "stream",
     "text": [
      "44\n"
     ]
    }
   ],
   "source": [
    "print(sentence.index('was',20))"
   ]
  },
  {
   "cell_type": "code",
   "execution_count": 24,
   "metadata": {
    "slideshow": {
     "slide_type": "fragment"
    }
   },
   "outputs": [
    {
     "ename": "ValueError",
     "evalue": "substring not found",
     "output_type": "error",
     "traceback": [
      "\u001b[1;31m---------------------------------------------------------------------------\u001b[0m",
      "\u001b[1;31mValueError\u001b[0m                                Traceback (most recent call last)",
      "\u001b[1;32m<ipython-input-24-314a4bf7e186>\u001b[0m in \u001b[0;36m<module>\u001b[1;34m\u001b[0m\n\u001b[1;32m----> 1\u001b[1;33m \u001b[0mprint\u001b[0m\u001b[1;33m(\u001b[0m\u001b[0msentence\u001b[0m\u001b[1;33m.\u001b[0m\u001b[0mindex\u001b[0m\u001b[1;33m(\u001b[0m\u001b[1;34m'was'\u001b[0m\u001b[1;33m,\u001b[0m\u001b[1;36m20\u001b[0m\u001b[1;33m,\u001b[0m\u001b[1;36m40\u001b[0m\u001b[1;33m)\u001b[0m\u001b[1;33m)\u001b[0m \u001b[1;31m#will return a ValueError, since the substring is not present within this range\u001b[0m\u001b[1;33m\u001b[0m\u001b[1;33m\u001b[0m\u001b[0m\n\u001b[0m",
      "\u001b[1;31mValueError\u001b[0m: substring not found"
     ]
    }
   ],
   "source": [
    "print(sentence.index('was',20,40)) #will return a ValueError, since the substring is not present within this range"
   ]
  },
  {
   "cell_type": "markdown",
   "metadata": {
    "slideshow": {
     "slide_type": "subslide"
    }
   },
   "source": [
    "### Index Variants ###\n",
    "* **`rindex`** performs the same operation as `index`, but searches from the end of the string backwards.\n",
    "* **`find`** performs the task as `index` but returns `-1` if the substring isn't found.\n",
    "* **`rfind`** performs the same operation as `find`, but searches from the end of the string backwards."
   ]
  },
  {
   "cell_type": "code",
   "execution_count": 25,
   "metadata": {
    "slideshow": {
     "slide_type": "fragment"
    }
   },
   "outputs": [
    {
     "name": "stdout",
     "output_type": "stream",
     "text": [
      "that that creature was there after moonfall was that which perplexed me\n",
      "0\n",
      "48\n"
     ]
    }
   ],
   "source": [
    "print(sentence)\n",
    "print(sentence.index('that')) #first time substring is encountered\n",
    "print(sentence.rindex('that')) #last time substring is encountered\n"
   ]
  },
  {
   "cell_type": "code",
   "execution_count": 26,
   "metadata": {
    "slideshow": {
     "slide_type": "fragment"
    }
   },
   "outputs": [
    {
     "name": "stdout",
     "output_type": "stream",
     "text": [
      "that that creature was there after moonfall was that which perplexed me\n",
      "-1\n"
     ]
    }
   ],
   "source": [
    "print(sentence)\n",
    "print(sentence.find('that',20,40))"
   ]
  },
  {
   "cell_type": "markdown",
   "metadata": {
    "slideshow": {
     "slide_type": "subslide"
    }
   },
   "source": [
    "### Determining if a String Contains a Substring Or Begins/Ends With One \n",
    "* To check whether a string contains a substring, use operator `in`\n",
    "* The _method_ **`startswith`** returns `True` if the string starts with the specified substring\n",
    "* The _method_ **`endswith`** returns `True` if the string starts with the specified substring\n"
   ]
  },
  {
   "cell_type": "code",
   "execution_count": 30,
   "metadata": {
    "slideshow": {
     "slide_type": "fragment"
    }
   },
   "outputs": [
    {
     "name": "stdout",
     "output_type": "stream",
     "text": [
      "that that creature was there after moonfall was that which perplexed me\n",
      "True\n"
     ]
    }
   ],
   "source": [
    "print(sentence)\n",
    "print('that' in sentence)"
   ]
  },
  {
   "cell_type": "code",
   "execution_count": 31,
   "metadata": {
    "slideshow": {
     "slide_type": "fragment"
    }
   },
   "outputs": [
    {
     "name": "stdout",
     "output_type": "stream",
     "text": [
      "True\n"
     ]
    }
   ],
   "source": [
    "print('koala' not in sentence)"
   ]
  },
  {
   "cell_type": "code",
   "execution_count": 32,
   "metadata": {
    "slideshow": {
     "slide_type": "fragment"
    }
   },
   "outputs": [
    {
     "name": "stdout",
     "output_type": "stream",
     "text": [
      "True\n"
     ]
    }
   ],
   "source": [
    "print(sentence.startswith('that'))"
   ]
  },
  {
   "cell_type": "code",
   "execution_count": 33,
   "metadata": {
    "slideshow": {
     "slide_type": "fragment"
    }
   },
   "outputs": [
    {
     "name": "stdout",
     "output_type": "stream",
     "text": [
      "False\n"
     ]
    }
   ],
   "source": [
    "print(sentence.endswith('that'))"
   ]
  },
  {
   "cell_type": "markdown",
   "metadata": {
    "slideshow": {
     "slide_type": "slide"
    }
   },
   "source": [
    "# Replacing Substrings\n",
    "* A common text manipulation is to locate a substring and replace its value\n",
    "* **`replace`** searches a string for the substring in its first argument and replaces _each_ occurrence with the substring in its second argument\n",
    "* Can receive an optional third argument specifying the maximum number of replacements\n",
    "* Use an empty string (`''`) for the second value to \"delete\" any substring"
   ]
  },
  {
   "cell_type": "code",
   "execution_count": 34,
   "metadata": {
    "slideshow": {
     "slide_type": "fragment"
    }
   },
   "outputs": [
    {
     "name": "stdout",
     "output_type": "stream",
     "text": [
      "1\t2\t3\t4\t5\n"
     ]
    }
   ],
   "source": [
    "values = '1\\t2\\t3\\t4\\t5' # \\t is a tab character\n",
    "print(values)"
   ]
  },
  {
   "cell_type": "code",
   "execution_count": 36,
   "metadata": {
    "slideshow": {
     "slide_type": "fragment"
    }
   },
   "outputs": [
    {
     "name": "stdout",
     "output_type": "stream",
     "text": [
      "1,2,3,4,5\n",
      "1,2,3\t4\t5\n",
      "1\t2\t3\t4\t5\n",
      "10\t2\t3\t4\t5\n"
     ]
    }
   ],
   "source": [
    "print(values.replace('\\t', ','))\n",
    "print(values.replace('\\t', ',',2))\n",
    "x=values.replace('1','10')\n",
    "print(values)\n",
    "print(x)"
   ]
  },
  {
   "cell_type": "markdown",
   "metadata": {
    "slideshow": {
     "slide_type": "slide"
    }
   },
   "source": [
    "# Tokens and Tokenization\n",
    "* The word **token** has several meanings in the context of computer science -- in the case of strings a single token generally represents an individual element of interest (e.g. a word or even a combination of symbols with a particular meaning).\n",
    "* **Tokenization** is the process of splitting apart individual tokens from a larger collective (e.g. a string or file).\n",
    "* Tokens typically are separated by whitespace characters such as blank, tab and newline, though other characters may be used—these separators are known as **delimiters**"
   ]
  },
  {
   "cell_type": "markdown",
   "metadata": {
    "slideshow": {
     "slide_type": "subslide"
    }
   },
   "source": [
    "### Splitting Strings\n",
    "* Recall that `split` separates (i.e. tokenizes) parts of a string using a delimiter \n",
    "    * The default is to follow the approach above (any whitespace characters, including ' ', '\\n', '\\t') \n",
    "    * To tokenize a string at a custom delimiter, specify the delimiter string that `split` uses to tokenize the string\n",
    "* `split` can have a specified maximum number of splits with an integer as the second argument\n",
    "    * In such cases, the remaining portion of the string will remain a contiguous substring of the original.\n",
    "    * `rsplit` can be used in lieu of `split` to process tokens from right to left."
   ]
  },
  {
   "cell_type": "code",
   "execution_count": 42,
   "metadata": {
    "slideshow": {
     "slide_type": "subslide"
    }
   },
   "outputs": [
    {
     "name": "stdout",
     "output_type": "stream",
     "text": [
      "['A', 'B', 'C', 'D']\n"
     ]
    }
   ],
   "source": [
    "lettersV1 = 'A B\\t C\\n D '\n",
    "print(lettersV1.split(None)) #By default, any whitespace or combination of whitespace characters separate one token from the next\n"
   ]
  },
  {
   "cell_type": "code",
   "execution_count": 38,
   "metadata": {
    "slideshow": {
     "slide_type": "fragment"
    }
   },
   "outputs": [
    {
     "name": "stdout",
     "output_type": "stream",
     "text": [
      "['A,B,C,D']\n",
      "['A', 'B', 'C', 'D']\n"
     ]
    }
   ],
   "source": [
    "lettersV2 = 'A,B,C,D'\n",
    "print(lettersV2.split()) #The default delimiter here won't work\n",
    "print(lettersV2.split(',')) #Instead we can specify ',' as a custome separator.\n"
   ]
  },
  {
   "cell_type": "code",
   "execution_count": 39,
   "metadata": {
    "slideshow": {
     "slide_type": "fragment"
    }
   },
   "outputs": [
    {
     "name": "stdout",
     "output_type": "stream",
     "text": [
      "['A', 'B', 'C,D']\n",
      "['A,B', 'C', 'D']\n"
     ]
    }
   ],
   "source": [
    "print(lettersV2.split(',',2)) #tokenize for the first two occurrences of ',' -- leave the rest leftover\n",
    "print(lettersV2.rsplit(',',2)) #tokenize for the last two occurrences of ',' -- leave the rest leftover"
   ]
  },
  {
   "cell_type": "markdown",
   "metadata": {
    "slideshow": {
     "slide_type": "subslide"
    }
   },
   "source": [
    "### Joining Strings\n",
    "* **`join`** concatenates the strings in its argument, which must be an iterable containing only string values or expressions\n",
    "* The separator between the concatenated items is the _string_ on which you call `join`\n",
    "    * Use an empty string to simply join the iterable elements as they are\n",
    "* List comprehensions can be joined in this way with ease."
   ]
  },
  {
   "cell_type": "code",
   "execution_count": 43,
   "metadata": {
    "slideshow": {
     "slide_type": "fragment"
    }
   },
   "outputs": [],
   "source": [
    "letters_list = ['A', 'B', 'C', 'D']"
   ]
  },
  {
   "cell_type": "code",
   "execution_count": 45,
   "metadata": {
    "slideshow": {
     "slide_type": "fragment"
    }
   },
   "outputs": [
    {
     "name": "stdout",
     "output_type": "stream",
     "text": [
      "A||B||C||D\n",
      "ABCD\n"
     ]
    }
   ],
   "source": [
    "print('||'.join(letters_list)) #join with commas separating elements of the original iterable\n",
    "print(''.join(letters_list)) #join with nothing separating elements of the original iterable"
   ]
  },
  {
   "cell_type": "code",
   "execution_count": 48,
   "metadata": {
    "slideshow": {
     "slide_type": "fragment"
    }
   },
   "outputs": [
    {
     "name": "stdout",
     "output_type": "stream",
     "text": [
      "0,1,4,9,16,25,36,49,64,81\n"
     ]
    }
   ],
   "source": [
    "print(','.join([str(i*i) for i in range(10)])) #Join the results of a list comprehension that creates a list of strings"
   ]
  },
  {
   "cell_type": "markdown",
   "metadata": {
    "slideshow": {
     "slide_type": "subslide"
    }
   },
   "source": [
    "### String Methods `partition` and `rpartition` \n",
    "* String method **`partition`** splits a string into a tuple of three strings based on the method’s _separator_ argument\n",
    "    * the part of the original string before the separator\n",
    "    * the separator itself\n",
    "    * the part of the string after the separator\n",
    "* To search for the separator from the end of the string, use method **`rpartition`** "
   ]
  },
  {
   "cell_type": "code",
   "execution_count": 49,
   "metadata": {
    "slideshow": {
     "slide_type": "subslide"
    }
   },
   "outputs": [
    {
     "name": "stdout",
     "output_type": "stream",
     "text": [
      "Amanda\n",
      ": \n",
      "89, 97, 92\n"
     ]
    }
   ],
   "source": [
    "name, separator, grades = 'Amanda: 89, 97, 92'.partition(': ')\n",
    "print(name)\n",
    "print(separator)\n",
    "print(grades)"
   ]
  },
  {
   "cell_type": "code",
   "execution_count": 50,
   "metadata": {
    "slideshow": {
     "slide_type": "fragment"
    }
   },
   "outputs": [
    {
     "name": "stdout",
     "output_type": "stream",
     "text": [
      "http://www.deitel.com/books/PyCDS\n",
      "/\n",
      "table_of_contents.html\n"
     ]
    }
   ],
   "source": [
    "url = 'http://www.deitel.com/books/PyCDS/table_of_contents.html'\n",
    "rest_of_url, separator, document = url.rpartition('/')\n",
    "print(rest_of_url)\n",
    "print(separator)\n",
    "print(document)"
   ]
  },
  {
   "cell_type": "markdown",
   "metadata": {
    "slideshow": {
     "slide_type": "subslide"
    }
   },
   "source": [
    "### String Method `splitlines` \n",
    "* **`splitlines`** returns a list of new strings representing lines of text split at each newline character in the original\n",
    "string\n",
    "* Passing `True` to `splitlines` keeps the newlines"
   ]
  },
  {
   "cell_type": "code",
   "execution_count": 51,
   "metadata": {
    "slideshow": {
     "slide_type": "fragment"
    }
   },
   "outputs": [],
   "source": [
    "lines = \"\"\"This is line 1\n",
    "This is line2\n",
    "This is line3\"\"\""
   ]
  },
  {
   "cell_type": "code",
   "execution_count": 52,
   "metadata": {
    "slideshow": {
     "slide_type": "fragment"
    }
   },
   "outputs": [
    {
     "name": "stdout",
     "output_type": "stream",
     "text": [
      "This is line 1\n",
      "This is line2\n",
      "This is line3\n",
      "['This is line 1', 'This is line2', 'This is line3']\n",
      "['This is line 1\\n', 'This is line2\\n', 'This is line3']\n"
     ]
    }
   ],
   "source": [
    "print(lines)\n",
    "print(lines.splitlines())\n",
    "print(lines.splitlines(True))"
   ]
  },
  {
   "cell_type": "markdown",
   "metadata": {
    "slideshow": {
     "slide_type": "slide"
    }
   },
   "source": [
    "# Characters and Character-Testing Methods\n",
    "* In Python, a character is simply a one-character string\n",
    "* Python provides string methods for testing whether a string matches certain characteristics\n",
    "    * **`isdigit`** returns `True` if the string on which you call the method contains only the digit characters (`0`–`9`)\n",
    "    * **`isalnum`** returns `True` if the string on which you call the method is alphanumeric (only digits and letters)\n",
    "* Character-testing is critical for validating input or searching for specific data-types.\n",
    "   "
   ]
  },
  {
   "cell_type": "code",
   "execution_count": 53,
   "metadata": {
    "slideshow": {
     "slide_type": "fragment"
    }
   },
   "outputs": [
    {
     "name": "stdout",
     "output_type": "stream",
     "text": [
      "True\n",
      "False\n"
     ]
    }
   ],
   "source": [
    "print('27'.isdigit())\n",
    "print('-27'.isdigit()) #EVERY element in the string must be a digit for this to return true"
   ]
  },
  {
   "cell_type": "code",
   "execution_count": 54,
   "metadata": {
    "slideshow": {
     "slide_type": "fragment"
    }
   },
   "outputs": [
    {
     "name": "stdout",
     "output_type": "stream",
     "text": [
      "True\n",
      "False\n"
     ]
    }
   ],
   "source": [
    "print('A9876'.isalnum())\n",
    "print('123 Main Street'.isalnum()) # Whitespace characters are NOT alphanumeric"
   ]
  },
  {
   "cell_type": "markdown",
   "metadata": {
    "slideshow": {
     "slide_type": "subslide"
    }
   },
   "source": [
    "* Table of many character-testing methods"
   ]
  },
  {
   "cell_type": "markdown",
   "metadata": {},
   "source": [
    "| String Method | Description\n",
    "| -------- | --------\n",
    "| `isalnum()` | Returns `True` if the string contains only _alphanumeric_ characters (i.e., digits and letters).\n",
    "| `isalpha()`  | Returns `True` if the string contains only _alphabetic_ characters (i.e., letters).\n",
    "| `isdecimal()`  | Returns `True` if the string contains only _decimal integer_ characters (that is, base 10 integers) and does not contain a + or - sign.\n",
    "| `isdigit()`  | Returns `True` if the string contains only digits (e.g., '0', '1', '2').\n",
    "| `isidentifier()`  | Returns `True` if the string represents a valid _identifier_. \n",
    "| `islower()`  | Returns `True` if all alphabetic characters in the string are _lowercase_ characters (e.g., `'a'`, `'b'`, `'c'`).\n",
    "| `isnumeric()`  | Returns `True` if the characters in the string represent a _numeric value_ without a + or - sign and without a decimal point.\n",
    "| `isspace()`  | Returns `True` if the string contains only _whitespace_ characters.\n",
    "| `istitle()`  | Returns `True` if the first character of each word in the string is the only _uppercase_ character in the word. \n",
    "| `isupper()`  | Returns `True` if all alphabetic characters in the string are _uppercase_ characters (e.g., `'A'`, `'B'`, `'C'`)."
   ]
  },
  {
   "cell_type": "markdown",
   "metadata": {
    "slideshow": {
     "slide_type": "slide"
    }
   },
   "source": [
    "# Raw Strings\n",
    "* Backslash characters in strings introduce _escape sequences_ — like `\\n` for newline and `\\t` for tab\n",
    "* To include a backslash in a string, use two backslash characters `\\\\`\n",
    "* These can occasionally make some strings relevant to filepaths difficult to read or interpret\n",
    "* Consider a Microsoft Windows file location: _C:\\MyFolder\\MySubFolder\\MyFile.txt_ it's string representation will really be 'C:\\\\MyFolder\\\\MySubFolder\\\\MyFile.txt'\n",
    "* **raw strings**—preceded by the character `r` are often more convenient\n",
    "* They treat each backslash as a regular character, rather than the beginning of an escape sequence"
   ]
  },
  {
   "cell_type": "code",
   "execution_count": 55,
   "metadata": {
    "slideshow": {
     "slide_type": "subslide"
    }
   },
   "outputs": [
    {
     "name": "stdout",
     "output_type": "stream",
     "text": [
      "C:\\MyFolder\\MySubFolder\\MyFile.txt\n"
     ]
    }
   ],
   "source": [
    "file_path = 'C:\\\\MyFolder\\\\MySubFolder\\\\MyFile.txt'\n",
    "print(file_path)"
   ]
  },
  {
   "cell_type": "code",
   "execution_count": 56,
   "metadata": {},
   "outputs": [
    {
     "name": "stdout",
     "output_type": "stream",
     "text": [
      "C:\\MyFolder\\MySubFolder\\MyFile.txt\n"
     ]
    }
   ],
   "source": [
    "file_path = r'C:\\MyFolder\\MySubFolder\\MyFile.txt'\n",
    "print(file_path)"
   ]
  }
 ],
 "metadata": {
  "celltoolbar": "Slideshow",
  "kernelspec": {
   "display_name": "Python 3 (ipykernel)",
   "language": "python",
   "name": "python3"
  },
  "language_info": {
   "codemirror_mode": {
    "name": "ipython",
    "version": 3
   },
   "file_extension": ".py",
   "mimetype": "text/x-python",
   "name": "python",
   "nbconvert_exporter": "python",
   "pygments_lexer": "ipython3",
   "version": "3.9.7"
  }
 },
 "nbformat": 4,
 "nbformat_minor": 4
}
