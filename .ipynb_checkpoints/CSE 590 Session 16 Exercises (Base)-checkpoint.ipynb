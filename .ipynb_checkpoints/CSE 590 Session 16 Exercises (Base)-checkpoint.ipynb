{
 "cells": [
  {
   "cell_type": "markdown",
   "metadata": {
    "slideshow": {
     "slide_type": "slide"
    }
   },
   "source": [
    "# Exercise 6.2\n",
    "Display the unique words in the string **text** and the number of occurrences of each word."
   ]
  },
  {
   "cell_type": "markdown",
   "metadata": {
    "slideshow": {
     "slide_type": "slide"
    }
   },
   "source": [
    "# Exercise 6.5\n",
    "Write a script that uses a dictionary to determine and print the number of duplicate words in a sentence. Treat uppercase and lowercase letters the same and assume there is no punctuation in the sentence. Words with counts larger than 1 have duplicates"
   ]
  },
  {
   "cell_type": "markdown",
   "metadata": {
    "slideshow": {
     "slide_type": "slide"
    }
   },
   "source": [
    "# Exercise 6.6\n",
    "Write a function that receives a list of words, then determines and displays in alphabetical order only the unique words. Treat uppercase and lowercase letters the same. The function should use a set to get the unique words in the list"
   ]
  },
  {
   "cell_type": "markdown",
   "metadata": {
    "slideshow": {
     "slide_type": "slide"
    }
   },
   "source": [
    "# Exercise 6.10\n",
    "Use the following sets:\n",
    "```python\n",
    "{'red','green','blue'}\n",
    "{'cyan','green','blue','magenta','red'}\n",
    "```\n",
    "display the results of:\n",
    "1. Comparing the sets using each of the comparison operators.\n",
    "2. Combining the sets using each of the mathematical operators."
   ]
  },
  {
   "cell_type": "markdown",
   "metadata": {
    "slideshow": {
     "slide_type": "slide"
    }
   },
   "source": [
    "# Exercise 7.21\n",
    "In this chapter, we discussed shallow vs. deep copies of arrays. Python's built-in list and dictionary types have copy methods that perform shallow copies. Using the following dictionary\n",
    "```python\n",
    "dictionary = {'Sophia':[97,88]}\n",
    "```\n",
    "demonstrate that a dictionary's copy method indeed performs a shallow copy. To do so, call ```copy``` to make the shallow copy, modify the list stored in hte original dictionary, then display both dictionaries to see that they have the same contents. \n",
    "Next, use the copy module's ```deepcopy``` function to create a *deep* copy of the dictionary. Modify the list stored in the original dictionary, then display both dictionaries to prove that each has its own data. "
   ]
  },
  {
   "cell_type": "code",
   "execution_count": null,
   "metadata": {},
   "outputs": [],
   "source": []
  },
  {
   "cell_type": "code",
   "execution_count": null,
   "metadata": {},
   "outputs": [],
   "source": []
  }
 ],
 "metadata": {
  "celltoolbar": "Slideshow",
  "kernelspec": {
   "display_name": "Python 3 (ipykernel)",
   "language": "python",
   "name": "python3"
  },
  "language_info": {
   "codemirror_mode": {
    "name": "ipython",
    "version": 3
   },
   "file_extension": ".py",
   "mimetype": "text/x-python",
   "name": "python",
   "nbconvert_exporter": "python",
   "pygments_lexer": "ipython3",
   "version": "3.9.7"
  }
 },
 "nbformat": 4,
 "nbformat_minor": 4
}
