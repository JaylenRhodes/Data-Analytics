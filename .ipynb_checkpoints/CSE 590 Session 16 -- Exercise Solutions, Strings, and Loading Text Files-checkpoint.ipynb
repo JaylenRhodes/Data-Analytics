{
 "cells": [
  {
   "cell_type": "markdown",
   "metadata": {
    "slideshow": {
     "slide_type": "slide"
    }
   },
   "source": [
    "# Last Time\n",
    "* Our last session dealt almost exclusively with data-frames\n",
    "* Make sure you understand how to build a data-frame for part c of the 2nd homework!\n"
   ]
  },
  {
   "cell_type": "markdown",
   "metadata": {
    "slideshow": {
     "slide_type": "subslide"
    }
   },
   "source": [
    "# This Time\n",
    "* Before anything else, we'll take a quick look at loading a text file into list format in Python\n",
    "* We'll run through the exercises provided on Monday\n",
    "* We'll look at formatting strings using various data types.\n",
    "* We'll look at string methods and functionality in more detail\n"
   ]
  },
  {
   "cell_type": "markdown",
   "metadata": {
    "slideshow": {
     "slide_type": "slide"
    }
   },
   "source": [
    "## Reading text files in Python\n",
    "* There are numerous ways to read files into Python that address a variety of formats and distinct purposes\n",
    "* We'll look at several during the course of the class. \n",
    "* But to begin with, we consider the basic process of reading from an unformatted text file\n",
    "    * The standard way to open files is using a suite following a **`with open`** clause\n",
    "    * Specify the file-name as a parameter to `with open`, followed by `as` _object name_ to assign the opened file to a variable\n",
    "    * Files are opened as iterables, by default split apart according to new-line characters."
   ]
  },
  {
   "cell_type": "code",
   "execution_count": 4,
   "metadata": {
    "slideshow": {
     "slide_type": "subslide"
    }
   },
   "outputs": [
    {
     "ename": "FileNotFoundError",
     "evalue": "[Errno 2] No such file or directory: 'Corleone.txt'",
     "output_type": "error",
     "traceback": [
      "\u001b[0;31m---------------------------------------------------------------------------\u001b[0m",
      "\u001b[0;31mFileNotFoundError\u001b[0m                         Traceback (most recent call last)",
      "\u001b[0;32m/tmp/ipykernel_17204/600389260.py\u001b[0m in \u001b[0;36m<module>\u001b[0;34m\u001b[0m\n\u001b[1;32m      1\u001b[0m \u001b[0mwordList\u001b[0m \u001b[0;34m=\u001b[0m \u001b[0;34m[\u001b[0m\u001b[0;34m]\u001b[0m \u001b[0;31m#Start with an empty list\u001b[0m\u001b[0;34m\u001b[0m\u001b[0;34m\u001b[0m\u001b[0m\n\u001b[0;32m----> 2\u001b[0;31m \u001b[0;32mwith\u001b[0m \u001b[0mopen\u001b[0m \u001b[0;34m(\u001b[0m\u001b[0;34m\"Corleone.txt\"\u001b[0m\u001b[0;34m)\u001b[0m \u001b[0;32mas\u001b[0m \u001b[0mfp\u001b[0m\u001b[0;34m:\u001b[0m \u001b[0;31m#fp is the file object we'll work with\u001b[0m\u001b[0;34m\u001b[0m\u001b[0;34m\u001b[0m\u001b[0m\n\u001b[0m\u001b[1;32m      3\u001b[0m     \u001b[0;32mfor\u001b[0m \u001b[0mline\u001b[0m \u001b[0;32min\u001b[0m \u001b[0mfp\u001b[0m\u001b[0;34m:\u001b[0m \u001b[0;31m#default behavior is that files are opened as iterable with respect to newlines\u001b[0m\u001b[0;34m\u001b[0m\u001b[0;34m\u001b[0m\u001b[0m\n\u001b[1;32m      4\u001b[0m         \u001b[0mwordList\u001b[0m\u001b[0;34m.\u001b[0m\u001b[0mextend\u001b[0m\u001b[0;34m(\u001b[0m\u001b[0mline\u001b[0m\u001b[0;34m.\u001b[0m\u001b[0mreplace\u001b[0m\u001b[0;34m(\u001b[0m\u001b[0;34m'.'\u001b[0m\u001b[0;34m,\u001b[0m\u001b[0;34m''\u001b[0m\u001b[0;34m)\u001b[0m\u001b[0;34m.\u001b[0m\u001b[0msplit\u001b[0m\u001b[0;34m(\u001b[0m\u001b[0;34m)\u001b[0m\u001b[0;34m)\u001b[0m \u001b[0;31m#make sure to use extend here, and not append!\u001b[0m\u001b[0;34m\u001b[0m\u001b[0;34m\u001b[0m\u001b[0m\n\u001b[1;32m      5\u001b[0m \u001b[0mprint\u001b[0m\u001b[0;34m(\u001b[0m\u001b[0mwordList\u001b[0m\u001b[0;34m)\u001b[0m\u001b[0;34m\u001b[0m\u001b[0;34m\u001b[0m\u001b[0m\n",
      "\u001b[0;31mFileNotFoundError\u001b[0m: [Errno 2] No such file or directory: 'Corleone.txt'"
     ]
    }
   ],
   "source": [
    "wordList = [] #Start with an empty list\n",
    "with open (\"Corleone.txt\") as fp: #fp is the file object we'll work with\n",
    "    for line in fp: #default behavior is that files are opened as iterable with respect to newlines\n",
    "        wordList.extend(line.replace('.','').split()) #make sure to use extend here, and not append!\n",
    "print(wordList)"
   ]
  },
  {
   "cell_type": "markdown",
   "metadata": {
    "slideshow": {
     "slide_type": "slide"
    }
   },
   "source": [
    "# Exercise 6.2\n",
    "Write code to display the unique words in the string `text` (in sorted order) and the number of occurrences of each word. "
   ]
  },
  {
   "cell_type": "code",
   "execution_count": 2,
   "metadata": {
    "slideshow": {
     "slide_type": "fragment"
    }
   },
   "outputs": [
    {
     "name": "stdout",
     "output_type": "stream",
     "text": [
      "b           e\n",
      "i           s\n"
     ]
    },
    {
     "ename": "ValueError",
     "evalue": "too many values to unpack (expected 2)",
     "output_type": "error",
     "traceback": [
      "\u001b[0;31m---------------------------------------------------------------------------\u001b[0m",
      "\u001b[0;31mValueError\u001b[0m                                Traceback (most recent call last)",
      "\u001b[0;32m/tmp/ipykernel_17204/209509714.py\u001b[0m in \u001b[0;36m<module>\u001b[0;34m\u001b[0m\n\u001b[1;32m      3\u001b[0m \u001b[0mtext\u001b[0m \u001b[0;34m=\u001b[0m \u001b[0;34m(\u001b[0m\u001b[0;34m'to be or not to be that is the question'\u001b[0m\u001b[0;34m)\u001b[0m\u001b[0;34m\u001b[0m\u001b[0;34m\u001b[0m\u001b[0m\n\u001b[1;32m      4\u001b[0m \u001b[0mcounter\u001b[0m \u001b[0;34m=\u001b[0m \u001b[0mCounter\u001b[0m\u001b[0;34m(\u001b[0m\u001b[0mtext\u001b[0m\u001b[0;34m.\u001b[0m\u001b[0msplit\u001b[0m\u001b[0;34m(\u001b[0m\u001b[0;34m)\u001b[0m\u001b[0;34m)\u001b[0m\u001b[0;34m\u001b[0m\u001b[0;34m\u001b[0m\u001b[0m\n\u001b[0;32m----> 5\u001b[0;31m \u001b[0;32mfor\u001b[0m \u001b[0mword\u001b[0m\u001b[0;34m,\u001b[0m \u001b[0mcount\u001b[0m \u001b[0;32min\u001b[0m \u001b[0msorted\u001b[0m\u001b[0;34m(\u001b[0m\u001b[0mcounter\u001b[0m\u001b[0;34m)\u001b[0m\u001b[0;34m:\u001b[0m\u001b[0;34m\u001b[0m\u001b[0;34m\u001b[0m\u001b[0m\n\u001b[0m\u001b[1;32m      6\u001b[0m     \u001b[0mprint\u001b[0m\u001b[0;34m(\u001b[0m\u001b[0;34mf'{word:<12}{count}'\u001b[0m\u001b[0;34m)\u001b[0m\u001b[0;34m\u001b[0m\u001b[0;34m\u001b[0m\u001b[0m\n",
      "\u001b[0;31mValueError\u001b[0m: too many values to unpack (expected 2)"
     ]
    }
   ],
   "source": [
    "#This won't work, but it's close\n",
    "from collections import Counter\n",
    "text = ('to be or not to be that is the question')\n",
    "counter = Counter(text.split())\n",
    "for word, count in sorted(counter): \n",
    "    print(f'{word:<12}{count}')"
   ]
  },
  {
   "cell_type": "code",
   "execution_count": 5,
   "metadata": {
    "slideshow": {
     "slide_type": "subslide"
    }
   },
   "outputs": [
    {
     "name": "stdout",
     "output_type": "stream",
     "text": [
      "be          2\n",
      "is          1\n",
      "not         1\n",
      "or          1\n",
      "question    1\n",
      "that        1\n",
      "the         1\n",
      "to          2\n"
     ]
    }
   ],
   "source": [
    "#This handles the first issue.\n",
    "from collections import Counter\n",
    "text = ('to be or not to be that is the question')\n",
    "counter = Counter(text.split())\n",
    "for word, count in sorted(counter.items()): \n",
    "    print(f'{word:<12}{count}')"
   ]
  },
  {
   "cell_type": "markdown",
   "metadata": {
    "slideshow": {
     "slide_type": "subslide"
    }
   },
   "source": [
    "# Exercise 6.5\n",
    "Write a script that uses a dictionary to determine and print the number of duplicate words in a sentence. Treat uppercase and lowercase letters the same and assume there is no punctuation in the sentence. Words with counts larger than 1 have duplicates"
   ]
  },
  {
   "cell_type": "code",
   "execution_count": 9,
   "metadata": {
    "slideshow": {
     "slide_type": "subslide"
    }
   },
   "outputs": [
    {
     "name": "stdout",
     "output_type": "stream",
     "text": [
      "{'this': 2, 'is': 2, 'sample': 2, 'text': 2, 'with': 2, 'several': 1, 'words': 2, 'more': 1, 'some': 1, 'different': 1}\n",
      "WORD        COUNT\n",
      "this        2\n",
      "is          2\n",
      "sample      2\n",
      "text        2\n",
      "with        2\n",
      "words       2\n"
     ]
    }
   ],
   "source": [
    "\"\"\"Tokenizing a string and counting duplicate words.\"\"\"\n",
    "\n",
    "text = ('This is sample text with several words ' + \n",
    "        'this is more sample text with some different Words')\n",
    "\n",
    "word_counts = {}\n",
    "\n",
    "# count occurrences of each unique word\n",
    "for word in text.split():\n",
    "    if word.lower() in word_counts: \n",
    "        word_counts[word.lower()] += 1  # update existing key-value pair\n",
    "    else:\n",
    "        word_counts[word.lower()] = 1  # insert new key-value pair\n",
    "\n",
    "print(word_counts)\n",
    "print(f'{\"WORD\":<12}COUNT')\n",
    "\n",
    "for word, count in sorted(word_counts.items()):\n",
    "    if count > 1:\n",
    "        print(f'{word:<12}{count}')\n"
   ]
  },
  {
   "cell_type": "markdown",
   "metadata": {
    "slideshow": {
     "slide_type": "subslide"
    }
   },
   "source": [
    "# Exercise 6.6\n",
    "Write a function that receives a list of words, then determines and displays in alphabetical order only the unique words. Treat uppercase and lowercase letters the same. The function should use a set to get the unique words in the list"
   ]
  },
  {
   "cell_type": "code",
   "execution_count": 14,
   "metadata": {
    "slideshow": {
     "slide_type": "subslide"
    }
   },
   "outputs": [],
   "source": [
    "def unique_words(words):\n",
    "    uniques = set([word.lower() for word in words])\n",
    "    return (sorted(uniques))"
   ]
  },
  {
   "cell_type": "code",
   "execution_count": 15,
   "metadata": {},
   "outputs": [
    {
     "name": "stdout",
     "output_type": "stream",
     "text": [
      "['different', 'is', 'more', 'sample', 'several', 'some', 'text', 'this', 'with', 'words']\n"
     ]
    }
   ],
   "source": [
    "text = ('this is sample text with several words ' \n",
    "        'this is more sample text with some different words')\n",
    "\n",
    "print (unique_words(text.split()))"
   ]
  },
  {
   "cell_type": "markdown",
   "metadata": {
    "slideshow": {
     "slide_type": "subslide"
    }
   },
   "source": [
    "# Exercise 6.10\n",
    "Use the following sets:\n",
    "```python\n",
    "{'red','green','blue'}\n",
    "{'cyan','green','blue','magenta','red'}\n",
    "```\n",
    "display the results of:\n",
    "1. Comparing the sets using each of the comparison operators.\n",
    "2. Combining the sets using each of the mathematical operators."
   ]
  },
  {
   "cell_type": "code",
   "execution_count": 16,
   "metadata": {
    "slideshow": {
     "slide_type": "subslide"
    }
   },
   "outputs": [],
   "source": [
    "set1 = {'red', 'green', 'blue'}\n",
    "set2 = {'cyan', 'green', 'blue', 'magenta', 'red'}"
   ]
  },
  {
   "cell_type": "code",
   "execution_count": 17,
   "metadata": {
    "slideshow": {
     "slide_type": "fragment"
    }
   },
   "outputs": [
    {
     "name": "stdout",
     "output_type": "stream",
     "text": [
      "True\n",
      "True\n",
      "False\n",
      "False\n",
      "False\n",
      "True\n"
     ]
    }
   ],
   "source": [
    "#Major in(equalities)\n",
    "print(set1 < set2)\n",
    "print(set1 <= set2)\n",
    "print(set1 >= set2)\n",
    "print(set1 > set2)\n",
    "print(set1 == set2)\n",
    "print(set1 != set2)"
   ]
  },
  {
   "cell_type": "code",
   "execution_count": 18,
   "metadata": {
    "slideshow": {
     "slide_type": "subslide"
    }
   },
   "outputs": [
    {
     "name": "stdout",
     "output_type": "stream",
     "text": [
      "{'green', 'cyan', 'red', 'blue', 'magenta'}\n",
      "{'green', 'red', 'blue'}\n",
      "set()\n",
      "{'cyan', 'magenta'}\n",
      "{'cyan', 'magenta'}\n"
     ]
    }
   ],
   "source": [
    "print(set1 | set2)\n",
    "print(set1 & set2)\n",
    "print(set1 - set2)\n",
    "print(set2 - set1)\n",
    "print(set1 ^ set2)"
   ]
  },
  {
   "cell_type": "markdown",
   "metadata": {
    "slideshow": {
     "slide_type": "subslide"
    }
   },
   "source": [
    "# Exercise 7.21\n",
    "In chapter 7, we discussed shallow vs. deep copies of arrays. Python's built-in list and dictionary types have copy methods that perform shallow copies. Using the following dictionary\n",
    "```python\n",
    "dictionary = {'Sophia':[97,88]}\n",
    "```\n",
    "demonstrate that a dictionary's copy method indeed performs a shallow copy. To do so, call ```copy``` to make the shallow copy, modify the list stored in the original dictionary, then display both dictionaries to see that they have the same contents. \n",
    "Next, use the copy module's ```deepcopy``` function to create a *deep* copy of the dictionary. Modify the list stored in the original dictionary, then display both dictionaries to prove that each has its own data. "
   ]
  },
  {
   "cell_type": "code",
   "execution_count": 19,
   "metadata": {
    "slideshow": {
     "slide_type": "subslide"
    }
   },
   "outputs": [
    {
     "name": "stdout",
     "output_type": "stream",
     "text": [
      "{'Sophia': [97, 88]}\n"
     ]
    }
   ],
   "source": [
    "dictionary = {'Sophia': [97, 88]}\n",
    "print(dictionary)\n"
   ]
  },
  {
   "cell_type": "code",
   "execution_count": 20,
   "metadata": {
    "slideshow": {
     "slide_type": "fragment"
    }
   },
   "outputs": [
    {
     "name": "stdout",
     "output_type": "stream",
     "text": [
      "{'Sophia': [100, 88]}\n",
      "{'Sophia': [100, 88]}\n"
     ]
    }
   ],
   "source": [
    "dictionary_copy = dictionary.copy()\n",
    "dictionary['Sophia'][0] = 100\n",
    "print(dictionary)\n",
    "print(dictionary_copy)"
   ]
  },
  {
   "cell_type": "code",
   "execution_count": 21,
   "metadata": {
    "slideshow": {
     "slide_type": "fragment"
    }
   },
   "outputs": [
    {
     "name": "stdout",
     "output_type": "stream",
     "text": [
      "{'Sophia': [100, 100]}\n",
      "{'Sophia': [100, 88]}\n"
     ]
    }
   ],
   "source": [
    "from copy import deepcopy\n",
    "dictionary_deepcopy = deepcopy(dictionary)\n",
    "dictionary['Sophia'][1] = 100\n",
    "print(dictionary)\n",
    "print(dictionary_deepcopy)"
   ]
  },
  {
   "cell_type": "markdown",
   "metadata": {
    "slideshow": {
     "slide_type": "slide"
    }
   },
   "source": [
    "## Miscellaneous Presentation Types with Formatted Strings\n",
    "* We previously introduced the notion of formatting strings `f'` to provide clean and coherent code and presentation\n",
    "* We'll briefly look at a few additional ways to present varying data types using formatting."
   ]
  },
  {
   "cell_type": "markdown",
   "metadata": {
    "slideshow": {
     "slide_type": "subslide"
    }
   },
   "source": [
    "### Decimals\n",
    "* Decimals can be presented with a particular precision using `.x` where _x_ is the desired level of precision\n",
    "* Use `.xf` for standard floating point representation, where _x_ defines the number of digits after the decimal point.\n",
    "* Use `.xe` for scientific notation, where _x_ defines the number of significant digits. "
   ]
  },
  {
   "cell_type": "code",
   "execution_count": 22,
   "metadata": {
    "slideshow": {
     "slide_type": "fragment"
    }
   },
   "outputs": [
    {
     "name": "stdout",
     "output_type": "stream",
     "text": [
      "173.474\n",
      "1.735e+02\n"
     ]
    }
   ],
   "source": [
    "myNum = 173.47359\n",
    "print(f'{myNum:.3f}') #floating point representation\n",
    "print(f'{myNum:.3e}') #scientific notation"
   ]
  },
  {
   "cell_type": "markdown",
   "metadata": {
    "slideshow": {
     "slide_type": "subslide"
    }
   },
   "source": [
    "### Integers\n",
    "* The default style of presentation for integers is decimal format (`d`)\n",
    "* Integers can alternatively be presented in binary (`b`), octal (`o`), or hexadecimal (`x`) format. \n",
    "* Unicode representations of given numbers can be obtained using `c`"
   ]
  },
  {
   "cell_type": "code",
   "execution_count": 23,
   "metadata": {
    "slideshow": {
     "slide_type": "fragment"
    }
   },
   "outputs": [
    {
     "name": "stdout",
     "output_type": "stream",
     "text": [
      "255\n",
      "11111111\n",
      "377\n",
      "ff\n"
     ]
    }
   ],
   "source": [
    "print(f'{255:d}') #decimal (default) format\n",
    "print(f'{255:b}') #binary format\n",
    "print(f'{255:o}') #octal format\n",
    "print(f'{255:x}') #hexadecimal format\n"
   ]
  },
  {
   "cell_type": "code",
   "execution_count": 24,
   "metadata": {
    "slideshow": {
     "slide_type": "fragment"
    }
   },
   "outputs": [
    {
     "name": "stdout",
     "output_type": "stream",
     "text": [
      "A\n",
      "a\n",
      "Ω\n"
     ]
    }
   ],
   "source": [
    "print(f'{65:c}') #Capital A \n",
    "print(f'{97:c}') #Lower-case A\n",
    "print(f'{937:c}') #Capital Omega"
   ]
  },
  {
   "cell_type": "markdown",
   "metadata": {
    "slideshow": {
     "slide_type": "subslide"
    }
   },
   "source": [
    "### Strings\n",
    "* If `s` specified explicitly, the value to format **must be a string**, an **expression that produces a string** or a **string literal**. \n",
    "* If you do not specify a presentation type, non-string values are converted to basic string representations."
   ]
  },
  {
   "cell_type": "code",
   "execution_count": 29,
   "metadata": {
    "slideshow": {
     "slide_type": "fragment"
    }
   },
   "outputs": [
    {
     "name": "stdout",
     "output_type": "stream",
     "text": [
      "hello 7\n"
     ]
    }
   ],
   "source": [
    "print(f'{\"hello\":s} {7}')"
   ]
  },
  {
   "cell_type": "code",
   "execution_count": null,
   "metadata": {
    "slideshow": {
     "slide_type": "fragment"
    }
   },
   "outputs": [],
   "source": [
    "print(f'{7:s}')"
   ]
  },
  {
   "cell_type": "markdown",
   "metadata": {
    "slideshow": {
     "slide_type": "subslide"
    }
   },
   "source": [
    "## Field Widths and Alignment for Numbers (Default Behavior)\n",
    "* Python **right-aligns numbers** and **left-aligns other values**.\n",
    "* Python formats `float` values with **up to six digits of precision** in these representations."
   ]
  },
  {
   "cell_type": "code",
   "execution_count": 30,
   "metadata": {
    "slideshow": {
     "slide_type": "fragment"
    }
   },
   "outputs": [
    {
     "name": "stdout",
     "output_type": "stream",
     "text": [
      "[                  27]\n"
     ]
    }
   ],
   "source": [
    "print(f'[{27:20d}]')"
   ]
  },
  {
   "cell_type": "code",
   "execution_count": 31,
   "metadata": {
    "slideshow": {
     "slide_type": "fragment"
    }
   },
   "outputs": [
    {
     "name": "stdout",
     "output_type": "stream",
     "text": [
      "[            3.500000]\n"
     ]
    }
   ],
   "source": [
    "print(f'[{3.5:20f}]')"
   ]
  },
  {
   "cell_type": "code",
   "execution_count": 32,
   "metadata": {
    "slideshow": {
     "slide_type": "fragment"
    }
   },
   "outputs": [
    {
     "name": "stdout",
     "output_type": "stream",
     "text": [
      "[hello               ]\n"
     ]
    }
   ],
   "source": [
    "print(f'[{\"hello\":20}]')"
   ]
  },
  {
   "cell_type": "markdown",
   "metadata": {
    "slideshow": {
     "slide_type": "subslide"
    }
   },
   "source": [
    "### Explicitly Specifying Left and Right Alignment in a Field \n",
    "* Can specify left alignment for any formatted string type using `<` \n",
    "* Similarly, can specify right alignment for any type using `>`"
   ]
  },
  {
   "cell_type": "code",
   "execution_count": 33,
   "metadata": {
    "scrolled": true,
    "slideshow": {
     "slide_type": "fragment"
    }
   },
   "outputs": [
    {
     "name": "stdout",
     "output_type": "stream",
     "text": [
      "[27             ]\n"
     ]
    }
   ],
   "source": [
    "print(f'[{27:<15d}]')"
   ]
  },
  {
   "cell_type": "code",
   "execution_count": 34,
   "metadata": {
    "slideshow": {
     "slide_type": "fragment"
    }
   },
   "outputs": [
    {
     "name": "stdout",
     "output_type": "stream",
     "text": [
      "[3.500000       ]\n"
     ]
    }
   ],
   "source": [
    "print(f'[{3.5:<15f}]')"
   ]
  },
  {
   "cell_type": "code",
   "execution_count": 35,
   "metadata": {
    "slideshow": {
     "slide_type": "fragment"
    }
   },
   "outputs": [
    {
     "name": "stdout",
     "output_type": "stream",
     "text": [
      "[          hello]\n"
     ]
    }
   ],
   "source": [
    "print(f'[{\"hello\":>15}]')"
   ]
  },
  {
   "cell_type": "markdown",
   "metadata": {
    "slideshow": {
     "slide_type": "subslide"
    }
   },
   "source": [
    "### Centering a Value in a Field \n",
    "* Formatted strings can be centered using `^` in lieu of `<` or `>`\n",
    "* Centering attempts to spread the remaining unoccupied character positions equally to the left and right of the formatted value\n",
    "* Python places the extra space to the right if an odd number of character positions remain"
   ]
  },
  {
   "cell_type": "code",
   "execution_count": 36,
   "metadata": {
    "slideshow": {
     "slide_type": "fragment"
    }
   },
   "outputs": [
    {
     "name": "stdout",
     "output_type": "stream",
     "text": [
      "[  27   ]\n"
     ]
    }
   ],
   "source": [
    "print(f'[{27:^7d}]')"
   ]
  },
  {
   "cell_type": "code",
   "execution_count": 38,
   "metadata": {
    "slideshow": {
     "slide_type": "fragment"
    }
   },
   "outputs": [
    {
     "name": "stdout",
     "output_type": "stream",
     "text": [
      "[ 3.500000 ]\n"
     ]
    }
   ],
   "source": [
    "print(f'[{3.5:^10f}]')"
   ]
  },
  {
   "cell_type": "code",
   "execution_count": null,
   "metadata": {
    "slideshow": {
     "slide_type": "fragment"
    }
   },
   "outputs": [],
   "source": [
    "print(f'[{\"hello\":^9}]')"
   ]
  },
  {
   "cell_type": "markdown",
   "metadata": {
    "slideshow": {
     "slide_type": "subslide"
    }
   },
   "source": [
    "### Other Numeric Formatting\n",
    "* A `+` before the field width specifies that a positive number should be preceded by a `+`\n",
    "* To fill the remaining characters of the field with `0`s rather than spaces, place a `0` before the field width (and **after** the `+` if there is one)\n",
    "* Add an extra space (instead of a `+`) to include a space prior to positive numbers (so that they take up as much width as the negative equivalent)\n",
    "* Format numbers with **thousands separators** by using a **comma (`,`)**"
   ]
  },
  {
   "cell_type": "code",
   "execution_count": 39,
   "metadata": {
    "slideshow": {
     "slide_type": "subslide"
    }
   },
   "outputs": [
    {
     "name": "stdout",
     "output_type": "stream",
     "text": [
      "[       +27]\n"
     ]
    }
   ],
   "source": [
    "print(f'[{27:+10d}]')"
   ]
  },
  {
   "cell_type": "code",
   "execution_count": 40,
   "metadata": {
    "slideshow": {
     "slide_type": "fragment"
    }
   },
   "outputs": [
    {
     "name": "stdout",
     "output_type": "stream",
     "text": [
      "[+000000027]\n"
     ]
    }
   ],
   "source": [
    "print(f'[{27:+010d}]')"
   ]
  },
  {
   "cell_type": "code",
   "execution_count": 41,
   "metadata": {
    "slideshow": {
     "slide_type": "fragment"
    }
   },
   "outputs": [
    {
     "name": "stdout",
     "output_type": "stream",
     "text": [
      "[-000000027]\n"
     ]
    }
   ],
   "source": [
    "print(f'[{-27:+010d}]')"
   ]
  },
  {
   "cell_type": "code",
   "execution_count": 42,
   "metadata": {
    "slideshow": {
     "slide_type": "fragment"
    }
   },
   "outputs": [
    {
     "name": "stdout",
     "output_type": "stream",
     "text": [
      "[ 000000027]\n"
     ]
    }
   ],
   "source": [
    "print(f'[{27: 010d}]')"
   ]
  },
  {
   "cell_type": "code",
   "execution_count": 43,
   "metadata": {
    "slideshow": {
     "slide_type": "fragment"
    }
   },
   "outputs": [
    {
     "name": "stdout",
     "output_type": "stream",
     "text": [
      "12,345,678\n"
     ]
    }
   ],
   "source": [
    "print(f'{12345678:,d}')"
   ]
  }
 ],
 "metadata": {
  "celltoolbar": "Slideshow",
  "kernelspec": {
   "display_name": "Python 3 (ipykernel)",
   "language": "python",
   "name": "python3"
  },
  "language_info": {
   "codemirror_mode": {
    "name": "ipython",
    "version": 3
   },
   "file_extension": ".py",
   "mimetype": "text/x-python",
   "name": "python",
   "nbconvert_exporter": "python",
   "pygments_lexer": "ipython3",
   "version": "3.9.7"
  }
 },
 "nbformat": 4,
 "nbformat_minor": 4
}
